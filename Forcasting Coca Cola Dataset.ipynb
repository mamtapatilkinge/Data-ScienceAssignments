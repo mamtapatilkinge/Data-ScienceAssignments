{
 "cells": [
  {
   "cell_type": "markdown",
   "id": "e363fd91",
   "metadata": {},
   "source": [
    "# Forecasting Assignment (Coca Cola dataset)"
   ]
  },
  {
   "cell_type": "markdown",
   "id": "889e111b",
   "metadata": {},
   "source": [
    "Forecast the CocaCola prices and Airlines Passengers data set. Prepare a document for each model explaining\n",
    "how many dummy variables you have created and RMSE value for each model. Finally which model you will use for\n",
    "Forecasting."
   ]
  },
  {
   "cell_type": "code",
   "execution_count": 1,
   "id": "d34a3b7a",
   "metadata": {},
   "outputs": [
    {
     "name": "stdout",
     "output_type": "stream",
     "text": [
      "Defaulting to user installation because normal site-packages is not writeable\n",
      "Requirement already satisfied: xlrd in c:\\programdata\\anaconda3\\lib\\site-packages (2.0.1)\n",
      "Defaulting to user installation because normal site-packages is not writeable\n",
      "Requirement already satisfied: openpyxl in c:\\programdata\\anaconda3\\lib\\site-packages (3.0.9)\n",
      "Requirement already satisfied: et-xmlfile in c:\\programdata\\anaconda3\\lib\\site-packages (from openpyxl) (1.1.0)\n",
      "Defaulting to user installation because normal site-packages is not writeable\n",
      "Requirement already satisfied: statsmodels in c:\\programdata\\anaconda3\\lib\\site-packages (0.13.2)\n",
      "Requirement already satisfied: numpy>=1.17 in c:\\programdata\\anaconda3\\lib\\site-packages (from statsmodels) (1.21.5)\n",
      "Requirement already satisfied: scipy>=1.3 in c:\\programdata\\anaconda3\\lib\\site-packages (from statsmodels) (1.7.3)\n",
      "Requirement already satisfied: pandas>=0.25 in c:\\programdata\\anaconda3\\lib\\site-packages (from statsmodels) (1.4.2)\n",
      "Requirement already satisfied: patsy>=0.5.2 in c:\\programdata\\anaconda3\\lib\\site-packages (from statsmodels) (0.5.2)\n",
      "Requirement already satisfied: packaging>=21.3 in c:\\programdata\\anaconda3\\lib\\site-packages (from statsmodels) (21.3)\n",
      "Requirement already satisfied: pyparsing!=3.0.5,>=2.0.2 in c:\\programdata\\anaconda3\\lib\\site-packages (from packaging>=21.3->statsmodels) (3.0.4)\n",
      "Requirement already satisfied: python-dateutil>=2.8.1 in c:\\programdata\\anaconda3\\lib\\site-packages (from pandas>=0.25->statsmodels) (2.8.2)\n",
      "Requirement already satisfied: pytz>=2020.1 in c:\\programdata\\anaconda3\\lib\\site-packages (from pandas>=0.25->statsmodels) (2021.3)\n",
      "Requirement already satisfied: six in c:\\programdata\\anaconda3\\lib\\site-packages (from patsy>=0.5.2->statsmodels) (1.16.0)\n"
     ]
    }
   ],
   "source": [
    "!pip install xlrd\n",
    "! pip install openpyxl\n",
    "! pip install statsmodels"
   ]
  },
  {
   "cell_type": "code",
   "execution_count": 2,
   "id": "1d779eec",
   "metadata": {},
   "outputs": [],
   "source": [
    "import pandas as pd       # For mathematical calculations \n",
    "import warnings                   # To ignore the warnings\n",
    "warnings.filterwarnings(\"ignore\")"
   ]
  },
  {
   "cell_type": "code",
   "execution_count": 5,
   "id": "fee7848f",
   "metadata": {},
   "outputs": [
    {
     "data": {
      "text/html": [
       "<div>\n",
       "<style scoped>\n",
       "    .dataframe tbody tr th:only-of-type {\n",
       "        vertical-align: middle;\n",
       "    }\n",
       "\n",
       "    .dataframe tbody tr th {\n",
       "        vertical-align: top;\n",
       "    }\n",
       "\n",
       "    .dataframe thead th {\n",
       "        text-align: right;\n",
       "    }\n",
       "</style>\n",
       "<table border=\"1\" class=\"dataframe\">\n",
       "  <thead>\n",
       "    <tr style=\"text-align: right;\">\n",
       "      <th></th>\n",
       "      <th>Quarter</th>\n",
       "      <th>Sales</th>\n",
       "    </tr>\n",
       "  </thead>\n",
       "  <tbody>\n",
       "    <tr>\n",
       "      <th>0</th>\n",
       "      <td>Q1_86</td>\n",
       "      <td>1734.827000</td>\n",
       "    </tr>\n",
       "    <tr>\n",
       "      <th>1</th>\n",
       "      <td>Q2_86</td>\n",
       "      <td>2244.960999</td>\n",
       "    </tr>\n",
       "    <tr>\n",
       "      <th>2</th>\n",
       "      <td>Q3_86</td>\n",
       "      <td>2533.804993</td>\n",
       "    </tr>\n",
       "    <tr>\n",
       "      <th>3</th>\n",
       "      <td>Q4_86</td>\n",
       "      <td>2154.962997</td>\n",
       "    </tr>\n",
       "    <tr>\n",
       "      <th>4</th>\n",
       "      <td>Q1_87</td>\n",
       "      <td>1547.818996</td>\n",
       "    </tr>\n",
       "    <tr>\n",
       "      <th>5</th>\n",
       "      <td>Q2_87</td>\n",
       "      <td>2104.411995</td>\n",
       "    </tr>\n",
       "    <tr>\n",
       "      <th>6</th>\n",
       "      <td>Q3_87</td>\n",
       "      <td>2014.362999</td>\n",
       "    </tr>\n",
       "    <tr>\n",
       "      <th>7</th>\n",
       "      <td>Q4_87</td>\n",
       "      <td>1991.746998</td>\n",
       "    </tr>\n",
       "    <tr>\n",
       "      <th>8</th>\n",
       "      <td>Q1_88</td>\n",
       "      <td>1869.049999</td>\n",
       "    </tr>\n",
       "    <tr>\n",
       "      <th>9</th>\n",
       "      <td>Q2_88</td>\n",
       "      <td>2313.631996</td>\n",
       "    </tr>\n",
       "    <tr>\n",
       "      <th>10</th>\n",
       "      <td>Q3_88</td>\n",
       "      <td>2128.320000</td>\n",
       "    </tr>\n",
       "    <tr>\n",
       "      <th>11</th>\n",
       "      <td>Q4_88</td>\n",
       "      <td>2026.828999</td>\n",
       "    </tr>\n",
       "    <tr>\n",
       "      <th>12</th>\n",
       "      <td>Q1_89</td>\n",
       "      <td>1910.603996</td>\n",
       "    </tr>\n",
       "    <tr>\n",
       "      <th>13</th>\n",
       "      <td>Q2_89</td>\n",
       "      <td>2331.164993</td>\n",
       "    </tr>\n",
       "    <tr>\n",
       "      <th>14</th>\n",
       "      <td>Q3_89</td>\n",
       "      <td>2206.549995</td>\n",
       "    </tr>\n",
       "    <tr>\n",
       "      <th>15</th>\n",
       "      <td>Q4_89</td>\n",
       "      <td>2173.967995</td>\n",
       "    </tr>\n",
       "    <tr>\n",
       "      <th>16</th>\n",
       "      <td>Q1_90</td>\n",
       "      <td>2148.278000</td>\n",
       "    </tr>\n",
       "    <tr>\n",
       "      <th>17</th>\n",
       "      <td>Q2_90</td>\n",
       "      <td>2739.307999</td>\n",
       "    </tr>\n",
       "    <tr>\n",
       "      <th>18</th>\n",
       "      <td>Q3_90</td>\n",
       "      <td>2792.753998</td>\n",
       "    </tr>\n",
       "    <tr>\n",
       "      <th>19</th>\n",
       "      <td>Q4_90</td>\n",
       "      <td>2556.009995</td>\n",
       "    </tr>\n",
       "    <tr>\n",
       "      <th>20</th>\n",
       "      <td>Q1_91</td>\n",
       "      <td>2480.973999</td>\n",
       "    </tr>\n",
       "    <tr>\n",
       "      <th>21</th>\n",
       "      <td>Q2_91</td>\n",
       "      <td>3039.522995</td>\n",
       "    </tr>\n",
       "    <tr>\n",
       "      <th>22</th>\n",
       "      <td>Q3_91</td>\n",
       "      <td>3172.115997</td>\n",
       "    </tr>\n",
       "    <tr>\n",
       "      <th>23</th>\n",
       "      <td>Q4_91</td>\n",
       "      <td>2879.000999</td>\n",
       "    </tr>\n",
       "    <tr>\n",
       "      <th>24</th>\n",
       "      <td>Q1_92</td>\n",
       "      <td>2772.000000</td>\n",
       "    </tr>\n",
       "    <tr>\n",
       "      <th>25</th>\n",
       "      <td>Q2_92</td>\n",
       "      <td>3550.000000</td>\n",
       "    </tr>\n",
       "    <tr>\n",
       "      <th>26</th>\n",
       "      <td>Q3_92</td>\n",
       "      <td>3508.000000</td>\n",
       "    </tr>\n",
       "    <tr>\n",
       "      <th>27</th>\n",
       "      <td>Q4_92</td>\n",
       "      <td>3243.859993</td>\n",
       "    </tr>\n",
       "    <tr>\n",
       "      <th>28</th>\n",
       "      <td>Q1_93</td>\n",
       "      <td>3056.000000</td>\n",
       "    </tr>\n",
       "    <tr>\n",
       "      <th>29</th>\n",
       "      <td>Q2_93</td>\n",
       "      <td>3899.000000</td>\n",
       "    </tr>\n",
       "    <tr>\n",
       "      <th>30</th>\n",
       "      <td>Q3_93</td>\n",
       "      <td>3629.000000</td>\n",
       "    </tr>\n",
       "    <tr>\n",
       "      <th>31</th>\n",
       "      <td>Q4_93</td>\n",
       "      <td>3373.000000</td>\n",
       "    </tr>\n",
       "    <tr>\n",
       "      <th>32</th>\n",
       "      <td>Q1_94</td>\n",
       "      <td>3352.000000</td>\n",
       "    </tr>\n",
       "    <tr>\n",
       "      <th>33</th>\n",
       "      <td>Q2_94</td>\n",
       "      <td>4342.000000</td>\n",
       "    </tr>\n",
       "    <tr>\n",
       "      <th>34</th>\n",
       "      <td>Q3_94</td>\n",
       "      <td>4461.000000</td>\n",
       "    </tr>\n",
       "    <tr>\n",
       "      <th>35</th>\n",
       "      <td>Q4_94</td>\n",
       "      <td>4017.000000</td>\n",
       "    </tr>\n",
       "    <tr>\n",
       "      <th>36</th>\n",
       "      <td>Q1_95</td>\n",
       "      <td>3854.000000</td>\n",
       "    </tr>\n",
       "    <tr>\n",
       "      <th>37</th>\n",
       "      <td>Q2_95</td>\n",
       "      <td>4936.000000</td>\n",
       "    </tr>\n",
       "    <tr>\n",
       "      <th>38</th>\n",
       "      <td>Q3_95</td>\n",
       "      <td>4895.000000</td>\n",
       "    </tr>\n",
       "    <tr>\n",
       "      <th>39</th>\n",
       "      <td>Q4_95</td>\n",
       "      <td>4333.000000</td>\n",
       "    </tr>\n",
       "    <tr>\n",
       "      <th>40</th>\n",
       "      <td>Q1_96</td>\n",
       "      <td>4194.000000</td>\n",
       "    </tr>\n",
       "    <tr>\n",
       "      <th>41</th>\n",
       "      <td>Q2_96</td>\n",
       "      <td>5253.000000</td>\n",
       "    </tr>\n",
       "  </tbody>\n",
       "</table>\n",
       "</div>"
      ],
      "text/plain": [
       "   Quarter        Sales\n",
       "0    Q1_86  1734.827000\n",
       "1    Q2_86  2244.960999\n",
       "2    Q3_86  2533.804993\n",
       "3    Q4_86  2154.962997\n",
       "4    Q1_87  1547.818996\n",
       "5    Q2_87  2104.411995\n",
       "6    Q3_87  2014.362999\n",
       "7    Q4_87  1991.746998\n",
       "8    Q1_88  1869.049999\n",
       "9    Q2_88  2313.631996\n",
       "10   Q3_88  2128.320000\n",
       "11   Q4_88  2026.828999\n",
       "12   Q1_89  1910.603996\n",
       "13   Q2_89  2331.164993\n",
       "14   Q3_89  2206.549995\n",
       "15   Q4_89  2173.967995\n",
       "16   Q1_90  2148.278000\n",
       "17   Q2_90  2739.307999\n",
       "18   Q3_90  2792.753998\n",
       "19   Q4_90  2556.009995\n",
       "20   Q1_91  2480.973999\n",
       "21   Q2_91  3039.522995\n",
       "22   Q3_91  3172.115997\n",
       "23   Q4_91  2879.000999\n",
       "24   Q1_92  2772.000000\n",
       "25   Q2_92  3550.000000\n",
       "26   Q3_92  3508.000000\n",
       "27   Q4_92  3243.859993\n",
       "28   Q1_93  3056.000000\n",
       "29   Q2_93  3899.000000\n",
       "30   Q3_93  3629.000000\n",
       "31   Q4_93  3373.000000\n",
       "32   Q1_94  3352.000000\n",
       "33   Q2_94  4342.000000\n",
       "34   Q3_94  4461.000000\n",
       "35   Q4_94  4017.000000\n",
       "36   Q1_95  3854.000000\n",
       "37   Q2_95  4936.000000\n",
       "38   Q3_95  4895.000000\n",
       "39   Q4_95  4333.000000\n",
       "40   Q1_96  4194.000000\n",
       "41   Q2_96  5253.000000"
      ]
     },
     "execution_count": 5,
     "metadata": {},
     "output_type": "execute_result"
    }
   ],
   "source": [
    "cc = pd.read_excel(\"D:/Forecasting/CocaCola_Sales_Rawdata.xlsx\")\n",
    "cc"
   ]
  },
  {
   "cell_type": "code",
   "execution_count": null,
   "id": "2fbe4cb7",
   "metadata": {},
   "outputs": [],
   "source": [
    "# EDA\n"
   ]
  },
  {
   "cell_type": "code",
   "execution_count": 6,
   "id": "68a17a07",
   "metadata": {},
   "outputs": [
    {
     "data": {
      "text/plain": [
       "(42, 2)"
      ]
     },
     "execution_count": 6,
     "metadata": {},
     "output_type": "execute_result"
    }
   ],
   "source": [
    "cc.shape    # Rows and columns"
   ]
  },
  {
   "cell_type": "code",
   "execution_count": 7,
   "id": "4a6b93d7",
   "metadata": {},
   "outputs": [
    {
     "data": {
      "text/plain": [
       "Index(['Quarter', 'Sales'], dtype='object')"
      ]
     },
     "execution_count": 7,
     "metadata": {},
     "output_type": "execute_result"
    }
   ],
   "source": [
    "cc.columns     # columns"
   ]
  },
  {
   "cell_type": "code",
   "execution_count": 8,
   "id": "50af02cb",
   "metadata": {},
   "outputs": [],
   "source": [
    "# Rename columns\n",
    "cc.columns = ['quar', 'sale']"
   ]
  },
  {
   "cell_type": "code",
   "execution_count": 9,
   "id": "8f234692",
   "metadata": {},
   "outputs": [
    {
     "data": {
      "text/plain": [
       "Index(['quar', 'sale'], dtype='object')"
      ]
     },
     "execution_count": 9,
     "metadata": {},
     "output_type": "execute_result"
    }
   ],
   "source": [
    "cc.columns   # Check colum names"
   ]
  },
  {
   "cell_type": "code",
   "execution_count": 10,
   "id": "0979662b",
   "metadata": {},
   "outputs": [
    {
     "data": {
      "text/plain": [
       "RangeIndex(start=0, stop=42, step=1)"
      ]
     },
     "execution_count": 10,
     "metadata": {},
     "output_type": "execute_result"
    }
   ],
   "source": [
    "cc.index     # Rows"
   ]
  },
  {
   "cell_type": "code",
   "execution_count": 11,
   "id": "0844d5e7",
   "metadata": {},
   "outputs": [
    {
     "name": "stdout",
     "output_type": "stream",
     "text": [
      "<class 'pandas.core.frame.DataFrame'>\n",
      "RangeIndex: 42 entries, 0 to 41\n",
      "Data columns (total 2 columns):\n",
      " #   Column  Non-Null Count  Dtype  \n",
      "---  ------  --------------  -----  \n",
      " 0   quar    42 non-null     object \n",
      " 1   sale    42 non-null     float64\n",
      "dtypes: float64(1), object(1)\n",
      "memory usage: 800.0+ bytes\n"
     ]
    }
   ],
   "source": [
    "cc.info()    # Data types and null values"
   ]
  },
  {
   "cell_type": "code",
   "execution_count": 12,
   "id": "c14b2b40",
   "metadata": {},
   "outputs": [
    {
     "data": {
      "text/html": [
       "<div>\n",
       "<style scoped>\n",
       "    .dataframe tbody tr th:only-of-type {\n",
       "        vertical-align: middle;\n",
       "    }\n",
       "\n",
       "    .dataframe tbody tr th {\n",
       "        vertical-align: top;\n",
       "    }\n",
       "\n",
       "    .dataframe thead th {\n",
       "        text-align: right;\n",
       "    }\n",
       "</style>\n",
       "<table border=\"1\" class=\"dataframe\">\n",
       "  <thead>\n",
       "    <tr style=\"text-align: right;\">\n",
       "      <th></th>\n",
       "      <th>sale</th>\n",
       "    </tr>\n",
       "  </thead>\n",
       "  <tbody>\n",
       "    <tr>\n",
       "      <th>count</th>\n",
       "      <td>42.000000</td>\n",
       "    </tr>\n",
       "    <tr>\n",
       "      <th>mean</th>\n",
       "      <td>2994.353308</td>\n",
       "    </tr>\n",
       "    <tr>\n",
       "      <th>std</th>\n",
       "      <td>977.930896</td>\n",
       "    </tr>\n",
       "    <tr>\n",
       "      <th>min</th>\n",
       "      <td>1547.818996</td>\n",
       "    </tr>\n",
       "    <tr>\n",
       "      <th>25%</th>\n",
       "      <td>2159.714247</td>\n",
       "    </tr>\n",
       "    <tr>\n",
       "      <th>50%</th>\n",
       "      <td>2782.376999</td>\n",
       "    </tr>\n",
       "    <tr>\n",
       "      <th>75%</th>\n",
       "      <td>3609.250000</td>\n",
       "    </tr>\n",
       "    <tr>\n",
       "      <th>max</th>\n",
       "      <td>5253.000000</td>\n",
       "    </tr>\n",
       "  </tbody>\n",
       "</table>\n",
       "</div>"
      ],
      "text/plain": [
       "              sale\n",
       "count    42.000000\n",
       "mean   2994.353308\n",
       "std     977.930896\n",
       "min    1547.818996\n",
       "25%    2159.714247\n",
       "50%    2782.376999\n",
       "75%    3609.250000\n",
       "max    5253.000000"
      ]
     },
     "execution_count": 12,
     "metadata": {},
     "output_type": "execute_result"
    }
   ],
   "source": [
    "cc.describe()   # Discripttive statistics "
   ]
  },
  {
   "cell_type": "code",
   "execution_count": 13,
   "id": "24e6c5bd",
   "metadata": {},
   "outputs": [
    {
     "data": {
      "text/plain": [
       "quar    0\n",
       "sale    0\n",
       "dtype: int64"
      ]
     },
     "execution_count": 13,
     "metadata": {},
     "output_type": "execute_result"
    }
   ],
   "source": [
    "cc.isna().sum()   # Checking null values, there is no null values present in given dataset"
   ]
  },
  {
   "cell_type": "code",
   "execution_count": 14,
   "id": "2a2a4603",
   "metadata": {},
   "outputs": [
    {
     "name": "stdout",
     "output_type": "stream",
     "text": [
      "['Q1_86' 'Q2_86' 'Q3_86' 'Q4_86' 'Q1_87' 'Q2_87' 'Q3_87' 'Q4_87' 'Q1_88'\n",
      " 'Q2_88' 'Q3_88' 'Q4_88' 'Q1_89' 'Q2_89' 'Q3_89' 'Q4_89' 'Q1_90' 'Q2_90'\n",
      " 'Q3_90' 'Q4_90' 'Q1_91' 'Q2_91' 'Q3_91' 'Q4_91' 'Q1_92' 'Q2_92' 'Q3_92'\n",
      " 'Q4_92' 'Q1_93' 'Q2_93' 'Q3_93' 'Q4_93' 'Q1_94' 'Q2_94' 'Q3_94' 'Q4_94'\n",
      " 'Q1_95' 'Q2_95' 'Q3_95' 'Q4_95' 'Q1_96' 'Q2_96']\n",
      "[1734.82699966 2244.96099854 2533.80499268 2154.96299744 1547.81899643\n",
      " 2104.41199493 2014.36299896 1991.74699783 1869.04999924 2313.63199615\n",
      " 2128.31999969 2026.82899857 1910.60399628 2331.16499329 2206.54999542\n",
      " 2173.96799469 2148.27799988 2739.30799866 2792.7539978  2556.00999451\n",
      " 2480.97399902 3039.522995   3172.11599731 2879.00099945 2772.\n",
      " 3550.         3508.         3243.85999298 3056.         3899.\n",
      " 3629.         3373.         3352.         4342.         4461.\n",
      " 4017.         3854.         4936.         4895.         4333.\n",
      " 4194.         5253.        ]\n"
     ]
    }
   ],
   "source": [
    "print(cc['quar'].unique())\n",
    "print(cc['sale'].unique())"
   ]
  },
  {
   "cell_type": "code",
   "execution_count": 15,
   "id": "ac63f476",
   "metadata": {},
   "outputs": [],
   "source": [
    "# print(cc['quar'].value_counts())\n",
    "# print(cc['sale'].value_counts())"
   ]
  },
  {
   "cell_type": "code",
   "execution_count": 16,
   "id": "aa937f45",
   "metadata": {},
   "outputs": [
    {
     "data": {
      "text/html": [
       "<div>\n",
       "<style scoped>\n",
       "    .dataframe tbody tr th:only-of-type {\n",
       "        vertical-align: middle;\n",
       "    }\n",
       "\n",
       "    .dataframe tbody tr th {\n",
       "        vertical-align: top;\n",
       "    }\n",
       "\n",
       "    .dataframe thead th {\n",
       "        text-align: right;\n",
       "    }\n",
       "</style>\n",
       "<table border=\"1\" class=\"dataframe\">\n",
       "  <thead>\n",
       "    <tr style=\"text-align: right;\">\n",
       "      <th></th>\n",
       "      <th>quar</th>\n",
       "      <th>sale</th>\n",
       "    </tr>\n",
       "  </thead>\n",
       "  <tbody>\n",
       "  </tbody>\n",
       "</table>\n",
       "</div>"
      ],
      "text/plain": [
       "Empty DataFrame\n",
       "Columns: [quar, sale]\n",
       "Index: []"
      ]
     },
     "execution_count": 16,
     "metadata": {},
     "output_type": "execute_result"
    }
   ],
   "source": [
    "cc[cc.duplicated()]   # In this dataset very few duplicate values, it may not effect major on prediction."
   ]
  },
  {
   "cell_type": "code",
   "execution_count": 17,
   "id": "7081563b",
   "metadata": {},
   "outputs": [
    {
     "data": {
      "text/html": [
       "<div>\n",
       "<style scoped>\n",
       "    .dataframe tbody tr th:only-of-type {\n",
       "        vertical-align: middle;\n",
       "    }\n",
       "\n",
       "    .dataframe tbody tr th {\n",
       "        vertical-align: top;\n",
       "    }\n",
       "\n",
       "    .dataframe thead th {\n",
       "        text-align: right;\n",
       "    }\n",
       "</style>\n",
       "<table border=\"1\" class=\"dataframe\">\n",
       "  <thead>\n",
       "    <tr style=\"text-align: right;\">\n",
       "      <th></th>\n",
       "      <th>sale</th>\n",
       "    </tr>\n",
       "  </thead>\n",
       "  <tbody>\n",
       "    <tr>\n",
       "      <th>sale</th>\n",
       "      <td>1.0</td>\n",
       "    </tr>\n",
       "  </tbody>\n",
       "</table>\n",
       "</div>"
      ],
      "text/plain": [
       "      sale\n",
       "sale   1.0"
      ]
     },
     "execution_count": 17,
     "metadata": {},
     "output_type": "execute_result"
    }
   ],
   "source": [
    "cc.corr()"
   ]
  },
  {
   "cell_type": "markdown",
   "id": "dbbd7bf1",
   "metadata": {},
   "source": [
    "## Visualization"
   ]
  },
  {
   "cell_type": "code",
   "execution_count": 18,
   "id": "1b18b4cb",
   "metadata": {},
   "outputs": [],
   "source": [
    "# For plotting graphs\n",
    "import matplotlib.pyplot as plt\n",
    "import seaborn as sns"
   ]
  },
  {
   "cell_type": "code",
   "execution_count": 19,
   "id": "9dae4502",
   "metadata": {},
   "outputs": [
    {
     "data": {
      "image/png": "[encoded data removed]",
      "text/plain": [
       "<Figure size 432x288 with 2 Axes>"
      ]
     },
     "metadata": {
      "needs_background": "light"
     },
     "output_type": "display_data"
    }
   ],
   "source": [
    "plt.subplot(1,2,1)\n",
    "sns.boxplot(x = 'sale', data = cc);plt.title(\"Box Plot\")\n",
    "plt.subplot(1,2,2)\n",
    "sns.countplot( x = 'quar', data = cc);plt.title(\"Count Plot\")\n",
    "plt.show()"
   ]
  },
  {
   "cell_type": "code",
   "execution_count": 20,
   "id": "8e27f754",
   "metadata": {},
   "outputs": [
    {
     "data": {
      "image/png": "[encoded data removed]",
      "text/plain": [
       "<Figure size 432x288 with 2 Axes>"
      ]
     },
     "metadata": {
      "needs_background": "light"
     },
     "output_type": "display_data"
    }
   ],
   "source": [
    "plt.subplot(1,2,1)\n",
    "sns.violinplot(x = 'sale', data = cc);plt.title(\"Violin Plot\")\n",
    "plt.subplot(1,2,2)\n",
    "sns.swarmplot( x = 'quar', data = cc);plt.title(\"Swarm Plot\")\n",
    "plt.show()"
   ]
  },
  {
   "cell_type": "code",
   "execution_count": 21,
   "id": "e74f1568",
   "metadata": {},
   "outputs": [
    {
     "data": {
      "image/png": "[encoded data removed]",
      "text/plain": [
       "<Figure size 432x288 with 2 Axes>"
      ]
     },
     "metadata": {
      "needs_background": "light"
     },
     "output_type": "display_data"
    }
   ],
   "source": [
    "# Strip plot AND swarm plot will draw a scatterplot where one variable is categorical.\n",
    "plt.subplot(1,2,1)\n",
    "sns.stripplot(x = 'quar',y = 'sale', data = cc);plt.title(\"Strip Plot\")\n",
    "plt.subplot(1,2,2)\n",
    "sns.swarmplot( x = 'quar',y = 'sale', data = cc);plt.title(\"Swarm Plot\")\n",
    "plt.show()"
   ]
  },
  {
   "cell_type": "code",
   "execution_count": 22,
   "id": "e738d469",
   "metadata": {},
   "outputs": [
    {
     "data": {
      "image/png": "[encoded data removed]",
      "text/plain": [
       "<Figure size 432x288 with 1 Axes>"
      ]
     },
     "metadata": {
      "needs_background": "light"
     },
     "output_type": "display_data"
    }
   ],
   "source": [
    "# Boxplot for outlier detection\n",
    "plt.boxplot(cc['sale']); plt.title(\"Boxplot (sale)\")\n",
    "plt.show()"
   ]
  },
  {
   "cell_type": "code",
   "execution_count": 23,
   "id": "b4b78abf",
   "metadata": {},
   "outputs": [
    {
     "data": {
      "image/png": "[encoded data removed]",
      "text/plain": [
       "<Figure size 432x288 with 1 Axes>"
      ]
     },
     "metadata": {
      "needs_background": "light"
     },
     "output_type": "display_data"
    }
   ],
   "source": [
    "from pandas.plotting import lag_plot\n",
    "lag_plot(cc['sale'] ) # Lag plot show relationship betweeen two variables\n",
    "plt.title(\"Lag Plot\", size = 20, y= 1)\n",
    "plt.show()"
   ]
  },
  {
   "cell_type": "code",
   "execution_count": 24,
   "id": "1fd2a7ba",
   "metadata": {},
   "outputs": [
    {
     "data": {
      "image/png": "[encoded data removed]",
      "text/plain": [
       "<Figure size 432x288 with 1 Axes>"
      ]
     },
     "metadata": {
      "needs_background": "light"
     },
     "output_type": "display_data"
    }
   ],
   "source": [
    "cc.groupby('quar')['sale'].mean().plot.bar(); plt.title(\"Group vice-Barplot\")\n",
    "plt.show()"
   ]
  },
  {
   "cell_type": "code",
   "execution_count": 25,
   "id": "8c14195b",
   "metadata": {},
   "outputs": [
    {
     "data": {
      "image/png": "[encoded data removed]",
      "text/plain": [
       "<Figure size 432x288 with 1 Axes>"
      ]
     },
     "metadata": {
      "needs_background": "light"
     },
     "output_type": "display_data"
    }
   ],
   "source": [
    "plt.hist( x = 'sale', data = cc);plt.title(\"Histogram\")  # Histogram represents skewness and distribution of data\n",
    "plt.show()"
   ]
  },
  {
   "cell_type": "code",
   "execution_count": 26,
   "id": "ebd4c4c3",
   "metadata": {},
   "outputs": [
    {
     "data": {
      "image/png": "[encoded data removed]",
      "text/plain": [
       "<Figure size 432x288 with 1 Axes>"
      ]
     },
     "metadata": {
      "needs_background": "light"
     },
     "output_type": "display_data"
    }
   ],
   "source": [
    "sns.distplot(x = cc.sale);plt.xlabel('Sales');plt.title(\"Density Plot\")  # Shows the Distribution of data\n",
    "plt.show()  # oR cc.plot(kind=\"kde\")"
   ]
  },
  {
   "cell_type": "code",
   "execution_count": 27,
   "id": "8a19b3fe",
   "metadata": {},
   "outputs": [
    {
     "data": {
      "image/png": "[encoded data removed]",
      "text/plain": [
       "<Figure size 432x288 with 1 Axes>"
      ]
     },
     "metadata": {},
     "output_type": "display_data"
    }
   ],
   "source": [
    "sns.set_theme()\n",
    "rk= sns.distplot(cc['sale'],kde=True)"
   ]
  },
  {
   "cell_type": "code",
   "execution_count": 28,
   "id": "6cbfbdc6",
   "metadata": {},
   "outputs": [
    {
     "data": {
      "image/png": "[encoded data removed]",
      "text/plain": [
       "<Figure size 1440x576 with 1 Axes>"
      ]
     },
     "metadata": {},
     "output_type": "display_data"
    }
   ],
   "source": [
    "cc.plot(figsize = (20,8), color = 'red', marker ='o')\n",
    "plt.show()"
   ]
  },
  {
   "cell_type": "markdown",
   "id": "53dd9b19",
   "metadata": {},
   "source": [
    "## Feature Engineering\n",
    "\n",
    "\n",
    "### Converting the Quarters into Years"
   ]
  },
  {
   "cell_type": "code",
   "execution_count": 29,
   "id": "a4acdc7d",
   "metadata": {},
   "outputs": [
    {
     "data": {
      "text/html": [
       "<div>\n",
       "<style scoped>\n",
       "    .dataframe tbody tr th:only-of-type {\n",
       "        vertical-align: middle;\n",
       "    }\n",
       "\n",
       "    .dataframe tbody tr th {\n",
       "        vertical-align: top;\n",
       "    }\n",
       "\n",
       "    .dataframe thead th {\n",
       "        text-align: right;\n",
       "    }\n",
       "</style>\n",
       "<table border=\"1\" class=\"dataframe\">\n",
       "  <thead>\n",
       "    <tr style=\"text-align: right;\">\n",
       "      <th></th>\n",
       "      <th>quar</th>\n",
       "      <th>sale</th>\n",
       "      <th>quarter_year</th>\n",
       "    </tr>\n",
       "  </thead>\n",
       "  <tbody>\n",
       "    <tr>\n",
       "      <th>0</th>\n",
       "      <td>Q1_86</td>\n",
       "      <td>1734.827000</td>\n",
       "      <td>Q1 1986</td>\n",
       "    </tr>\n",
       "    <tr>\n",
       "      <th>1</th>\n",
       "      <td>Q2_86</td>\n",
       "      <td>2244.960999</td>\n",
       "      <td>Q2 1986</td>\n",
       "    </tr>\n",
       "    <tr>\n",
       "      <th>2</th>\n",
       "      <td>Q3_86</td>\n",
       "      <td>2533.804993</td>\n",
       "      <td>Q3 1986</td>\n",
       "    </tr>\n",
       "    <tr>\n",
       "      <th>3</th>\n",
       "      <td>Q4_86</td>\n",
       "      <td>2154.962997</td>\n",
       "      <td>Q4 1986</td>\n",
       "    </tr>\n",
       "    <tr>\n",
       "      <th>4</th>\n",
       "      <td>Q1_87</td>\n",
       "      <td>1547.818996</td>\n",
       "      <td>Q1 1987</td>\n",
       "    </tr>\n",
       "  </tbody>\n",
       "</table>\n",
       "</div>"
      ],
      "text/plain": [
       "    quar         sale quarter_year\n",
       "0  Q1_86  1734.827000      Q1 1986\n",
       "1  Q2_86  2244.960999      Q2 1986\n",
       "2  Q3_86  2533.804993      Q3 1986\n",
       "3  Q4_86  2154.962997      Q4 1986\n",
       "4  Q1_87  1547.818996      Q1 1987"
      ]
     },
     "execution_count": 29,
     "metadata": {},
     "output_type": "execute_result"
    }
   ],
   "source": [
    "cc['quarter_year'] = cc['quar'].str.split('_').apply(lambda x : ' 19'.join(x[:]))\n",
    "#Clean way to convert quarterly periods to datetime in pandas\n",
    "cc.head()"
   ]
  },
  {
   "cell_type": "markdown",
   "id": "ac79c08a",
   "metadata": {},
   "source": [
    "### Coverting Quarter Years with Quarter Start Date Year (Date Month and Year)\n"
   ]
  },
  {
   "cell_type": "code",
   "execution_count": 30,
   "id": "42409a01",
   "metadata": {},
   "outputs": [
    {
     "data": {
      "text/html": [
       "<div>\n",
       "<style scoped>\n",
       "    .dataframe tbody tr th:only-of-type {\n",
       "        vertical-align: middle;\n",
       "    }\n",
       "\n",
       "    .dataframe tbody tr th {\n",
       "        vertical-align: top;\n",
       "    }\n",
       "\n",
       "    .dataframe thead th {\n",
       "        text-align: right;\n",
       "    }\n",
       "</style>\n",
       "<table border=\"1\" class=\"dataframe\">\n",
       "  <thead>\n",
       "    <tr style=\"text-align: right;\">\n",
       "      <th></th>\n",
       "      <th>quar</th>\n",
       "      <th>sale</th>\n",
       "      <th>quarter_year</th>\n",
       "      <th>Date</th>\n",
       "    </tr>\n",
       "  </thead>\n",
       "  <tbody>\n",
       "    <tr>\n",
       "      <th>0</th>\n",
       "      <td>Q1_86</td>\n",
       "      <td>1734.827000</td>\n",
       "      <td>Q1 1986</td>\n",
       "      <td>1986-01-01</td>\n",
       "    </tr>\n",
       "    <tr>\n",
       "      <th>1</th>\n",
       "      <td>Q2_86</td>\n",
       "      <td>2244.960999</td>\n",
       "      <td>Q2 1986</td>\n",
       "      <td>1986-04-01</td>\n",
       "    </tr>\n",
       "    <tr>\n",
       "      <th>2</th>\n",
       "      <td>Q3_86</td>\n",
       "      <td>2533.804993</td>\n",
       "      <td>Q3 1986</td>\n",
       "      <td>1986-07-01</td>\n",
       "    </tr>\n",
       "    <tr>\n",
       "      <th>3</th>\n",
       "      <td>Q4_86</td>\n",
       "      <td>2154.962997</td>\n",
       "      <td>Q4 1986</td>\n",
       "      <td>1986-10-01</td>\n",
       "    </tr>\n",
       "    <tr>\n",
       "      <th>4</th>\n",
       "      <td>Q1_87</td>\n",
       "      <td>1547.818996</td>\n",
       "      <td>Q1 1987</td>\n",
       "      <td>1987-01-01</td>\n",
       "    </tr>\n",
       "    <tr>\n",
       "      <th>5</th>\n",
       "      <td>Q2_87</td>\n",
       "      <td>2104.411995</td>\n",
       "      <td>Q2 1987</td>\n",
       "      <td>1987-04-01</td>\n",
       "    </tr>\n",
       "    <tr>\n",
       "      <th>6</th>\n",
       "      <td>Q3_87</td>\n",
       "      <td>2014.362999</td>\n",
       "      <td>Q3 1987</td>\n",
       "      <td>1987-07-01</td>\n",
       "    </tr>\n",
       "    <tr>\n",
       "      <th>7</th>\n",
       "      <td>Q4_87</td>\n",
       "      <td>1991.746998</td>\n",
       "      <td>Q4 1987</td>\n",
       "      <td>1987-10-01</td>\n",
       "    </tr>\n",
       "    <tr>\n",
       "      <th>8</th>\n",
       "      <td>Q1_88</td>\n",
       "      <td>1869.049999</td>\n",
       "      <td>Q1 1988</td>\n",
       "      <td>1988-01-01</td>\n",
       "    </tr>\n",
       "    <tr>\n",
       "      <th>9</th>\n",
       "      <td>Q2_88</td>\n",
       "      <td>2313.631996</td>\n",
       "      <td>Q2 1988</td>\n",
       "      <td>1988-04-01</td>\n",
       "    </tr>\n",
       "  </tbody>\n",
       "</table>\n",
       "</div>"
      ],
      "text/plain": [
       "    quar         sale quarter_year       Date\n",
       "0  Q1_86  1734.827000      Q1 1986 1986-01-01\n",
       "1  Q2_86  2244.960999      Q2 1986 1986-04-01\n",
       "2  Q3_86  2533.804993      Q3 1986 1986-07-01\n",
       "3  Q4_86  2154.962997      Q4 1986 1986-10-01\n",
       "4  Q1_87  1547.818996      Q1 1987 1987-01-01\n",
       "5  Q2_87  2104.411995      Q2 1987 1987-04-01\n",
       "6  Q3_87  2014.362999      Q3 1987 1987-07-01\n",
       "7  Q4_87  1991.746998      Q4 1987 1987-10-01\n",
       "8  Q1_88  1869.049999      Q1 1988 1988-01-01\n",
       "9  Q2_88  2313.631996      Q2 1988 1988-04-01"
      ]
     },
     "execution_count": 30,
     "metadata": {},
     "output_type": "execute_result"
    }
   ],
   "source": [
    "# converting into datetime formate as the index was not in correct formate.\n",
    "cc['Date'] = (pd.to_datetime(cc['quarter_year'].str.split(' ').apply(lambda x: ''.join(x[::-1])) ,dayfirst=True))\n",
    "cc.head(10)"
   ]
  },
  {
   "cell_type": "code",
   "execution_count": 31,
   "id": "e4158f85",
   "metadata": {},
   "outputs": [
    {
     "data": {
      "text/html": [
       "<div>\n",
       "<style scoped>\n",
       "    .dataframe tbody tr th:only-of-type {\n",
       "        vertical-align: middle;\n",
       "    }\n",
       "\n",
       "    .dataframe tbody tr th {\n",
       "        vertical-align: top;\n",
       "    }\n",
       "\n",
       "    .dataframe thead th {\n",
       "        text-align: right;\n",
       "    }\n",
       "</style>\n",
       "<table border=\"1\" class=\"dataframe\">\n",
       "  <thead>\n",
       "    <tr style=\"text-align: right;\">\n",
       "      <th></th>\n",
       "      <th>quar</th>\n",
       "      <th>sale</th>\n",
       "      <th>quarter_year</th>\n",
       "      <th>Date</th>\n",
       "      <th>quarters</th>\n",
       "    </tr>\n",
       "  </thead>\n",
       "  <tbody>\n",
       "    <tr>\n",
       "      <th>0</th>\n",
       "      <td>Q1_86</td>\n",
       "      <td>1734.827000</td>\n",
       "      <td>Q1 1986</td>\n",
       "      <td>1986-01-01</td>\n",
       "      <td>Q1</td>\n",
       "    </tr>\n",
       "    <tr>\n",
       "      <th>1</th>\n",
       "      <td>Q2_86</td>\n",
       "      <td>2244.960999</td>\n",
       "      <td>Q2 1986</td>\n",
       "      <td>1986-04-01</td>\n",
       "      <td>Q2</td>\n",
       "    </tr>\n",
       "    <tr>\n",
       "      <th>2</th>\n",
       "      <td>Q3_86</td>\n",
       "      <td>2533.804993</td>\n",
       "      <td>Q3 1986</td>\n",
       "      <td>1986-07-01</td>\n",
       "      <td>Q3</td>\n",
       "    </tr>\n",
       "    <tr>\n",
       "      <th>3</th>\n",
       "      <td>Q4_86</td>\n",
       "      <td>2154.962997</td>\n",
       "      <td>Q4 1986</td>\n",
       "      <td>1986-10-01</td>\n",
       "      <td>Q4</td>\n",
       "    </tr>\n",
       "    <tr>\n",
       "      <th>4</th>\n",
       "      <td>Q1_87</td>\n",
       "      <td>1547.818996</td>\n",
       "      <td>Q1 1987</td>\n",
       "      <td>1987-01-01</td>\n",
       "      <td>Q1</td>\n",
       "    </tr>\n",
       "  </tbody>\n",
       "</table>\n",
       "</div>"
      ],
      "text/plain": [
       "    quar         sale quarter_year       Date quarters\n",
       "0  Q1_86  1734.827000      Q1 1986 1986-01-01       Q1\n",
       "1  Q2_86  2244.960999      Q2 1986 1986-04-01       Q2\n",
       "2  Q3_86  2533.804993      Q3 1986 1986-07-01       Q3\n",
       "3  Q4_86  2154.962997      Q4 1986 1986-10-01       Q4\n",
       "4  Q1_87  1547.818996      Q1 1987 1987-01-01       Q1"
      ]
     },
     "execution_count": 31,
     "metadata": {},
     "output_type": "execute_result"
    }
   ],
   "source": [
    "# Extracting the Quarters and putting in column\n",
    "cc['quarters'] = 0\n",
    "\n",
    "for i in range(42):\n",
    "    n = cc['quar'][i]\n",
    "    cc['quarters'][i] = n[0:2]\n",
    "    \n",
    "cc.head()"
   ]
  },
  {
   "cell_type": "code",
   "execution_count": 32,
   "id": "71fb429d",
   "metadata": {},
   "outputs": [
    {
     "data": {
      "text/html": [
       "<div>\n",
       "<style scoped>\n",
       "    .dataframe tbody tr th:only-of-type {\n",
       "        vertical-align: middle;\n",
       "    }\n",
       "\n",
       "    .dataframe tbody tr th {\n",
       "        vertical-align: top;\n",
       "    }\n",
       "\n",
       "    .dataframe thead th {\n",
       "        text-align: right;\n",
       "    }\n",
       "</style>\n",
       "<table border=\"1\" class=\"dataframe\">\n",
       "  <thead>\n",
       "    <tr style=\"text-align: right;\">\n",
       "      <th></th>\n",
       "      <th>quar</th>\n",
       "      <th>sale</th>\n",
       "      <th>quarter_year</th>\n",
       "      <th>Date</th>\n",
       "      <th>quarters</th>\n",
       "      <th>Q1</th>\n",
       "      <th>Q2</th>\n",
       "      <th>Q3</th>\n",
       "      <th>Q4</th>\n",
       "    </tr>\n",
       "  </thead>\n",
       "  <tbody>\n",
       "    <tr>\n",
       "      <th>0</th>\n",
       "      <td>Q1_86</td>\n",
       "      <td>1734.827000</td>\n",
       "      <td>Q1 1986</td>\n",
       "      <td>1986-01-01</td>\n",
       "      <td>Q1</td>\n",
       "      <td>1</td>\n",
       "      <td>0</td>\n",
       "      <td>0</td>\n",
       "      <td>0</td>\n",
       "    </tr>\n",
       "    <tr>\n",
       "      <th>1</th>\n",
       "      <td>Q2_86</td>\n",
       "      <td>2244.960999</td>\n",
       "      <td>Q2 1986</td>\n",
       "      <td>1986-04-01</td>\n",
       "      <td>Q2</td>\n",
       "      <td>0</td>\n",
       "      <td>1</td>\n",
       "      <td>0</td>\n",
       "      <td>0</td>\n",
       "    </tr>\n",
       "    <tr>\n",
       "      <th>2</th>\n",
       "      <td>Q3_86</td>\n",
       "      <td>2533.804993</td>\n",
       "      <td>Q3 1986</td>\n",
       "      <td>1986-07-01</td>\n",
       "      <td>Q3</td>\n",
       "      <td>0</td>\n",
       "      <td>0</td>\n",
       "      <td>1</td>\n",
       "      <td>0</td>\n",
       "    </tr>\n",
       "    <tr>\n",
       "      <th>3</th>\n",
       "      <td>Q4_86</td>\n",
       "      <td>2154.962997</td>\n",
       "      <td>Q4 1986</td>\n",
       "      <td>1986-10-01</td>\n",
       "      <td>Q4</td>\n",
       "      <td>0</td>\n",
       "      <td>0</td>\n",
       "      <td>0</td>\n",
       "      <td>1</td>\n",
       "    </tr>\n",
       "    <tr>\n",
       "      <th>4</th>\n",
       "      <td>Q1_87</td>\n",
       "      <td>1547.818996</td>\n",
       "      <td>Q1 1987</td>\n",
       "      <td>1987-01-01</td>\n",
       "      <td>Q1</td>\n",
       "      <td>1</td>\n",
       "      <td>0</td>\n",
       "      <td>0</td>\n",
       "      <td>0</td>\n",
       "    </tr>\n",
       "  </tbody>\n",
       "</table>\n",
       "</div>"
      ],
      "text/plain": [
       "    quar         sale quarter_year       Date quarters  Q1  Q2  Q3  Q4\n",
       "0  Q1_86  1734.827000      Q1 1986 1986-01-01       Q1   1   0   0   0\n",
       "1  Q2_86  2244.960999      Q2 1986 1986-04-01       Q2   0   1   0   0\n",
       "2  Q3_86  2533.804993      Q3 1986 1986-07-01       Q3   0   0   1   0\n",
       "3  Q4_86  2154.962997      Q4 1986 1986-10-01       Q4   0   0   0   1\n",
       "4  Q1_87  1547.818996      Q1 1987 1987-01-01       Q1   1   0   0   0"
      ]
     },
     "execution_count": 32,
     "metadata": {},
     "output_type": "execute_result"
    }
   ],
   "source": [
    "# Creating Dummy Variables for Quarters Variable\n",
    "dummy = pd.DataFrame(pd.get_dummies(cc['quarters']))\n",
    "cc1 = pd.concat((cc, dummy), axis=1)\n",
    "\n",
    "cc1.head()"
   ]
  },
  {
   "cell_type": "code",
   "execution_count": 33,
   "id": "76709802",
   "metadata": {},
   "outputs": [
    {
     "data": {
      "text/html": [
       "<div>\n",
       "<style scoped>\n",
       "    .dataframe tbody tr th:only-of-type {\n",
       "        vertical-align: middle;\n",
       "    }\n",
       "\n",
       "    .dataframe tbody tr th {\n",
       "        vertical-align: top;\n",
       "    }\n",
       "\n",
       "    .dataframe thead th {\n",
       "        text-align: right;\n",
       "    }\n",
       "</style>\n",
       "<table border=\"1\" class=\"dataframe\">\n",
       "  <thead>\n",
       "    <tr style=\"text-align: right;\">\n",
       "      <th></th>\n",
       "      <th>sale</th>\n",
       "      <th>Date</th>\n",
       "      <th>quarters</th>\n",
       "      <th>Q1</th>\n",
       "      <th>Q2</th>\n",
       "      <th>Q3</th>\n",
       "      <th>Q4</th>\n",
       "    </tr>\n",
       "  </thead>\n",
       "  <tbody>\n",
       "    <tr>\n",
       "      <th>0</th>\n",
       "      <td>1734.827000</td>\n",
       "      <td>1986-01-01</td>\n",
       "      <td>Q1</td>\n",
       "      <td>1</td>\n",
       "      <td>0</td>\n",
       "      <td>0</td>\n",
       "      <td>0</td>\n",
       "    </tr>\n",
       "    <tr>\n",
       "      <th>1</th>\n",
       "      <td>2244.960999</td>\n",
       "      <td>1986-04-01</td>\n",
       "      <td>Q2</td>\n",
       "      <td>0</td>\n",
       "      <td>1</td>\n",
       "      <td>0</td>\n",
       "      <td>0</td>\n",
       "    </tr>\n",
       "    <tr>\n",
       "      <th>2</th>\n",
       "      <td>2533.804993</td>\n",
       "      <td>1986-07-01</td>\n",
       "      <td>Q3</td>\n",
       "      <td>0</td>\n",
       "      <td>0</td>\n",
       "      <td>1</td>\n",
       "      <td>0</td>\n",
       "    </tr>\n",
       "    <tr>\n",
       "      <th>3</th>\n",
       "      <td>2154.962997</td>\n",
       "      <td>1986-10-01</td>\n",
       "      <td>Q4</td>\n",
       "      <td>0</td>\n",
       "      <td>0</td>\n",
       "      <td>0</td>\n",
       "      <td>1</td>\n",
       "    </tr>\n",
       "    <tr>\n",
       "      <th>4</th>\n",
       "      <td>1547.818996</td>\n",
       "      <td>1987-01-01</td>\n",
       "      <td>Q1</td>\n",
       "      <td>1</td>\n",
       "      <td>0</td>\n",
       "      <td>0</td>\n",
       "      <td>0</td>\n",
       "    </tr>\n",
       "  </tbody>\n",
       "</table>\n",
       "</div>"
      ],
      "text/plain": [
       "          sale       Date quarters  Q1  Q2  Q3  Q4\n",
       "0  1734.827000 1986-01-01       Q1   1   0   0   0\n",
       "1  2244.960999 1986-04-01       Q2   0   1   0   0\n",
       "2  2533.804993 1986-07-01       Q3   0   0   1   0\n",
       "3  2154.962997 1986-10-01       Q4   0   0   0   1\n",
       "4  1547.818996 1987-01-01       Q1   1   0   0   0"
      ]
     },
     "execution_count": 33,
     "metadata": {},
     "output_type": "execute_result"
    }
   ],
   "source": [
    "# Dropping all the unnecessary column\n",
    "cc1.drop(['quar','quarter_year'], axis = 1, inplace = True)\n",
    "cc1.head()"
   ]
  },
  {
   "cell_type": "code",
   "execution_count": 34,
   "id": "e6a0c754",
   "metadata": {},
   "outputs": [
    {
     "data": {
      "text/plain": [
       "Int64Index([1986, 1986, 1986, 1986, 1987, 1987, 1987, 1987, 1988, 1988, 1988,\n",
       "            1988, 1989, 1989, 1989, 1989, 1990, 1990, 1990, 1990, 1991, 1991,\n",
       "            1991, 1991, 1992, 1992, 1992, 1992, 1993, 1993, 1993, 1993, 1994,\n",
       "            1994, 1994, 1994, 1995, 1995, 1995, 1995, 1996, 1996],\n",
       "           dtype='int64', name='Date')"
      ]
     },
     "execution_count": 34,
     "metadata": {},
     "output_type": "execute_result"
    }
   ],
   "source": [
    "# Making the Date as DateTime index for the Dataframe\n",
    "cc1.set_index('Date', inplace = True)\n",
    "cc1.index.year"
   ]
  },
  {
   "cell_type": "code",
   "execution_count": 35,
   "id": "0d6d2460",
   "metadata": {},
   "outputs": [
    {
     "data": {
      "text/html": [
       "<div>\n",
       "<style scoped>\n",
       "    .dataframe tbody tr th:only-of-type {\n",
       "        vertical-align: middle;\n",
       "    }\n",
       "\n",
       "    .dataframe tbody tr th {\n",
       "        vertical-align: top;\n",
       "    }\n",
       "\n",
       "    .dataframe thead th {\n",
       "        text-align: right;\n",
       "    }\n",
       "</style>\n",
       "<table border=\"1\" class=\"dataframe\">\n",
       "  <thead>\n",
       "    <tr style=\"text-align: right;\">\n",
       "      <th></th>\n",
       "      <th>sale</th>\n",
       "      <th>quarters</th>\n",
       "      <th>Q1</th>\n",
       "      <th>Q2</th>\n",
       "      <th>Q3</th>\n",
       "      <th>Q4</th>\n",
       "    </tr>\n",
       "    <tr>\n",
       "      <th>Date</th>\n",
       "      <th></th>\n",
       "      <th></th>\n",
       "      <th></th>\n",
       "      <th></th>\n",
       "      <th></th>\n",
       "      <th></th>\n",
       "    </tr>\n",
       "  </thead>\n",
       "  <tbody>\n",
       "    <tr>\n",
       "      <th>1986-01-01</th>\n",
       "      <td>1734.827000</td>\n",
       "      <td>Q1</td>\n",
       "      <td>1</td>\n",
       "      <td>0</td>\n",
       "      <td>0</td>\n",
       "      <td>0</td>\n",
       "    </tr>\n",
       "    <tr>\n",
       "      <th>1986-04-01</th>\n",
       "      <td>2244.960999</td>\n",
       "      <td>Q2</td>\n",
       "      <td>0</td>\n",
       "      <td>1</td>\n",
       "      <td>0</td>\n",
       "      <td>0</td>\n",
       "    </tr>\n",
       "    <tr>\n",
       "      <th>1986-07-01</th>\n",
       "      <td>2533.804993</td>\n",
       "      <td>Q3</td>\n",
       "      <td>0</td>\n",
       "      <td>0</td>\n",
       "      <td>1</td>\n",
       "      <td>0</td>\n",
       "    </tr>\n",
       "    <tr>\n",
       "      <th>1986-10-01</th>\n",
       "      <td>2154.962997</td>\n",
       "      <td>Q4</td>\n",
       "      <td>0</td>\n",
       "      <td>0</td>\n",
       "      <td>0</td>\n",
       "      <td>1</td>\n",
       "    </tr>\n",
       "    <tr>\n",
       "      <th>1987-01-01</th>\n",
       "      <td>1547.818996</td>\n",
       "      <td>Q1</td>\n",
       "      <td>1</td>\n",
       "      <td>0</td>\n",
       "      <td>0</td>\n",
       "      <td>0</td>\n",
       "    </tr>\n",
       "  </tbody>\n",
       "</table>\n",
       "</div>"
      ],
      "text/plain": [
       "                   sale quarters  Q1  Q2  Q3  Q4\n",
       "Date                                            \n",
       "1986-01-01  1734.827000       Q1   1   0   0   0\n",
       "1986-04-01  2244.960999       Q2   0   1   0   0\n",
       "1986-07-01  2533.804993       Q3   0   0   1   0\n",
       "1986-10-01  2154.962997       Q4   0   0   0   1\n",
       "1987-01-01  1547.818996       Q1   1   0   0   0"
      ]
     },
     "execution_count": 35,
     "metadata": {},
     "output_type": "execute_result"
    }
   ],
   "source": [
    "cc1.head()"
   ]
  },
  {
   "cell_type": "code",
   "execution_count": 36,
   "id": "006b6afb",
   "metadata": {},
   "outputs": [
    {
     "data": {
      "text/html": [
       "<div>\n",
       "<style scoped>\n",
       "    .dataframe tbody tr th:only-of-type {\n",
       "        vertical-align: middle;\n",
       "    }\n",
       "\n",
       "    .dataframe tbody tr th {\n",
       "        vertical-align: top;\n",
       "    }\n",
       "\n",
       "    .dataframe thead th {\n",
       "        text-align: right;\n",
       "    }\n",
       "</style>\n",
       "<table border=\"1\" class=\"dataframe\">\n",
       "  <thead>\n",
       "    <tr style=\"text-align: right;\">\n",
       "      <th></th>\n",
       "      <th>quar</th>\n",
       "      <th>sale</th>\n",
       "      <th>quarter_year</th>\n",
       "      <th>Date</th>\n",
       "      <th>quarters</th>\n",
       "      <th>month</th>\n",
       "      <th>year</th>\n",
       "    </tr>\n",
       "  </thead>\n",
       "  <tbody>\n",
       "    <tr>\n",
       "      <th>0</th>\n",
       "      <td>Q1_86</td>\n",
       "      <td>1734.827000</td>\n",
       "      <td>Q1 1986</td>\n",
       "      <td>1986-01-01</td>\n",
       "      <td>Q1</td>\n",
       "      <td>Jan</td>\n",
       "      <td>1986</td>\n",
       "    </tr>\n",
       "    <tr>\n",
       "      <th>1</th>\n",
       "      <td>Q2_86</td>\n",
       "      <td>2244.960999</td>\n",
       "      <td>Q2 1986</td>\n",
       "      <td>1986-04-01</td>\n",
       "      <td>Q2</td>\n",
       "      <td>Apr</td>\n",
       "      <td>1986</td>\n",
       "    </tr>\n",
       "    <tr>\n",
       "      <th>2</th>\n",
       "      <td>Q3_86</td>\n",
       "      <td>2533.804993</td>\n",
       "      <td>Q3 1986</td>\n",
       "      <td>1986-07-01</td>\n",
       "      <td>Q3</td>\n",
       "      <td>Jul</td>\n",
       "      <td>1986</td>\n",
       "    </tr>\n",
       "    <tr>\n",
       "      <th>3</th>\n",
       "      <td>Q4_86</td>\n",
       "      <td>2154.962997</td>\n",
       "      <td>Q4 1986</td>\n",
       "      <td>1986-10-01</td>\n",
       "      <td>Q4</td>\n",
       "      <td>Oct</td>\n",
       "      <td>1986</td>\n",
       "    </tr>\n",
       "    <tr>\n",
       "      <th>4</th>\n",
       "      <td>Q1_87</td>\n",
       "      <td>1547.818996</td>\n",
       "      <td>Q1 1987</td>\n",
       "      <td>1987-01-01</td>\n",
       "      <td>Q1</td>\n",
       "      <td>Jan</td>\n",
       "      <td>1987</td>\n",
       "    </tr>\n",
       "  </tbody>\n",
       "</table>\n",
       "</div>"
      ],
      "text/plain": [
       "    quar         sale quarter_year       Date quarters month  year\n",
       "0  Q1_86  1734.827000      Q1 1986 1986-01-01       Q1   Jan  1986\n",
       "1  Q2_86  2244.960999      Q2 1986 1986-04-01       Q2   Apr  1986\n",
       "2  Q3_86  2533.804993      Q3 1986 1986-07-01       Q3   Jul  1986\n",
       "3  Q4_86  2154.962997      Q4 1986 1986-10-01       Q4   Oct  1986\n",
       "4  Q1_87  1547.818996      Q1 1987 1987-01-01       Q1   Jan  1987"
      ]
     },
     "execution_count": 36,
     "metadata": {},
     "output_type": "execute_result"
    }
   ],
   "source": [
    "# Separating Month and Year into Separate Column for Visualization and removing meaningful insight of the data\n",
    "cc[\"Date\"] = pd.to_datetime(cc.Date, format = \"%b-%y\")\n",
    "cc['month'] = cc.Date.dt.strftime(\"%b\")\n",
    "cc[\"year\"] = cc.Date.dt.strftime(\"%Y\")\n",
    "cc.head()"
   ]
  },
  {
   "cell_type": "markdown",
   "id": "a8f4805b",
   "metadata": {},
   "source": [
    "## Sampling\n",
    "Linear interpolation\n",
    "You draw a straight line joining the next and previous points of the missing values in the data.\n",
    "upsampling with respect to month"
   ]
  },
  {
   "cell_type": "code",
   "execution_count": 37,
   "id": "9e54b159",
   "metadata": {},
   "outputs": [
    {
     "name": "stdout",
     "output_type": "stream",
     "text": [
      "                   sale\n",
      "Date                   \n",
      "1986-01-31  1734.827000\n",
      "1986-02-28          NaN\n",
      "1986-03-31          NaN\n",
      "1986-04-30  2244.960999\n",
      "1986-05-31          NaN\n",
      "1986-06-30          NaN\n",
      "1986-07-31  2533.804993\n",
      "1986-08-31          NaN\n",
      "1986-09-30          NaN\n",
      "1986-10-31  2154.962997\n"
     ]
    }
   ],
   "source": [
    "upsampled_month = cc1.drop(['quarters', 'Q1','Q2','Q3','Q4'], axis = 1)\n",
    "upsampled_month = upsampled_month.resample('M').mean()\n",
    "print(upsampled_month.head(10))"
   ]
  },
  {
   "cell_type": "code",
   "execution_count": 38,
   "id": "dfd620d0",
   "metadata": {},
   "outputs": [
    {
     "name": "stdout",
     "output_type": "stream",
     "text": [
      "                   sale\n",
      "Date                   \n",
      "1986-01-31  1734.827000\n",
      "1986-02-28  1904.871666\n",
      "1986-03-31  2074.916332\n",
      "1986-04-30  2244.960999\n",
      "1986-05-31  2341.242330\n",
      "1986-06-30  2437.523661\n",
      "1986-07-31  2533.804993\n",
      "1986-08-31  2407.524328\n",
      "1986-09-30  2281.243663\n",
      "1986-10-31  2154.962997\n"
     ]
    },
    {
     "data": {
      "image/png": "[encoded data removed]",
      "text/plain": [
       "<Figure size 864x576 with 1 Axes>"
      ]
     },
     "metadata": {},
     "output_type": "display_data"
    }
   ],
   "source": [
    "interpolated_month = upsampled_month.interpolate(method='linear')\n",
    "print(interpolated_month.head(10))\n",
    "interpolated_month.plot(figsize=(12,8))\n",
    "plt.show()"
   ]
  },
  {
   "cell_type": "code",
   "execution_count": 39,
   "id": "20410587",
   "metadata": {},
   "outputs": [
    {
     "data": {
      "text/html": [
       "<div>\n",
       "<style scoped>\n",
       "    .dataframe tbody tr th:only-of-type {\n",
       "        vertical-align: middle;\n",
       "    }\n",
       "\n",
       "    .dataframe tbody tr th {\n",
       "        vertical-align: top;\n",
       "    }\n",
       "\n",
       "    .dataframe thead th {\n",
       "        text-align: right;\n",
       "    }\n",
       "</style>\n",
       "<table border=\"1\" class=\"dataframe\">\n",
       "  <thead>\n",
       "    <tr style=\"text-align: right;\">\n",
       "      <th></th>\n",
       "      <th>sale</th>\n",
       "    </tr>\n",
       "    <tr>\n",
       "      <th>Date</th>\n",
       "      <th></th>\n",
       "    </tr>\n",
       "  </thead>\n",
       "  <tbody>\n",
       "    <tr>\n",
       "      <th>1986-01-31</th>\n",
       "      <td>1734.827000</td>\n",
       "    </tr>\n",
       "    <tr>\n",
       "      <th>1986-02-28</th>\n",
       "      <td>1904.871666</td>\n",
       "    </tr>\n",
       "    <tr>\n",
       "      <th>1986-03-31</th>\n",
       "      <td>2074.916332</td>\n",
       "    </tr>\n",
       "    <tr>\n",
       "      <th>1986-04-30</th>\n",
       "      <td>2244.960999</td>\n",
       "    </tr>\n",
       "    <tr>\n",
       "      <th>1986-05-31</th>\n",
       "      <td>2341.242330</td>\n",
       "    </tr>\n",
       "    <tr>\n",
       "      <th>...</th>\n",
       "      <td>...</td>\n",
       "    </tr>\n",
       "    <tr>\n",
       "      <th>1995-12-31</th>\n",
       "      <td>4240.333333</td>\n",
       "    </tr>\n",
       "    <tr>\n",
       "      <th>1996-01-31</th>\n",
       "      <td>4194.000000</td>\n",
       "    </tr>\n",
       "    <tr>\n",
       "      <th>1996-02-29</th>\n",
       "      <td>4547.000000</td>\n",
       "    </tr>\n",
       "    <tr>\n",
       "      <th>1996-03-31</th>\n",
       "      <td>4900.000000</td>\n",
       "    </tr>\n",
       "    <tr>\n",
       "      <th>1996-04-30</th>\n",
       "      <td>5253.000000</td>\n",
       "    </tr>\n",
       "  </tbody>\n",
       "</table>\n",
       "<p>124 rows × 1 columns</p>\n",
       "</div>"
      ],
      "text/plain": [
       "                   sale\n",
       "Date                   \n",
       "1986-01-31  1734.827000\n",
       "1986-02-28  1904.871666\n",
       "1986-03-31  2074.916332\n",
       "1986-04-30  2244.960999\n",
       "1986-05-31  2341.242330\n",
       "...                 ...\n",
       "1995-12-31  4240.333333\n",
       "1996-01-31  4194.000000\n",
       "1996-02-29  4547.000000\n",
       "1996-03-31  4900.000000\n",
       "1996-04-30  5253.000000\n",
       "\n",
       "[124 rows x 1 columns]"
      ]
     },
     "execution_count": 39,
     "metadata": {},
     "output_type": "execute_result"
    }
   ],
   "source": [
    "interpolated_month"
   ]
  },
  {
   "cell_type": "markdown",
   "id": "80f3dcb2",
   "metadata": {},
   "source": [
    "## Splitting Train and Test Data\n",
    "\n",
    "\n",
    "##### Leaving Test Data with 2 Years of Time Series"
   ]
  },
  {
   "cell_type": "code",
   "execution_count": 40,
   "id": "69a2d447",
   "metadata": {},
   "outputs": [],
   "source": [
    "train_data = interpolated_month[:100]\n",
    "test_data = interpolated_month[100:]"
   ]
  },
  {
   "cell_type": "code",
   "execution_count": 41,
   "id": "e47f5f9e",
   "metadata": {},
   "outputs": [
    {
     "name": "stdout",
     "output_type": "stream",
     "text": [
      "Train:  1986-01-31 00:00:00 1994-04-30 00:00:00 \n",
      " Test:  1994-05-31 00:00:00 1996-04-30 00:00:00\n"
     ]
    }
   ],
   "source": [
    "print('Train: ', train_data.index.min(), train_data.index.max(), '\\n', \n",
    "     'Test: ', test_data.index.min(), test_data.index.max())"
   ]
  },
  {
   "cell_type": "markdown",
   "id": "39f4faf7",
   "metadata": {},
   "source": [
    "#### We are going to forecat for the last two years. 1986 and 1994.\n",
    "#### Last 24 records contain 1994 and 1996 data."
   ]
  },
  {
   "cell_type": "code",
   "execution_count": 42,
   "id": "00009776",
   "metadata": {},
   "outputs": [
    {
     "data": {
      "image/png": "[encoded data removed]",
      "text/plain": [
       "<Figure size 432x288 with 1 Axes>"
      ]
     },
     "metadata": {},
     "output_type": "display_data"
    },
    {
     "data": {
      "image/png": "[encoded data removed]",
      "text/plain": [
       "<Figure size 864x432 with 1 Axes>"
      ]
     },
     "metadata": {},
     "output_type": "display_data"
    }
   ],
   "source": [
    "train_data.plot(legend = True, label = \"TRAIN\", color = 'blue')\n",
    "test_data.plot(legend = True, label =\"TEST\", figsize=(12,6), color = 'red')\n",
    "plt.show()"
   ]
  },
  {
   "cell_type": "markdown",
   "id": "cdf7056a",
   "metadata": {},
   "source": [
    "# Test of Stationarity"
   ]
  },
  {
   "cell_type": "code",
   "execution_count": 43,
   "id": "fc5f7e0c",
   "metadata": {},
   "outputs": [],
   "source": [
    "def test_stationarity(timeseries):\n",
    "    \n",
    "    #Determine rolling statistics\n",
    "    movingAverage = timeseries.rolling(window=4).mean()\n",
    "    movingSTD = timeseries.rolling(window=4).std()\n",
    "    \n",
    "    #Plot rolling statistics\n",
    "    orig = plt.plot(timeseries, color='blue', label='Original')\n",
    "    mean = plt.plot(movingAverage, color='red', label='Rolling Mean')\n",
    "    plt.legend(loc='best')\n",
    "    plt.title('Rolling Mean')\n",
    "    plt.show(block=False)\n",
    "    \n",
    "    #Perform Dickey–Fuller test:\n",
    "    print('Results of Dickey Fuller Test:')\n",
    "    cctest = adfuller(timeseries['sale'], autolag='AIC')\n",
    "    ccoutput = pd.Series(cctest[0:4], index=['Test Statistic','p-value','#Lags Used','Number of Observations Used'])\n",
    "    for key,value in cctest[4].items():\n",
    "        ccoutput['Critical Value (%s)'%key] = value\n",
    "    print(ccoutput)"
   ]
  },
  {
   "cell_type": "code",
   "execution_count": 44,
   "id": "d3a43599",
   "metadata": {},
   "outputs": [
    {
     "data": {
      "image/png": "[encoded data removed]",
      "text/plain": [
       "<Figure size 432x288 with 1 Axes>"
      ]
     },
     "metadata": {},
     "output_type": "display_data"
    },
    {
     "name": "stdout",
     "output_type": "stream",
     "text": [
      "Results of Dickey Fuller Test:\n",
      "Test Statistic                   0.572599\n",
      "p-value                          0.986920\n",
      "#Lags Used                      10.000000\n",
      "Number of Observations Used    113.000000\n",
      "Critical Value (1%)             -3.489590\n",
      "Critical Value (5%)             -2.887477\n",
      "Critical Value (10%)            -2.580604\n",
      "dtype: float64\n"
     ]
    }
   ],
   "source": [
    "from statsmodels.tsa.stattools import adfuller\n",
    "sales= pd.DataFrame()\n",
    "sales['sale'] = interpolated_month[['sale']]\n",
    "test_stationarity(sales)"
   ]
  },
  {
   "cell_type": "code",
   "execution_count": 45,
   "id": "6e15c0b7",
   "metadata": {},
   "outputs": [],
   "source": [
    "from statsmodels.tsa.stattools import adfuller\n",
    "def adf_test(series):    \n",
    "    result = adfuller(series.dropna())  \n",
    "    labels = ['ADF test statistic','p-value','# lags used','# observations']\n",
    "    out = pd.Series(result[0:4],index=labels)\n",
    "    #for key,val in result[4].items():\n",
    "        #out[f'critical value ({key})']=val\n",
    "    if result[1] <= 0.05:\n",
    "        print(\"Reject the null hypothesis\")\n",
    "        print(\"Data is stationary\")\n",
    "    else:\n",
    "        print(\"Fail to reject the null hypothesis\")\n",
    "        print(\"Data is non-stationary\")"
   ]
  },
  {
   "cell_type": "code",
   "execution_count": 46,
   "id": "dfbea90a",
   "metadata": {},
   "outputs": [
    {
     "name": "stdout",
     "output_type": "stream",
     "text": [
      "Fail to reject the null hypothesis\n",
      "Data is non-stationary\n"
     ]
    }
   ],
   "source": [
    "adf_test(sales.sale)"
   ]
  },
  {
   "cell_type": "markdown",
   "id": "9eb455f2",
   "metadata": {},
   "source": [
    "## Feature Scaling (Transformations)\n",
    "\n",
    "\n",
    "### Square Root Transform"
   ]
  },
  {
   "cell_type": "code",
   "execution_count": 47,
   "id": "5a8cb15b",
   "metadata": {},
   "outputs": [
    {
     "data": {
      "image/png": "[encoded data removed]",
      "text/plain": [
       "<Figure size 864x720 with 2 Axes>"
      ]
     },
     "metadata": {},
     "output_type": "display_data"
    }
   ],
   "source": [
    "import numpy as np\n",
    "square_root= pd.DataFrame()\n",
    "square_root = interpolated_month[['sale']]\n",
    "square_root['sale'] = np.sqrt(square_root.sale)\n",
    "\n",
    "# line chart\n",
    "fig=plt.figure(figsize=(12,10))\n",
    "plt.subplot(211)\n",
    "plt.plot(square_root['sale'])\n",
    "#Histogram\n",
    "plt.subplot(212)\n",
    "plt.hist(square_root['sale'])\n",
    "plt.show()"
   ]
  },
  {
   "cell_type": "code",
   "execution_count": 48,
   "id": "a47b2989",
   "metadata": {},
   "outputs": [
    {
     "data": {
      "image/png": "[encoded data removed]",
      "text/plain": [
       "<Figure size 432x288 with 1 Axes>"
      ]
     },
     "metadata": {},
     "output_type": "display_data"
    },
    {
     "name": "stdout",
     "output_type": "stream",
     "text": [
      "Results of Dickey Fuller Test:\n",
      "Test Statistic                   0.728012\n",
      "p-value                          0.990381\n",
      "#Lags Used                      13.000000\n",
      "Number of Observations Used    110.000000\n",
      "Critical Value (1%)             -3.491245\n",
      "Critical Value (5%)             -2.888195\n",
      "Critical Value (10%)            -2.580988\n",
      "dtype: float64\n"
     ]
    }
   ],
   "source": [
    "test_stationarity(square_root)"
   ]
  },
  {
   "cell_type": "code",
   "execution_count": 49,
   "id": "ac089120",
   "metadata": {},
   "outputs": [
    {
     "name": "stdout",
     "output_type": "stream",
     "text": [
      "Fail to reject the null hypothesis\n",
      "Data is non-stationary\n"
     ]
    }
   ],
   "source": [
    "adf_test(square_root.sale)"
   ]
  },
  {
   "cell_type": "markdown",
   "id": "497237ae",
   "metadata": {},
   "source": [
    "## Log Transform"
   ]
  },
  {
   "cell_type": "code",
   "execution_count": 50,
   "id": "9d6344ce",
   "metadata": {},
   "outputs": [
    {
     "data": {
      "image/png": "[encoded data removed]",
      "text/plain": [
       "<Figure size 864x720 with 2 Axes>"
      ]
     },
     "metadata": {},
     "output_type": "display_data"
    }
   ],
   "source": [
    "log = pd.DataFrame()\n",
    "log = interpolated_month[['sale']]\n",
    "log['Sales'] = np.log(log.sale)\n",
    "\n",
    "# line chart\n",
    "fig=plt.figure(figsize=(12,10))\n",
    "plt.subplot(211)\n",
    "plt.plot(log['sale'])\n",
    "#Histogram\n",
    "plt.subplot(212)\n",
    "plt.hist(log['sale'])\n",
    "plt.show()"
   ]
  },
  {
   "cell_type": "code",
   "execution_count": 51,
   "id": "16265df8",
   "metadata": {},
   "outputs": [
    {
     "data": {
      "image/png": "[encoded data removed]",
      "text/plain": [
       "<Figure size 432x288 with 1 Axes>"
      ]
     },
     "metadata": {},
     "output_type": "display_data"
    },
    {
     "name": "stdout",
     "output_type": "stream",
     "text": [
      "Results of Dickey Fuller Test:\n",
      "Test Statistic                   0.572599\n",
      "p-value                          0.986920\n",
      "#Lags Used                      10.000000\n",
      "Number of Observations Used    113.000000\n",
      "Critical Value (1%)             -3.489590\n",
      "Critical Value (5%)             -2.887477\n",
      "Critical Value (10%)            -2.580604\n",
      "dtype: float64\n"
     ]
    }
   ],
   "source": [
    "test_stationarity(log)"
   ]
  },
  {
   "cell_type": "code",
   "execution_count": 52,
   "id": "745f6d51",
   "metadata": {},
   "outputs": [
    {
     "name": "stdout",
     "output_type": "stream",
     "text": [
      "Fail to reject the null hypothesis\n",
      "Data is non-stationary\n"
     ]
    }
   ],
   "source": [
    "adf_test(log.Sales)"
   ]
  },
  {
   "cell_type": "markdown",
   "id": "3f07c82a",
   "metadata": {},
   "source": [
    "#### Hence, the Time series data is Non-Stationary\n",
    "\n",
    "## Converting Non-Stationary Time Series into Stationary\n",
    "\n",
    "#### Box Cox Transformation"
   ]
  },
  {
   "cell_type": "code",
   "execution_count": 53,
   "id": "c57ca15b",
   "metadata": {},
   "outputs": [],
   "source": [
    "from sklearn.datasets import fetch_california_housing\n",
    "from scipy.stats import boxcox\n",
    "\n",
    "california_housing = fetch_california_housing(as_frame=True).frame\n",
    "california_housing['MedHouseVal'] = boxcox(california_housing['MedHouseVal'])[0]"
   ]
  },
  {
   "cell_type": "code",
   "execution_count": 54,
   "id": "6160d598",
   "metadata": {},
   "outputs": [
    {
     "data": {
      "text/html": [
       "<div>\n",
       "<style scoped>\n",
       "    .dataframe tbody tr th:only-of-type {\n",
       "        vertical-align: middle;\n",
       "    }\n",
       "\n",
       "    .dataframe tbody tr th {\n",
       "        vertical-align: top;\n",
       "    }\n",
       "\n",
       "    .dataframe thead th {\n",
       "        text-align: right;\n",
       "    }\n",
       "</style>\n",
       "<table border=\"1\" class=\"dataframe\">\n",
       "  <thead>\n",
       "    <tr style=\"text-align: right;\">\n",
       "      <th></th>\n",
       "      <th>sale</th>\n",
       "    </tr>\n",
       "    <tr>\n",
       "      <th>Date</th>\n",
       "      <th></th>\n",
       "    </tr>\n",
       "  </thead>\n",
       "  <tbody>\n",
       "    <tr>\n",
       "      <th>1986-01-31</th>\n",
       "      <td>7.458663</td>\n",
       "    </tr>\n",
       "    <tr>\n",
       "      <th>1986-02-28</th>\n",
       "      <td>7.552170</td>\n",
       "    </tr>\n",
       "    <tr>\n",
       "      <th>1986-03-31</th>\n",
       "      <td>7.637676</td>\n",
       "    </tr>\n",
       "    <tr>\n",
       "      <th>1986-04-30</th>\n",
       "      <td>7.716443</td>\n",
       "    </tr>\n",
       "    <tr>\n",
       "      <th>1986-05-31</th>\n",
       "      <td>7.758437</td>\n",
       "    </tr>\n",
       "  </tbody>\n",
       "</table>\n",
       "</div>"
      ],
      "text/plain": [
       "                sale\n",
       "Date                \n",
       "1986-01-31  7.458663\n",
       "1986-02-28  7.552170\n",
       "1986-03-31  7.637676\n",
       "1986-04-30  7.716443\n",
       "1986-05-31  7.758437"
      ]
     },
     "metadata": {},
     "output_type": "display_data"
    },
    {
     "data": {
      "image/png": "[encoded data removed]",
      "text/plain": [
       "<Figure size 1008x432 with 2 Axes>"
      ]
     },
     "metadata": {},
     "output_type": "display_data"
    }
   ],
   "source": [
    "data_boxcox = pd.DataFrame()\n",
    "data_boxcox['sale'] = pd.Series(boxcox(interpolated_month['sale'], lmbda=0), interpolated_month.index)\n",
    "display(data_boxcox.head())\n",
    "fig, axis = plt.subplots(2,figsize=(14,6))\n",
    "axis[0].plot(data_boxcox)\n",
    "axis[0].set_title('After Box Cox Transformation')\n",
    "axis[1].plot(interpolated_month, label='original')\n",
    "axis[1].set_title('Original')\n",
    "plt.show()"
   ]
  },
  {
   "cell_type": "markdown",
   "id": "393759bb",
   "metadata": {},
   "source": [
    "### Observation\n",
    "We can see the variance became almost constant after the transformation. Both in the earlier and later years the variance is almost similar.\n",
    "But we can see that still the series has an upward trend. So, the mean is not constant yet. Hence, we need to do Differencing for making the mean constant."
   ]
  },
  {
   "cell_type": "markdown",
   "id": "5c1e602e",
   "metadata": {},
   "source": [
    "## test_stationarity(data_boxcox)"
   ]
  },
  {
   "cell_type": "code",
   "execution_count": 55,
   "id": "b33476c9",
   "metadata": {},
   "outputs": [
    {
     "name": "stdout",
     "output_type": "stream",
     "text": [
      "Fail to reject the null hypothesis\n",
      "Data is non-stationary\n"
     ]
    }
   ],
   "source": [
    "adf_test(data_boxcox)"
   ]
  },
  {
   "cell_type": "markdown",
   "id": "867dc727",
   "metadata": {},
   "source": [
    "### Differencing of the Box-Cox Transformation\n",
    "Differencing is performed by subtracting the previous observation from the current observation.\n",
    "Differencing removes trend and seasonality in a Time series. When an entire cycle is used for differencing the other cycle, then the seasonality is removed."
   ]
  },
  {
   "cell_type": "code",
   "execution_count": 56,
   "id": "9a38e46a",
   "metadata": {},
   "outputs": [
    {
     "data": {
      "image/png": "[encoded data removed]",
      "text/plain": [
       "<Figure size 864x288 with 1 Axes>"
      ]
     },
     "metadata": {},
     "output_type": "display_data"
    }
   ],
   "source": [
    "data_boxcox_diff = data_boxcox - data_boxcox.shift()\n",
    "data_boxcox_diff.dropna(inplace=True)\n",
    "plt.figure(figsize=(12,4))\n",
    "plt.plot(data_boxcox_diff, label='After Box Cox Transformation and Differencing')\n",
    "plt.legend(loc='best')\n",
    "plt.show()"
   ]
  },
  {
   "cell_type": "markdown",
   "id": "e32be596",
   "metadata": {},
   "source": [
    "### Observation\n",
    "We can see that there is no trend (upward or downward) after differencing on the Box Cox transformation.\n",
    "It is a horizontal trend.\n",
    "The mean became constant. The mean is zero.\n",
    "Also, the variance is almost constant. Lets test the Stationarity again."
   ]
  },
  {
   "cell_type": "code",
   "execution_count": 57,
   "id": "242633ff",
   "metadata": {},
   "outputs": [
    {
     "data": {
      "image/png": "[encoded data removed]",
      "text/plain": [
       "<Figure size 432x288 with 1 Axes>"
      ]
     },
     "metadata": {},
     "output_type": "display_data"
    },
    {
     "name": "stdout",
     "output_type": "stream",
     "text": [
      "Results of Dickey Fuller Test:\n",
      "Test Statistic                  -3.030060\n",
      "p-value                          0.032181\n",
      "#Lags Used                      12.000000\n",
      "Number of Observations Used    110.000000\n",
      "Critical Value (1%)             -3.491245\n",
      "Critical Value (5%)             -2.888195\n",
      "Critical Value (10%)            -2.580988\n",
      "dtype: float64\n"
     ]
    }
   ],
   "source": [
    "#check this log transfered data with function\n",
    "test_stationarity(data_boxcox_diff)"
   ]
  },
  {
   "cell_type": "code",
   "execution_count": 58,
   "id": "081b0057",
   "metadata": {},
   "outputs": [
    {
     "name": "stdout",
     "output_type": "stream",
     "text": [
      "Reject the null hypothesis\n",
      "Data is stationary\n"
     ]
    }
   ],
   "source": [
    "adf_test(data_boxcox_diff.sale)"
   ]
  },
  {
   "cell_type": "markdown",
   "id": "e5f8a304",
   "metadata": {},
   "source": [
    "Finally, Our Series is now stationary for AR Forecasting\n",
    "\n",
    "## ARIMA Hyperparameter Tuning\n"
   ]
  },
  {
   "cell_type": "markdown",
   "id": "4ec4da72",
   "metadata": {},
   "source": [
    "Reviewing the line plot, it suggests that there may be a linear trend, but it is hard to be sure from eye-balling. There is also seasonality, but the amplitude (height) of the cycles appears to be increasing, suggesting that it is multiplicative."
   ]
  },
  {
   "cell_type": "markdown",
   "id": "ec2a1a46",
   "metadata": {},
   "source": [
    "## Forecasting"
   ]
  },
  {
   "cell_type": "code",
   "execution_count": 59,
   "id": "89ed8a41",
   "metadata": {},
   "outputs": [
    {
     "data": {
      "text/html": [
       "<div>\n",
       "<style scoped>\n",
       "    .dataframe tbody tr th:only-of-type {\n",
       "        vertical-align: middle;\n",
       "    }\n",
       "\n",
       "    .dataframe tbody tr th {\n",
       "        vertical-align: top;\n",
       "    }\n",
       "\n",
       "    .dataframe thead th {\n",
       "        text-align: right;\n",
       "    }\n",
       "</style>\n",
       "<table border=\"1\" class=\"dataframe\">\n",
       "  <thead>\n",
       "    <tr style=\"text-align: right;\">\n",
       "      <th></th>\n",
       "      <th>quar</th>\n",
       "      <th>sale</th>\n",
       "      <th>quarter_year</th>\n",
       "      <th>Date</th>\n",
       "      <th>quarters</th>\n",
       "      <th>month</th>\n",
       "      <th>year</th>\n",
       "    </tr>\n",
       "  </thead>\n",
       "  <tbody>\n",
       "    <tr>\n",
       "      <th>0</th>\n",
       "      <td>Q1_86</td>\n",
       "      <td>1734.827000</td>\n",
       "      <td>Q1 1986</td>\n",
       "      <td>1986-01-01</td>\n",
       "      <td>Q1</td>\n",
       "      <td>Jan</td>\n",
       "      <td>1986</td>\n",
       "    </tr>\n",
       "    <tr>\n",
       "      <th>1</th>\n",
       "      <td>Q2_86</td>\n",
       "      <td>2244.960999</td>\n",
       "      <td>Q2 1986</td>\n",
       "      <td>1986-04-01</td>\n",
       "      <td>Q2</td>\n",
       "      <td>Apr</td>\n",
       "      <td>1986</td>\n",
       "    </tr>\n",
       "    <tr>\n",
       "      <th>2</th>\n",
       "      <td>Q3_86</td>\n",
       "      <td>2533.804993</td>\n",
       "      <td>Q3 1986</td>\n",
       "      <td>1986-07-01</td>\n",
       "      <td>Q3</td>\n",
       "      <td>Jul</td>\n",
       "      <td>1986</td>\n",
       "    </tr>\n",
       "    <tr>\n",
       "      <th>3</th>\n",
       "      <td>Q4_86</td>\n",
       "      <td>2154.962997</td>\n",
       "      <td>Q4 1986</td>\n",
       "      <td>1986-10-01</td>\n",
       "      <td>Q4</td>\n",
       "      <td>Oct</td>\n",
       "      <td>1986</td>\n",
       "    </tr>\n",
       "    <tr>\n",
       "      <th>4</th>\n",
       "      <td>Q1_87</td>\n",
       "      <td>1547.818996</td>\n",
       "      <td>Q1 1987</td>\n",
       "      <td>1987-01-01</td>\n",
       "      <td>Q1</td>\n",
       "      <td>Jan</td>\n",
       "      <td>1987</td>\n",
       "    </tr>\n",
       "    <tr>\n",
       "      <th>5</th>\n",
       "      <td>Q2_87</td>\n",
       "      <td>2104.411995</td>\n",
       "      <td>Q2 1987</td>\n",
       "      <td>1987-04-01</td>\n",
       "      <td>Q2</td>\n",
       "      <td>Apr</td>\n",
       "      <td>1987</td>\n",
       "    </tr>\n",
       "    <tr>\n",
       "      <th>6</th>\n",
       "      <td>Q3_87</td>\n",
       "      <td>2014.362999</td>\n",
       "      <td>Q3 1987</td>\n",
       "      <td>1987-07-01</td>\n",
       "      <td>Q3</td>\n",
       "      <td>Jul</td>\n",
       "      <td>1987</td>\n",
       "    </tr>\n",
       "    <tr>\n",
       "      <th>7</th>\n",
       "      <td>Q4_87</td>\n",
       "      <td>1991.746998</td>\n",
       "      <td>Q4 1987</td>\n",
       "      <td>1987-10-01</td>\n",
       "      <td>Q4</td>\n",
       "      <td>Oct</td>\n",
       "      <td>1987</td>\n",
       "    </tr>\n",
       "    <tr>\n",
       "      <th>8</th>\n",
       "      <td>Q1_88</td>\n",
       "      <td>1869.049999</td>\n",
       "      <td>Q1 1988</td>\n",
       "      <td>1988-01-01</td>\n",
       "      <td>Q1</td>\n",
       "      <td>Jan</td>\n",
       "      <td>1988</td>\n",
       "    </tr>\n",
       "    <tr>\n",
       "      <th>9</th>\n",
       "      <td>Q2_88</td>\n",
       "      <td>2313.631996</td>\n",
       "      <td>Q2 1988</td>\n",
       "      <td>1988-04-01</td>\n",
       "      <td>Q2</td>\n",
       "      <td>Apr</td>\n",
       "      <td>1988</td>\n",
       "    </tr>\n",
       "    <tr>\n",
       "      <th>10</th>\n",
       "      <td>Q3_88</td>\n",
       "      <td>2128.320000</td>\n",
       "      <td>Q3 1988</td>\n",
       "      <td>1988-07-01</td>\n",
       "      <td>Q3</td>\n",
       "      <td>Jul</td>\n",
       "      <td>1988</td>\n",
       "    </tr>\n",
       "    <tr>\n",
       "      <th>11</th>\n",
       "      <td>Q4_88</td>\n",
       "      <td>2026.828999</td>\n",
       "      <td>Q4 1988</td>\n",
       "      <td>1988-10-01</td>\n",
       "      <td>Q4</td>\n",
       "      <td>Oct</td>\n",
       "      <td>1988</td>\n",
       "    </tr>\n",
       "    <tr>\n",
       "      <th>12</th>\n",
       "      <td>Q1_89</td>\n",
       "      <td>1910.603996</td>\n",
       "      <td>Q1 1989</td>\n",
       "      <td>1989-01-01</td>\n",
       "      <td>Q1</td>\n",
       "      <td>Jan</td>\n",
       "      <td>1989</td>\n",
       "    </tr>\n",
       "    <tr>\n",
       "      <th>13</th>\n",
       "      <td>Q2_89</td>\n",
       "      <td>2331.164993</td>\n",
       "      <td>Q2 1989</td>\n",
       "      <td>1989-04-01</td>\n",
       "      <td>Q2</td>\n",
       "      <td>Apr</td>\n",
       "      <td>1989</td>\n",
       "    </tr>\n",
       "    <tr>\n",
       "      <th>14</th>\n",
       "      <td>Q3_89</td>\n",
       "      <td>2206.549995</td>\n",
       "      <td>Q3 1989</td>\n",
       "      <td>1989-07-01</td>\n",
       "      <td>Q3</td>\n",
       "      <td>Jul</td>\n",
       "      <td>1989</td>\n",
       "    </tr>\n",
       "    <tr>\n",
       "      <th>15</th>\n",
       "      <td>Q4_89</td>\n",
       "      <td>2173.967995</td>\n",
       "      <td>Q4 1989</td>\n",
       "      <td>1989-10-01</td>\n",
       "      <td>Q4</td>\n",
       "      <td>Oct</td>\n",
       "      <td>1989</td>\n",
       "    </tr>\n",
       "    <tr>\n",
       "      <th>16</th>\n",
       "      <td>Q1_90</td>\n",
       "      <td>2148.278000</td>\n",
       "      <td>Q1 1990</td>\n",
       "      <td>1990-01-01</td>\n",
       "      <td>Q1</td>\n",
       "      <td>Jan</td>\n",
       "      <td>1990</td>\n",
       "    </tr>\n",
       "    <tr>\n",
       "      <th>17</th>\n",
       "      <td>Q2_90</td>\n",
       "      <td>2739.307999</td>\n",
       "      <td>Q2 1990</td>\n",
       "      <td>1990-04-01</td>\n",
       "      <td>Q2</td>\n",
       "      <td>Apr</td>\n",
       "      <td>1990</td>\n",
       "    </tr>\n",
       "    <tr>\n",
       "      <th>18</th>\n",
       "      <td>Q3_90</td>\n",
       "      <td>2792.753998</td>\n",
       "      <td>Q3 1990</td>\n",
       "      <td>1990-07-01</td>\n",
       "      <td>Q3</td>\n",
       "      <td>Jul</td>\n",
       "      <td>1990</td>\n",
       "    </tr>\n",
       "    <tr>\n",
       "      <th>19</th>\n",
       "      <td>Q4_90</td>\n",
       "      <td>2556.009995</td>\n",
       "      <td>Q4 1990</td>\n",
       "      <td>1990-10-01</td>\n",
       "      <td>Q4</td>\n",
       "      <td>Oct</td>\n",
       "      <td>1990</td>\n",
       "    </tr>\n",
       "    <tr>\n",
       "      <th>20</th>\n",
       "      <td>Q1_91</td>\n",
       "      <td>2480.973999</td>\n",
       "      <td>Q1 1991</td>\n",
       "      <td>1991-01-01</td>\n",
       "      <td>Q1</td>\n",
       "      <td>Jan</td>\n",
       "      <td>1991</td>\n",
       "    </tr>\n",
       "    <tr>\n",
       "      <th>21</th>\n",
       "      <td>Q2_91</td>\n",
       "      <td>3039.522995</td>\n",
       "      <td>Q2 1991</td>\n",
       "      <td>1991-04-01</td>\n",
       "      <td>Q2</td>\n",
       "      <td>Apr</td>\n",
       "      <td>1991</td>\n",
       "    </tr>\n",
       "    <tr>\n",
       "      <th>22</th>\n",
       "      <td>Q3_91</td>\n",
       "      <td>3172.115997</td>\n",
       "      <td>Q3 1991</td>\n",
       "      <td>1991-07-01</td>\n",
       "      <td>Q3</td>\n",
       "      <td>Jul</td>\n",
       "      <td>1991</td>\n",
       "    </tr>\n",
       "    <tr>\n",
       "      <th>23</th>\n",
       "      <td>Q4_91</td>\n",
       "      <td>2879.000999</td>\n",
       "      <td>Q4 1991</td>\n",
       "      <td>1991-10-01</td>\n",
       "      <td>Q4</td>\n",
       "      <td>Oct</td>\n",
       "      <td>1991</td>\n",
       "    </tr>\n",
       "    <tr>\n",
       "      <th>24</th>\n",
       "      <td>Q1_92</td>\n",
       "      <td>2772.000000</td>\n",
       "      <td>Q1 1992</td>\n",
       "      <td>1992-01-01</td>\n",
       "      <td>Q1</td>\n",
       "      <td>Jan</td>\n",
       "      <td>1992</td>\n",
       "    </tr>\n",
       "    <tr>\n",
       "      <th>25</th>\n",
       "      <td>Q2_92</td>\n",
       "      <td>3550.000000</td>\n",
       "      <td>Q2 1992</td>\n",
       "      <td>1992-04-01</td>\n",
       "      <td>Q2</td>\n",
       "      <td>Apr</td>\n",
       "      <td>1992</td>\n",
       "    </tr>\n",
       "    <tr>\n",
       "      <th>26</th>\n",
       "      <td>Q3_92</td>\n",
       "      <td>3508.000000</td>\n",
       "      <td>Q3 1992</td>\n",
       "      <td>1992-07-01</td>\n",
       "      <td>Q3</td>\n",
       "      <td>Jul</td>\n",
       "      <td>1992</td>\n",
       "    </tr>\n",
       "    <tr>\n",
       "      <th>27</th>\n",
       "      <td>Q4_92</td>\n",
       "      <td>3243.859993</td>\n",
       "      <td>Q4 1992</td>\n",
       "      <td>1992-10-01</td>\n",
       "      <td>Q4</td>\n",
       "      <td>Oct</td>\n",
       "      <td>1992</td>\n",
       "    </tr>\n",
       "    <tr>\n",
       "      <th>28</th>\n",
       "      <td>Q1_93</td>\n",
       "      <td>3056.000000</td>\n",
       "      <td>Q1 1993</td>\n",
       "      <td>1993-01-01</td>\n",
       "      <td>Q1</td>\n",
       "      <td>Jan</td>\n",
       "      <td>1993</td>\n",
       "    </tr>\n",
       "    <tr>\n",
       "      <th>29</th>\n",
       "      <td>Q2_93</td>\n",
       "      <td>3899.000000</td>\n",
       "      <td>Q2 1993</td>\n",
       "      <td>1993-04-01</td>\n",
       "      <td>Q2</td>\n",
       "      <td>Apr</td>\n",
       "      <td>1993</td>\n",
       "    </tr>\n",
       "    <tr>\n",
       "      <th>30</th>\n",
       "      <td>Q3_93</td>\n",
       "      <td>3629.000000</td>\n",
       "      <td>Q3 1993</td>\n",
       "      <td>1993-07-01</td>\n",
       "      <td>Q3</td>\n",
       "      <td>Jul</td>\n",
       "      <td>1993</td>\n",
       "    </tr>\n",
       "    <tr>\n",
       "      <th>31</th>\n",
       "      <td>Q4_93</td>\n",
       "      <td>3373.000000</td>\n",
       "      <td>Q4 1993</td>\n",
       "      <td>1993-10-01</td>\n",
       "      <td>Q4</td>\n",
       "      <td>Oct</td>\n",
       "      <td>1993</td>\n",
       "    </tr>\n",
       "    <tr>\n",
       "      <th>32</th>\n",
       "      <td>Q1_94</td>\n",
       "      <td>3352.000000</td>\n",
       "      <td>Q1 1994</td>\n",
       "      <td>1994-01-01</td>\n",
       "      <td>Q1</td>\n",
       "      <td>Jan</td>\n",
       "      <td>1994</td>\n",
       "    </tr>\n",
       "    <tr>\n",
       "      <th>33</th>\n",
       "      <td>Q2_94</td>\n",
       "      <td>4342.000000</td>\n",
       "      <td>Q2 1994</td>\n",
       "      <td>1994-04-01</td>\n",
       "      <td>Q2</td>\n",
       "      <td>Apr</td>\n",
       "      <td>1994</td>\n",
       "    </tr>\n",
       "    <tr>\n",
       "      <th>34</th>\n",
       "      <td>Q3_94</td>\n",
       "      <td>4461.000000</td>\n",
       "      <td>Q3 1994</td>\n",
       "      <td>1994-07-01</td>\n",
       "      <td>Q3</td>\n",
       "      <td>Jul</td>\n",
       "      <td>1994</td>\n",
       "    </tr>\n",
       "    <tr>\n",
       "      <th>35</th>\n",
       "      <td>Q4_94</td>\n",
       "      <td>4017.000000</td>\n",
       "      <td>Q4 1994</td>\n",
       "      <td>1994-10-01</td>\n",
       "      <td>Q4</td>\n",
       "      <td>Oct</td>\n",
       "      <td>1994</td>\n",
       "    </tr>\n",
       "    <tr>\n",
       "      <th>36</th>\n",
       "      <td>Q1_95</td>\n",
       "      <td>3854.000000</td>\n",
       "      <td>Q1 1995</td>\n",
       "      <td>1995-01-01</td>\n",
       "      <td>Q1</td>\n",
       "      <td>Jan</td>\n",
       "      <td>1995</td>\n",
       "    </tr>\n",
       "    <tr>\n",
       "      <th>37</th>\n",
       "      <td>Q2_95</td>\n",
       "      <td>4936.000000</td>\n",
       "      <td>Q2 1995</td>\n",
       "      <td>1995-04-01</td>\n",
       "      <td>Q2</td>\n",
       "      <td>Apr</td>\n",
       "      <td>1995</td>\n",
       "    </tr>\n",
       "    <tr>\n",
       "      <th>38</th>\n",
       "      <td>Q3_95</td>\n",
       "      <td>4895.000000</td>\n",
       "      <td>Q3 1995</td>\n",
       "      <td>1995-07-01</td>\n",
       "      <td>Q3</td>\n",
       "      <td>Jul</td>\n",
       "      <td>1995</td>\n",
       "    </tr>\n",
       "    <tr>\n",
       "      <th>39</th>\n",
       "      <td>Q4_95</td>\n",
       "      <td>4333.000000</td>\n",
       "      <td>Q4 1995</td>\n",
       "      <td>1995-10-01</td>\n",
       "      <td>Q4</td>\n",
       "      <td>Oct</td>\n",
       "      <td>1995</td>\n",
       "    </tr>\n",
       "    <tr>\n",
       "      <th>40</th>\n",
       "      <td>Q1_96</td>\n",
       "      <td>4194.000000</td>\n",
       "      <td>Q1 1996</td>\n",
       "      <td>1996-01-01</td>\n",
       "      <td>Q1</td>\n",
       "      <td>Jan</td>\n",
       "      <td>1996</td>\n",
       "    </tr>\n",
       "    <tr>\n",
       "      <th>41</th>\n",
       "      <td>Q2_96</td>\n",
       "      <td>5253.000000</td>\n",
       "      <td>Q2 1996</td>\n",
       "      <td>1996-04-01</td>\n",
       "      <td>Q2</td>\n",
       "      <td>Apr</td>\n",
       "      <td>1996</td>\n",
       "    </tr>\n",
       "  </tbody>\n",
       "</table>\n",
       "</div>"
      ],
      "text/plain": [
       "     quar         sale quarter_year       Date quarters month  year\n",
       "0   Q1_86  1734.827000      Q1 1986 1986-01-01       Q1   Jan  1986\n",
       "1   Q2_86  2244.960999      Q2 1986 1986-04-01       Q2   Apr  1986\n",
       "2   Q3_86  2533.804993      Q3 1986 1986-07-01       Q3   Jul  1986\n",
       "3   Q4_86  2154.962997      Q4 1986 1986-10-01       Q4   Oct  1986\n",
       "4   Q1_87  1547.818996      Q1 1987 1987-01-01       Q1   Jan  1987\n",
       "5   Q2_87  2104.411995      Q2 1987 1987-04-01       Q2   Apr  1987\n",
       "6   Q3_87  2014.362999      Q3 1987 1987-07-01       Q3   Jul  1987\n",
       "7   Q4_87  1991.746998      Q4 1987 1987-10-01       Q4   Oct  1987\n",
       "8   Q1_88  1869.049999      Q1 1988 1988-01-01       Q1   Jan  1988\n",
       "9   Q2_88  2313.631996      Q2 1988 1988-04-01       Q2   Apr  1988\n",
       "10  Q3_88  2128.320000      Q3 1988 1988-07-01       Q3   Jul  1988\n",
       "11  Q4_88  2026.828999      Q4 1988 1988-10-01       Q4   Oct  1988\n",
       "12  Q1_89  1910.603996      Q1 1989 1989-01-01       Q1   Jan  1989\n",
       "13  Q2_89  2331.164993      Q2 1989 1989-04-01       Q2   Apr  1989\n",
       "14  Q3_89  2206.549995      Q3 1989 1989-07-01       Q3   Jul  1989\n",
       "15  Q4_89  2173.967995      Q4 1989 1989-10-01       Q4   Oct  1989\n",
       "16  Q1_90  2148.278000      Q1 1990 1990-01-01       Q1   Jan  1990\n",
       "17  Q2_90  2739.307999      Q2 1990 1990-04-01       Q2   Apr  1990\n",
       "18  Q3_90  2792.753998      Q3 1990 1990-07-01       Q3   Jul  1990\n",
       "19  Q4_90  2556.009995      Q4 1990 1990-10-01       Q4   Oct  1990\n",
       "20  Q1_91  2480.973999      Q1 1991 1991-01-01       Q1   Jan  1991\n",
       "21  Q2_91  3039.522995      Q2 1991 1991-04-01       Q2   Apr  1991\n",
       "22  Q3_91  3172.115997      Q3 1991 1991-07-01       Q3   Jul  1991\n",
       "23  Q4_91  2879.000999      Q4 1991 1991-10-01       Q4   Oct  1991\n",
       "24  Q1_92  2772.000000      Q1 1992 1992-01-01       Q1   Jan  1992\n",
       "25  Q2_92  3550.000000      Q2 1992 1992-04-01       Q2   Apr  1992\n",
       "26  Q3_92  3508.000000      Q3 1992 1992-07-01       Q3   Jul  1992\n",
       "27  Q4_92  3243.859993      Q4 1992 1992-10-01       Q4   Oct  1992\n",
       "28  Q1_93  3056.000000      Q1 1993 1993-01-01       Q1   Jan  1993\n",
       "29  Q2_93  3899.000000      Q2 1993 1993-04-01       Q2   Apr  1993\n",
       "30  Q3_93  3629.000000      Q3 1993 1993-07-01       Q3   Jul  1993\n",
       "31  Q4_93  3373.000000      Q4 1993 1993-10-01       Q4   Oct  1993\n",
       "32  Q1_94  3352.000000      Q1 1994 1994-01-01       Q1   Jan  1994\n",
       "33  Q2_94  4342.000000      Q2 1994 1994-04-01       Q2   Apr  1994\n",
       "34  Q3_94  4461.000000      Q3 1994 1994-07-01       Q3   Jul  1994\n",
       "35  Q4_94  4017.000000      Q4 1994 1994-10-01       Q4   Oct  1994\n",
       "36  Q1_95  3854.000000      Q1 1995 1995-01-01       Q1   Jan  1995\n",
       "37  Q2_95  4936.000000      Q2 1995 1995-04-01       Q2   Apr  1995\n",
       "38  Q3_95  4895.000000      Q3 1995 1995-07-01       Q3   Jul  1995\n",
       "39  Q4_95  4333.000000      Q4 1995 1995-10-01       Q4   Oct  1995\n",
       "40  Q1_96  4194.000000      Q1 1996 1996-01-01       Q1   Jan  1996\n",
       "41  Q2_96  5253.000000      Q2 1996 1996-04-01       Q2   Apr  1996"
      ]
     },
     "execution_count": 59,
     "metadata": {},
     "output_type": "execute_result"
    }
   ],
   "source": [
    "cc"
   ]
  },
  {
   "cell_type": "code",
   "execution_count": 60,
   "id": "14ef1adc",
   "metadata": {},
   "outputs": [],
   "source": [
    "from statsmodels.tsa.seasonal import seasonal_decompose\n",
    "from statsmodels.tsa.holtwinters import SimpleExpSmoothing # SES\n",
    "from statsmodels.tsa.holtwinters import Holt # Holts Exponential Smoothing\n",
    "from statsmodels.tsa.holtwinters import ExponentialSmoothing"
   ]
  },
  {
   "cell_type": "markdown",
   "id": "85bc8b56",
   "metadata": {},
   "source": [
    "# Splitting data"
   ]
  },
  {
   "cell_type": "code",
   "execution_count": 61,
   "id": "bf28a8a6",
   "metadata": {},
   "outputs": [],
   "source": [
    "Train  =cc.head(32)\n",
    "Test = cc.tail(10)"
   ]
  },
  {
   "cell_type": "markdown",
   "id": "33f494de",
   "metadata": {},
   "source": [
    "## Moving Average"
   ]
  },
  {
   "cell_type": "code",
   "execution_count": 62,
   "id": "62f9b480",
   "metadata": {},
   "outputs": [
    {
     "data": {
      "text/plain": [
       "<matplotlib.legend.Legend at 0x1b9e55b5520>"
      ]
     },
     "execution_count": 62,
     "metadata": {},
     "output_type": "execute_result"
    },
    {
     "data": {
      "image/png": "[encoded data removed]",
      "text/plain": [
       "<Figure size 1728x504 with 1 Axes>"
      ]
     },
     "metadata": {},
     "output_type": "display_data"
    }
   ],
   "source": [
    "plt.figure(figsize=(24,7))\n",
    "cc.sale.plot(label=\"org\")\n",
    "for i in range(2,30,6):\n",
    "    cc[\"sale\"].rolling(i).mean().plot(label=str(i))\n",
    "plt.legend(loc='best')"
   ]
  },
  {
   "cell_type": "markdown",
   "id": "3e476de1",
   "metadata": {},
   "source": [
    "## Time series decomposition plot"
   ]
  },
  {
   "cell_type": "code",
   "execution_count": 63,
   "id": "00b76173",
   "metadata": {},
   "outputs": [
    {
     "data": {
      "text/plain": [
       "10"
      ]
     },
     "execution_count": 63,
     "metadata": {},
     "output_type": "execute_result"
    }
   ],
   "source": [
    "len(Test)"
   ]
  },
  {
   "cell_type": "code",
   "execution_count": 64,
   "id": "bab7540c",
   "metadata": {},
   "outputs": [
    {
     "data": {
      "image/png": "[encoded data removed]",
      "text/plain": [
       "<Figure size 432x288 with 4 Axes>"
      ]
     },
     "metadata": {},
     "output_type": "display_data"
    }
   ],
   "source": [
    "decompose_ts_add = seasonal_decompose(cc.sale,period= 18)\n",
    "decompose_ts_add.plot()\n",
    "plt.show()"
   ]
  },
  {
   "cell_type": "markdown",
   "id": "61383387",
   "metadata": {},
   "source": [
    "## ACF plots and PACF plots"
   ]
  },
  {
   "cell_type": "code",
   "execution_count": 65,
   "id": "a7d07964",
   "metadata": {},
   "outputs": [
    {
     "data": {
      "image/png": "[encoded data removed]",
      "text/plain": [
       "<Figure size 432x288 with 1 Axes>"
      ]
     },
     "metadata": {},
     "output_type": "display_data"
    },
    {
     "data": {
      "image/png": "[encoded data removed]",
      "text/plain": [
       "<Figure size 432x288 with 1 Axes>"
      ]
     },
     "metadata": {},
     "output_type": "display_data"
    }
   ],
   "source": [
    "import statsmodels.graphics.tsaplots as tsa_plots\n",
    "tsa_plots.plot_acf(cc.sale,lags=18)\n",
    "tsa_plots.plot_pacf(cc.sale,lags=18)\n",
    "plt.show()"
   ]
  },
  {
   "cell_type": "markdown",
   "id": "806bee23",
   "metadata": {},
   "source": [
    "## Evaluation Metric MAPE"
   ]
  },
  {
   "cell_type": "code",
   "execution_count": 66,
   "id": "db36169a",
   "metadata": {},
   "outputs": [],
   "source": [
    "def MAPE(pred,org):\n",
    "    temp = np.abs((pred-org)/org)*100\n",
    "    return np.mean(temp)"
   ]
  },
  {
   "cell_type": "markdown",
   "id": "5ead9f04",
   "metadata": {},
   "source": [
    "## Simple Exponential Method"
   ]
  },
  {
   "cell_type": "code",
   "execution_count": 67,
   "id": "20a15254",
   "metadata": {},
   "outputs": [
    {
     "data": {
      "text/plain": [
       "11.93932845528169"
      ]
     },
     "execution_count": 67,
     "metadata": {},
     "output_type": "execute_result"
    }
   ],
   "source": [
    "import numpy as np\n",
    "ses_model = SimpleExpSmoothing(cc[\"sale\"]).fit(smoothing_level=0.2)\n",
    "pred_ses = ses_model.predict(start = Test.index[0],end = Test.index[-1])\n",
    "MAPE(pred_ses,Test.sale)"
   ]
  },
  {
   "cell_type": "markdown",
   "id": "0d208f3e",
   "metadata": {},
   "source": [
    "## Holt method"
   ]
  },
  {
   "cell_type": "code",
   "execution_count": 68,
   "id": "4e3bad7e",
   "metadata": {},
   "outputs": [
    {
     "data": {
      "text/plain": [
       "16.720651186614596"
      ]
     },
     "execution_count": 68,
     "metadata": {},
     "output_type": "execute_result"
    }
   ],
   "source": [
    "hw_model = Holt(Train[\"sale\"]).fit(smoothing_level=0.8, smoothing_trend=0.2)\n",
    "pred_hw = hw_model.predict(start = Test.index[0],end = Test.index[-1])\n",
    "MAPE(pred_hw,Test.sale) "
   ]
  },
  {
   "cell_type": "markdown",
   "id": "b21dbf08",
   "metadata": {},
   "source": [
    "## Holts winter exponential smoothing with additive seasonality and additive trend\n"
   ]
  },
  {
   "cell_type": "code",
   "execution_count": 69,
   "id": "7a2cece6",
   "metadata": {},
   "outputs": [
    {
     "data": {
      "text/plain": [
       "8.719127378014388"
      ]
     },
     "execution_count": 69,
     "metadata": {},
     "output_type": "execute_result"
    }
   ],
   "source": [
    "hwe_model_add_add = ExponentialSmoothing(Train[\"sale\"],seasonal=\"add\",trend=\"add\",seasonal_periods=2).fit() #add the trend to the model\n",
    "pred_hwe_add_add = hwe_model_add_add.predict(start = Test.index[0],end = Test.index[-1])\n",
    "MAPE(pred_hwe_add_add,Test.sale)"
   ]
  },
  {
   "cell_type": "markdown",
   "id": "81b3ef9f",
   "metadata": {},
   "source": [
    "## Holts winter exponential smoothing with multiplicative seasonality and additive trend\n"
   ]
  },
  {
   "cell_type": "code",
   "execution_count": 70,
   "id": "beca5a03",
   "metadata": {},
   "outputs": [
    {
     "data": {
      "text/plain": [
       "9.178888420104405"
      ]
     },
     "execution_count": 70,
     "metadata": {},
     "output_type": "execute_result"
    }
   ],
   "source": [
    "hwe_model_mul_add = ExponentialSmoothing(Train[\"sale\"],seasonal=\"mul\",trend=\"add\",seasonal_periods=2).fit() \n",
    "pred_hwe_mul_add = hwe_model_mul_add.predict(start = Test.index[0],end = Test.index[-1])\n",
    "MAPE(pred_hwe_mul_add,Test.sale)"
   ]
  },
  {
   "cell_type": "code",
   "execution_count": 71,
   "id": "c2ecf0c7",
   "metadata": {},
   "outputs": [
    {
     "data": {
      "text/plain": [
       "556.8615860087378"
      ]
     },
     "execution_count": 71,
     "metadata": {},
     "output_type": "execute_result"
    }
   ],
   "source": [
    "from sklearn.metrics import mean_squared_error\n",
    "rmse_hwe_mul_add = np.sqrt(mean_squared_error(pred_hwe_mul_add,Test.sale))\n",
    "rmse_hwe_mul_add"
   ]
  },
  {
   "cell_type": "markdown",
   "id": "c9e35d56",
   "metadata": {},
   "source": [
    "## Final Model by combining train and test"
   ]
  },
  {
   "cell_type": "code",
   "execution_count": 72,
   "id": "3d407a9e",
   "metadata": {},
   "outputs": [],
   "source": [
    "hwe_model_add_add = ExponentialSmoothing(cc.sale,seasonal=\"add\",trend=\"add\",seasonal_periods=2).fit()"
   ]
  },
  {
   "cell_type": "code",
   "execution_count": 73,
   "id": "20bf7ec9",
   "metadata": {},
   "outputs": [
    {
     "data": {
      "text/plain": [
       "42    4876.087333\n",
       "43    5141.168985\n",
       "44    5102.106292\n",
       "45    5367.187945\n",
       "46    5328.125252\n",
       "47    5593.206905\n",
       "48    5554.144212\n",
       "49    5819.225864\n",
       "50    5780.163172\n",
       "51    6045.244824\n",
       "dtype: float64"
      ]
     },
     "execution_count": 73,
     "metadata": {},
     "output_type": "execute_result"
    }
   ],
   "source": [
    "#Forecasting for next 10 time periods\n",
    "hwe_model_add_add.forecast(10)"
   ]
  },
  {
   "cell_type": "markdown",
   "id": "86dceace",
   "metadata": {},
   "source": [
    "## Forecasting Model_Arima"
   ]
  },
  {
   "cell_type": "code",
   "execution_count": 74,
   "id": "150fdb5c",
   "metadata": {},
   "outputs": [
    {
     "data": {
      "text/html": [
       "<div>\n",
       "<style scoped>\n",
       "    .dataframe tbody tr th:only-of-type {\n",
       "        vertical-align: middle;\n",
       "    }\n",
       "\n",
       "    .dataframe tbody tr th {\n",
       "        vertical-align: top;\n",
       "    }\n",
       "\n",
       "    .dataframe thead th {\n",
       "        text-align: right;\n",
       "    }\n",
       "</style>\n",
       "<table border=\"1\" class=\"dataframe\">\n",
       "  <thead>\n",
       "    <tr style=\"text-align: right;\">\n",
       "      <th></th>\n",
       "      <th>quar</th>\n",
       "      <th>sale</th>\n",
       "      <th>quarter_year</th>\n",
       "      <th>Date</th>\n",
       "      <th>quarters</th>\n",
       "      <th>month</th>\n",
       "      <th>year</th>\n",
       "    </tr>\n",
       "  </thead>\n",
       "  <tbody>\n",
       "    <tr>\n",
       "      <th>0</th>\n",
       "      <td>Q1_86</td>\n",
       "      <td>1734.827000</td>\n",
       "      <td>Q1 1986</td>\n",
       "      <td>1986-01-01</td>\n",
       "      <td>Q1</td>\n",
       "      <td>Jan</td>\n",
       "      <td>1986</td>\n",
       "    </tr>\n",
       "    <tr>\n",
       "      <th>1</th>\n",
       "      <td>Q2_86</td>\n",
       "      <td>2244.960999</td>\n",
       "      <td>Q2 1986</td>\n",
       "      <td>1986-04-01</td>\n",
       "      <td>Q2</td>\n",
       "      <td>Apr</td>\n",
       "      <td>1986</td>\n",
       "    </tr>\n",
       "    <tr>\n",
       "      <th>2</th>\n",
       "      <td>Q3_86</td>\n",
       "      <td>2533.804993</td>\n",
       "      <td>Q3 1986</td>\n",
       "      <td>1986-07-01</td>\n",
       "      <td>Q3</td>\n",
       "      <td>Jul</td>\n",
       "      <td>1986</td>\n",
       "    </tr>\n",
       "    <tr>\n",
       "      <th>3</th>\n",
       "      <td>Q4_86</td>\n",
       "      <td>2154.962997</td>\n",
       "      <td>Q4 1986</td>\n",
       "      <td>1986-10-01</td>\n",
       "      <td>Q4</td>\n",
       "      <td>Oct</td>\n",
       "      <td>1986</td>\n",
       "    </tr>\n",
       "    <tr>\n",
       "      <th>4</th>\n",
       "      <td>Q1_87</td>\n",
       "      <td>1547.818996</td>\n",
       "      <td>Q1 1987</td>\n",
       "      <td>1987-01-01</td>\n",
       "      <td>Q1</td>\n",
       "      <td>Jan</td>\n",
       "      <td>1987</td>\n",
       "    </tr>\n",
       "  </tbody>\n",
       "</table>\n",
       "</div>"
      ],
      "text/plain": [
       "    quar         sale quarter_year       Date quarters month  year\n",
       "0  Q1_86  1734.827000      Q1 1986 1986-01-01       Q1   Jan  1986\n",
       "1  Q2_86  2244.960999      Q2 1986 1986-04-01       Q2   Apr  1986\n",
       "2  Q3_86  2533.804993      Q3 1986 1986-07-01       Q3   Jul  1986\n",
       "3  Q4_86  2154.962997      Q4 1986 1986-10-01       Q4   Oct  1986\n",
       "4  Q1_87  1547.818996      Q1 1987 1987-01-01       Q1   Jan  1987"
      ]
     },
     "execution_count": 74,
     "metadata": {},
     "output_type": "execute_result"
    }
   ],
   "source": [
    "cc.head()"
   ]
  },
  {
   "cell_type": "code",
   "execution_count": 75,
   "id": "a12635d4",
   "metadata": {},
   "outputs": [],
   "source": [
    "cc['quarter'] = 0\n",
    "for i in range(42):\n",
    "    p = cc['quar'][i]\n",
    "    cc['quarter'][i] = p[0:2]"
   ]
  },
  {
   "cell_type": "code",
   "execution_count": 76,
   "id": "4d8fe6b2",
   "metadata": {},
   "outputs": [
    {
     "data": {
      "text/html": [
       "<div>\n",
       "<style scoped>\n",
       "    .dataframe tbody tr th:only-of-type {\n",
       "        vertical-align: middle;\n",
       "    }\n",
       "\n",
       "    .dataframe tbody tr th {\n",
       "        vertical-align: top;\n",
       "    }\n",
       "\n",
       "    .dataframe thead th {\n",
       "        text-align: right;\n",
       "    }\n",
       "</style>\n",
       "<table border=\"1\" class=\"dataframe\">\n",
       "  <thead>\n",
       "    <tr style=\"text-align: right;\">\n",
       "      <th></th>\n",
       "      <th>quar</th>\n",
       "      <th>sale</th>\n",
       "      <th>quarter_year</th>\n",
       "      <th>Date</th>\n",
       "      <th>quarters</th>\n",
       "      <th>month</th>\n",
       "      <th>year</th>\n",
       "      <th>quarter</th>\n",
       "    </tr>\n",
       "  </thead>\n",
       "  <tbody>\n",
       "    <tr>\n",
       "      <th>0</th>\n",
       "      <td>Q1_86</td>\n",
       "      <td>1734.827000</td>\n",
       "      <td>Q1 1986</td>\n",
       "      <td>1986-01-01</td>\n",
       "      <td>Q1</td>\n",
       "      <td>Jan</td>\n",
       "      <td>1986</td>\n",
       "      <td>Q1</td>\n",
       "    </tr>\n",
       "    <tr>\n",
       "      <th>1</th>\n",
       "      <td>Q2_86</td>\n",
       "      <td>2244.960999</td>\n",
       "      <td>Q2 1986</td>\n",
       "      <td>1986-04-01</td>\n",
       "      <td>Q2</td>\n",
       "      <td>Apr</td>\n",
       "      <td>1986</td>\n",
       "      <td>Q2</td>\n",
       "    </tr>\n",
       "    <tr>\n",
       "      <th>2</th>\n",
       "      <td>Q3_86</td>\n",
       "      <td>2533.804993</td>\n",
       "      <td>Q3 1986</td>\n",
       "      <td>1986-07-01</td>\n",
       "      <td>Q3</td>\n",
       "      <td>Jul</td>\n",
       "      <td>1986</td>\n",
       "      <td>Q3</td>\n",
       "    </tr>\n",
       "    <tr>\n",
       "      <th>3</th>\n",
       "      <td>Q4_86</td>\n",
       "      <td>2154.962997</td>\n",
       "      <td>Q4 1986</td>\n",
       "      <td>1986-10-01</td>\n",
       "      <td>Q4</td>\n",
       "      <td>Oct</td>\n",
       "      <td>1986</td>\n",
       "      <td>Q4</td>\n",
       "    </tr>\n",
       "    <tr>\n",
       "      <th>4</th>\n",
       "      <td>Q1_87</td>\n",
       "      <td>1547.818996</td>\n",
       "      <td>Q1 1987</td>\n",
       "      <td>1987-01-01</td>\n",
       "      <td>Q1</td>\n",
       "      <td>Jan</td>\n",
       "      <td>1987</td>\n",
       "      <td>Q1</td>\n",
       "    </tr>\n",
       "    <tr>\n",
       "      <th>5</th>\n",
       "      <td>Q2_87</td>\n",
       "      <td>2104.411995</td>\n",
       "      <td>Q2 1987</td>\n",
       "      <td>1987-04-01</td>\n",
       "      <td>Q2</td>\n",
       "      <td>Apr</td>\n",
       "      <td>1987</td>\n",
       "      <td>Q2</td>\n",
       "    </tr>\n",
       "    <tr>\n",
       "      <th>6</th>\n",
       "      <td>Q3_87</td>\n",
       "      <td>2014.362999</td>\n",
       "      <td>Q3 1987</td>\n",
       "      <td>1987-07-01</td>\n",
       "      <td>Q3</td>\n",
       "      <td>Jul</td>\n",
       "      <td>1987</td>\n",
       "      <td>Q3</td>\n",
       "    </tr>\n",
       "    <tr>\n",
       "      <th>7</th>\n",
       "      <td>Q4_87</td>\n",
       "      <td>1991.746998</td>\n",
       "      <td>Q4 1987</td>\n",
       "      <td>1987-10-01</td>\n",
       "      <td>Q4</td>\n",
       "      <td>Oct</td>\n",
       "      <td>1987</td>\n",
       "      <td>Q4</td>\n",
       "    </tr>\n",
       "    <tr>\n",
       "      <th>8</th>\n",
       "      <td>Q1_88</td>\n",
       "      <td>1869.049999</td>\n",
       "      <td>Q1 1988</td>\n",
       "      <td>1988-01-01</td>\n",
       "      <td>Q1</td>\n",
       "      <td>Jan</td>\n",
       "      <td>1988</td>\n",
       "      <td>Q1</td>\n",
       "    </tr>\n",
       "    <tr>\n",
       "      <th>9</th>\n",
       "      <td>Q2_88</td>\n",
       "      <td>2313.631996</td>\n",
       "      <td>Q2 1988</td>\n",
       "      <td>1988-04-01</td>\n",
       "      <td>Q2</td>\n",
       "      <td>Apr</td>\n",
       "      <td>1988</td>\n",
       "      <td>Q2</td>\n",
       "    </tr>\n",
       "    <tr>\n",
       "      <th>10</th>\n",
       "      <td>Q3_88</td>\n",
       "      <td>2128.320000</td>\n",
       "      <td>Q3 1988</td>\n",
       "      <td>1988-07-01</td>\n",
       "      <td>Q3</td>\n",
       "      <td>Jul</td>\n",
       "      <td>1988</td>\n",
       "      <td>Q3</td>\n",
       "    </tr>\n",
       "    <tr>\n",
       "      <th>11</th>\n",
       "      <td>Q4_88</td>\n",
       "      <td>2026.828999</td>\n",
       "      <td>Q4 1988</td>\n",
       "      <td>1988-10-01</td>\n",
       "      <td>Q4</td>\n",
       "      <td>Oct</td>\n",
       "      <td>1988</td>\n",
       "      <td>Q4</td>\n",
       "    </tr>\n",
       "    <tr>\n",
       "      <th>12</th>\n",
       "      <td>Q1_89</td>\n",
       "      <td>1910.603996</td>\n",
       "      <td>Q1 1989</td>\n",
       "      <td>1989-01-01</td>\n",
       "      <td>Q1</td>\n",
       "      <td>Jan</td>\n",
       "      <td>1989</td>\n",
       "      <td>Q1</td>\n",
       "    </tr>\n",
       "    <tr>\n",
       "      <th>13</th>\n",
       "      <td>Q2_89</td>\n",
       "      <td>2331.164993</td>\n",
       "      <td>Q2 1989</td>\n",
       "      <td>1989-04-01</td>\n",
       "      <td>Q2</td>\n",
       "      <td>Apr</td>\n",
       "      <td>1989</td>\n",
       "      <td>Q2</td>\n",
       "    </tr>\n",
       "    <tr>\n",
       "      <th>14</th>\n",
       "      <td>Q3_89</td>\n",
       "      <td>2206.549995</td>\n",
       "      <td>Q3 1989</td>\n",
       "      <td>1989-07-01</td>\n",
       "      <td>Q3</td>\n",
       "      <td>Jul</td>\n",
       "      <td>1989</td>\n",
       "      <td>Q3</td>\n",
       "    </tr>\n",
       "    <tr>\n",
       "      <th>15</th>\n",
       "      <td>Q4_89</td>\n",
       "      <td>2173.967995</td>\n",
       "      <td>Q4 1989</td>\n",
       "      <td>1989-10-01</td>\n",
       "      <td>Q4</td>\n",
       "      <td>Oct</td>\n",
       "      <td>1989</td>\n",
       "      <td>Q4</td>\n",
       "    </tr>\n",
       "    <tr>\n",
       "      <th>16</th>\n",
       "      <td>Q1_90</td>\n",
       "      <td>2148.278000</td>\n",
       "      <td>Q1 1990</td>\n",
       "      <td>1990-01-01</td>\n",
       "      <td>Q1</td>\n",
       "      <td>Jan</td>\n",
       "      <td>1990</td>\n",
       "      <td>Q1</td>\n",
       "    </tr>\n",
       "    <tr>\n",
       "      <th>17</th>\n",
       "      <td>Q2_90</td>\n",
       "      <td>2739.307999</td>\n",
       "      <td>Q2 1990</td>\n",
       "      <td>1990-04-01</td>\n",
       "      <td>Q2</td>\n",
       "      <td>Apr</td>\n",
       "      <td>1990</td>\n",
       "      <td>Q2</td>\n",
       "    </tr>\n",
       "    <tr>\n",
       "      <th>18</th>\n",
       "      <td>Q3_90</td>\n",
       "      <td>2792.753998</td>\n",
       "      <td>Q3 1990</td>\n",
       "      <td>1990-07-01</td>\n",
       "      <td>Q3</td>\n",
       "      <td>Jul</td>\n",
       "      <td>1990</td>\n",
       "      <td>Q3</td>\n",
       "    </tr>\n",
       "    <tr>\n",
       "      <th>19</th>\n",
       "      <td>Q4_90</td>\n",
       "      <td>2556.009995</td>\n",
       "      <td>Q4 1990</td>\n",
       "      <td>1990-10-01</td>\n",
       "      <td>Q4</td>\n",
       "      <td>Oct</td>\n",
       "      <td>1990</td>\n",
       "      <td>Q4</td>\n",
       "    </tr>\n",
       "    <tr>\n",
       "      <th>20</th>\n",
       "      <td>Q1_91</td>\n",
       "      <td>2480.973999</td>\n",
       "      <td>Q1 1991</td>\n",
       "      <td>1991-01-01</td>\n",
       "      <td>Q1</td>\n",
       "      <td>Jan</td>\n",
       "      <td>1991</td>\n",
       "      <td>Q1</td>\n",
       "    </tr>\n",
       "    <tr>\n",
       "      <th>21</th>\n",
       "      <td>Q2_91</td>\n",
       "      <td>3039.522995</td>\n",
       "      <td>Q2 1991</td>\n",
       "      <td>1991-04-01</td>\n",
       "      <td>Q2</td>\n",
       "      <td>Apr</td>\n",
       "      <td>1991</td>\n",
       "      <td>Q2</td>\n",
       "    </tr>\n",
       "    <tr>\n",
       "      <th>22</th>\n",
       "      <td>Q3_91</td>\n",
       "      <td>3172.115997</td>\n",
       "      <td>Q3 1991</td>\n",
       "      <td>1991-07-01</td>\n",
       "      <td>Q3</td>\n",
       "      <td>Jul</td>\n",
       "      <td>1991</td>\n",
       "      <td>Q3</td>\n",
       "    </tr>\n",
       "    <tr>\n",
       "      <th>23</th>\n",
       "      <td>Q4_91</td>\n",
       "      <td>2879.000999</td>\n",
       "      <td>Q4 1991</td>\n",
       "      <td>1991-10-01</td>\n",
       "      <td>Q4</td>\n",
       "      <td>Oct</td>\n",
       "      <td>1991</td>\n",
       "      <td>Q4</td>\n",
       "    </tr>\n",
       "    <tr>\n",
       "      <th>24</th>\n",
       "      <td>Q1_92</td>\n",
       "      <td>2772.000000</td>\n",
       "      <td>Q1 1992</td>\n",
       "      <td>1992-01-01</td>\n",
       "      <td>Q1</td>\n",
       "      <td>Jan</td>\n",
       "      <td>1992</td>\n",
       "      <td>Q1</td>\n",
       "    </tr>\n",
       "    <tr>\n",
       "      <th>25</th>\n",
       "      <td>Q2_92</td>\n",
       "      <td>3550.000000</td>\n",
       "      <td>Q2 1992</td>\n",
       "      <td>1992-04-01</td>\n",
       "      <td>Q2</td>\n",
       "      <td>Apr</td>\n",
       "      <td>1992</td>\n",
       "      <td>Q2</td>\n",
       "    </tr>\n",
       "    <tr>\n",
       "      <th>26</th>\n",
       "      <td>Q3_92</td>\n",
       "      <td>3508.000000</td>\n",
       "      <td>Q3 1992</td>\n",
       "      <td>1992-07-01</td>\n",
       "      <td>Q3</td>\n",
       "      <td>Jul</td>\n",
       "      <td>1992</td>\n",
       "      <td>Q3</td>\n",
       "    </tr>\n",
       "    <tr>\n",
       "      <th>27</th>\n",
       "      <td>Q4_92</td>\n",
       "      <td>3243.859993</td>\n",
       "      <td>Q4 1992</td>\n",
       "      <td>1992-10-01</td>\n",
       "      <td>Q4</td>\n",
       "      <td>Oct</td>\n",
       "      <td>1992</td>\n",
       "      <td>Q4</td>\n",
       "    </tr>\n",
       "    <tr>\n",
       "      <th>28</th>\n",
       "      <td>Q1_93</td>\n",
       "      <td>3056.000000</td>\n",
       "      <td>Q1 1993</td>\n",
       "      <td>1993-01-01</td>\n",
       "      <td>Q1</td>\n",
       "      <td>Jan</td>\n",
       "      <td>1993</td>\n",
       "      <td>Q1</td>\n",
       "    </tr>\n",
       "    <tr>\n",
       "      <th>29</th>\n",
       "      <td>Q2_93</td>\n",
       "      <td>3899.000000</td>\n",
       "      <td>Q2 1993</td>\n",
       "      <td>1993-04-01</td>\n",
       "      <td>Q2</td>\n",
       "      <td>Apr</td>\n",
       "      <td>1993</td>\n",
       "      <td>Q2</td>\n",
       "    </tr>\n",
       "    <tr>\n",
       "      <th>30</th>\n",
       "      <td>Q3_93</td>\n",
       "      <td>3629.000000</td>\n",
       "      <td>Q3 1993</td>\n",
       "      <td>1993-07-01</td>\n",
       "      <td>Q3</td>\n",
       "      <td>Jul</td>\n",
       "      <td>1993</td>\n",
       "      <td>Q3</td>\n",
       "    </tr>\n",
       "    <tr>\n",
       "      <th>31</th>\n",
       "      <td>Q4_93</td>\n",
       "      <td>3373.000000</td>\n",
       "      <td>Q4 1993</td>\n",
       "      <td>1993-10-01</td>\n",
       "      <td>Q4</td>\n",
       "      <td>Oct</td>\n",
       "      <td>1993</td>\n",
       "      <td>Q4</td>\n",
       "    </tr>\n",
       "    <tr>\n",
       "      <th>32</th>\n",
       "      <td>Q1_94</td>\n",
       "      <td>3352.000000</td>\n",
       "      <td>Q1 1994</td>\n",
       "      <td>1994-01-01</td>\n",
       "      <td>Q1</td>\n",
       "      <td>Jan</td>\n",
       "      <td>1994</td>\n",
       "      <td>Q1</td>\n",
       "    </tr>\n",
       "    <tr>\n",
       "      <th>33</th>\n",
       "      <td>Q2_94</td>\n",
       "      <td>4342.000000</td>\n",
       "      <td>Q2 1994</td>\n",
       "      <td>1994-04-01</td>\n",
       "      <td>Q2</td>\n",
       "      <td>Apr</td>\n",
       "      <td>1994</td>\n",
       "      <td>Q2</td>\n",
       "    </tr>\n",
       "    <tr>\n",
       "      <th>34</th>\n",
       "      <td>Q3_94</td>\n",
       "      <td>4461.000000</td>\n",
       "      <td>Q3 1994</td>\n",
       "      <td>1994-07-01</td>\n",
       "      <td>Q3</td>\n",
       "      <td>Jul</td>\n",
       "      <td>1994</td>\n",
       "      <td>Q3</td>\n",
       "    </tr>\n",
       "    <tr>\n",
       "      <th>35</th>\n",
       "      <td>Q4_94</td>\n",
       "      <td>4017.000000</td>\n",
       "      <td>Q4 1994</td>\n",
       "      <td>1994-10-01</td>\n",
       "      <td>Q4</td>\n",
       "      <td>Oct</td>\n",
       "      <td>1994</td>\n",
       "      <td>Q4</td>\n",
       "    </tr>\n",
       "    <tr>\n",
       "      <th>36</th>\n",
       "      <td>Q1_95</td>\n",
       "      <td>3854.000000</td>\n",
       "      <td>Q1 1995</td>\n",
       "      <td>1995-01-01</td>\n",
       "      <td>Q1</td>\n",
       "      <td>Jan</td>\n",
       "      <td>1995</td>\n",
       "      <td>Q1</td>\n",
       "    </tr>\n",
       "    <tr>\n",
       "      <th>37</th>\n",
       "      <td>Q2_95</td>\n",
       "      <td>4936.000000</td>\n",
       "      <td>Q2 1995</td>\n",
       "      <td>1995-04-01</td>\n",
       "      <td>Q2</td>\n",
       "      <td>Apr</td>\n",
       "      <td>1995</td>\n",
       "      <td>Q2</td>\n",
       "    </tr>\n",
       "    <tr>\n",
       "      <th>38</th>\n",
       "      <td>Q3_95</td>\n",
       "      <td>4895.000000</td>\n",
       "      <td>Q3 1995</td>\n",
       "      <td>1995-07-01</td>\n",
       "      <td>Q3</td>\n",
       "      <td>Jul</td>\n",
       "      <td>1995</td>\n",
       "      <td>Q3</td>\n",
       "    </tr>\n",
       "    <tr>\n",
       "      <th>39</th>\n",
       "      <td>Q4_95</td>\n",
       "      <td>4333.000000</td>\n",
       "      <td>Q4 1995</td>\n",
       "      <td>1995-10-01</td>\n",
       "      <td>Q4</td>\n",
       "      <td>Oct</td>\n",
       "      <td>1995</td>\n",
       "      <td>Q4</td>\n",
       "    </tr>\n",
       "    <tr>\n",
       "      <th>40</th>\n",
       "      <td>Q1_96</td>\n",
       "      <td>4194.000000</td>\n",
       "      <td>Q1 1996</td>\n",
       "      <td>1996-01-01</td>\n",
       "      <td>Q1</td>\n",
       "      <td>Jan</td>\n",
       "      <td>1996</td>\n",
       "      <td>Q1</td>\n",
       "    </tr>\n",
       "    <tr>\n",
       "      <th>41</th>\n",
       "      <td>Q2_96</td>\n",
       "      <td>5253.000000</td>\n",
       "      <td>Q2 1996</td>\n",
       "      <td>1996-04-01</td>\n",
       "      <td>Q2</td>\n",
       "      <td>Apr</td>\n",
       "      <td>1996</td>\n",
       "      <td>Q2</td>\n",
       "    </tr>\n",
       "  </tbody>\n",
       "</table>\n",
       "</div>"
      ],
      "text/plain": [
       "     quar         sale quarter_year       Date quarters month  year quarter\n",
       "0   Q1_86  1734.827000      Q1 1986 1986-01-01       Q1   Jan  1986      Q1\n",
       "1   Q2_86  2244.960999      Q2 1986 1986-04-01       Q2   Apr  1986      Q2\n",
       "2   Q3_86  2533.804993      Q3 1986 1986-07-01       Q3   Jul  1986      Q3\n",
       "3   Q4_86  2154.962997      Q4 1986 1986-10-01       Q4   Oct  1986      Q4\n",
       "4   Q1_87  1547.818996      Q1 1987 1987-01-01       Q1   Jan  1987      Q1\n",
       "5   Q2_87  2104.411995      Q2 1987 1987-04-01       Q2   Apr  1987      Q2\n",
       "6   Q3_87  2014.362999      Q3 1987 1987-07-01       Q3   Jul  1987      Q3\n",
       "7   Q4_87  1991.746998      Q4 1987 1987-10-01       Q4   Oct  1987      Q4\n",
       "8   Q1_88  1869.049999      Q1 1988 1988-01-01       Q1   Jan  1988      Q1\n",
       "9   Q2_88  2313.631996      Q2 1988 1988-04-01       Q2   Apr  1988      Q2\n",
       "10  Q3_88  2128.320000      Q3 1988 1988-07-01       Q3   Jul  1988      Q3\n",
       "11  Q4_88  2026.828999      Q4 1988 1988-10-01       Q4   Oct  1988      Q4\n",
       "12  Q1_89  1910.603996      Q1 1989 1989-01-01       Q1   Jan  1989      Q1\n",
       "13  Q2_89  2331.164993      Q2 1989 1989-04-01       Q2   Apr  1989      Q2\n",
       "14  Q3_89  2206.549995      Q3 1989 1989-07-01       Q3   Jul  1989      Q3\n",
       "15  Q4_89  2173.967995      Q4 1989 1989-10-01       Q4   Oct  1989      Q4\n",
       "16  Q1_90  2148.278000      Q1 1990 1990-01-01       Q1   Jan  1990      Q1\n",
       "17  Q2_90  2739.307999      Q2 1990 1990-04-01       Q2   Apr  1990      Q2\n",
       "18  Q3_90  2792.753998      Q3 1990 1990-07-01       Q3   Jul  1990      Q3\n",
       "19  Q4_90  2556.009995      Q4 1990 1990-10-01       Q4   Oct  1990      Q4\n",
       "20  Q1_91  2480.973999      Q1 1991 1991-01-01       Q1   Jan  1991      Q1\n",
       "21  Q2_91  3039.522995      Q2 1991 1991-04-01       Q2   Apr  1991      Q2\n",
       "22  Q3_91  3172.115997      Q3 1991 1991-07-01       Q3   Jul  1991      Q3\n",
       "23  Q4_91  2879.000999      Q4 1991 1991-10-01       Q4   Oct  1991      Q4\n",
       "24  Q1_92  2772.000000      Q1 1992 1992-01-01       Q1   Jan  1992      Q1\n",
       "25  Q2_92  3550.000000      Q2 1992 1992-04-01       Q2   Apr  1992      Q2\n",
       "26  Q3_92  3508.000000      Q3 1992 1992-07-01       Q3   Jul  1992      Q3\n",
       "27  Q4_92  3243.859993      Q4 1992 1992-10-01       Q4   Oct  1992      Q4\n",
       "28  Q1_93  3056.000000      Q1 1993 1993-01-01       Q1   Jan  1993      Q1\n",
       "29  Q2_93  3899.000000      Q2 1993 1993-04-01       Q2   Apr  1993      Q2\n",
       "30  Q3_93  3629.000000      Q3 1993 1993-07-01       Q3   Jul  1993      Q3\n",
       "31  Q4_93  3373.000000      Q4 1993 1993-10-01       Q4   Oct  1993      Q4\n",
       "32  Q1_94  3352.000000      Q1 1994 1994-01-01       Q1   Jan  1994      Q1\n",
       "33  Q2_94  4342.000000      Q2 1994 1994-04-01       Q2   Apr  1994      Q2\n",
       "34  Q3_94  4461.000000      Q3 1994 1994-07-01       Q3   Jul  1994      Q3\n",
       "35  Q4_94  4017.000000      Q4 1994 1994-10-01       Q4   Oct  1994      Q4\n",
       "36  Q1_95  3854.000000      Q1 1995 1995-01-01       Q1   Jan  1995      Q1\n",
       "37  Q2_95  4936.000000      Q2 1995 1995-04-01       Q2   Apr  1995      Q2\n",
       "38  Q3_95  4895.000000      Q3 1995 1995-07-01       Q3   Jul  1995      Q3\n",
       "39  Q4_95  4333.000000      Q4 1995 1995-10-01       Q4   Oct  1995      Q4\n",
       "40  Q1_96  4194.000000      Q1 1996 1996-01-01       Q1   Jan  1996      Q1\n",
       "41  Q2_96  5253.000000      Q2 1996 1996-04-01       Q2   Apr  1996      Q2"
      ]
     },
     "execution_count": 76,
     "metadata": {},
     "output_type": "execute_result"
    }
   ],
   "source": [
    "cc"
   ]
  },
  {
   "cell_type": "code",
   "execution_count": 77,
   "id": "006810b9",
   "metadata": {},
   "outputs": [
    {
     "data": {
      "text/plain": [
       "Q1    11\n",
       "Q2    11\n",
       "Q3    10\n",
       "Q4    10\n",
       "Name: quarter, dtype: int64"
      ]
     },
     "execution_count": 77,
     "metadata": {},
     "output_type": "execute_result"
    }
   ],
   "source": [
    "cc['quarter'].value_counts()"
   ]
  },
  {
   "cell_type": "code",
   "execution_count": 78,
   "id": "04dc3f4b",
   "metadata": {},
   "outputs": [],
   "source": [
    "cc_dummies = pd.DataFrame(pd.get_dummies(cc['quarter']), columns = ['Q1','Q2','Q3','Q4'])\n",
    "cc = pd.concat([cc, cc_dummies], axis = 1)"
   ]
  },
  {
   "cell_type": "code",
   "execution_count": 79,
   "id": "47b7a0f3",
   "metadata": {},
   "outputs": [
    {
     "data": {
      "text/html": [
       "<div>\n",
       "<style scoped>\n",
       "    .dataframe tbody tr th:only-of-type {\n",
       "        vertical-align: middle;\n",
       "    }\n",
       "\n",
       "    .dataframe tbody tr th {\n",
       "        vertical-align: top;\n",
       "    }\n",
       "\n",
       "    .dataframe thead th {\n",
       "        text-align: right;\n",
       "    }\n",
       "</style>\n",
       "<table border=\"1\" class=\"dataframe\">\n",
       "  <thead>\n",
       "    <tr style=\"text-align: right;\">\n",
       "      <th></th>\n",
       "      <th>quar</th>\n",
       "      <th>sale</th>\n",
       "      <th>quarter_year</th>\n",
       "      <th>Date</th>\n",
       "      <th>quarters</th>\n",
       "      <th>month</th>\n",
       "      <th>year</th>\n",
       "      <th>quarter</th>\n",
       "      <th>Q1</th>\n",
       "      <th>Q2</th>\n",
       "      <th>Q3</th>\n",
       "      <th>Q4</th>\n",
       "    </tr>\n",
       "  </thead>\n",
       "  <tbody>\n",
       "    <tr>\n",
       "      <th>0</th>\n",
       "      <td>Q1_86</td>\n",
       "      <td>1734.827000</td>\n",
       "      <td>Q1 1986</td>\n",
       "      <td>1986-01-01</td>\n",
       "      <td>Q1</td>\n",
       "      <td>Jan</td>\n",
       "      <td>1986</td>\n",
       "      <td>Q1</td>\n",
       "      <td>1</td>\n",
       "      <td>0</td>\n",
       "      <td>0</td>\n",
       "      <td>0</td>\n",
       "    </tr>\n",
       "    <tr>\n",
       "      <th>1</th>\n",
       "      <td>Q2_86</td>\n",
       "      <td>2244.960999</td>\n",
       "      <td>Q2 1986</td>\n",
       "      <td>1986-04-01</td>\n",
       "      <td>Q2</td>\n",
       "      <td>Apr</td>\n",
       "      <td>1986</td>\n",
       "      <td>Q2</td>\n",
       "      <td>0</td>\n",
       "      <td>1</td>\n",
       "      <td>0</td>\n",
       "      <td>0</td>\n",
       "    </tr>\n",
       "    <tr>\n",
       "      <th>2</th>\n",
       "      <td>Q3_86</td>\n",
       "      <td>2533.804993</td>\n",
       "      <td>Q3 1986</td>\n",
       "      <td>1986-07-01</td>\n",
       "      <td>Q3</td>\n",
       "      <td>Jul</td>\n",
       "      <td>1986</td>\n",
       "      <td>Q3</td>\n",
       "      <td>0</td>\n",
       "      <td>0</td>\n",
       "      <td>1</td>\n",
       "      <td>0</td>\n",
       "    </tr>\n",
       "    <tr>\n",
       "      <th>3</th>\n",
       "      <td>Q4_86</td>\n",
       "      <td>2154.962997</td>\n",
       "      <td>Q4 1986</td>\n",
       "      <td>1986-10-01</td>\n",
       "      <td>Q4</td>\n",
       "      <td>Oct</td>\n",
       "      <td>1986</td>\n",
       "      <td>Q4</td>\n",
       "      <td>0</td>\n",
       "      <td>0</td>\n",
       "      <td>0</td>\n",
       "      <td>1</td>\n",
       "    </tr>\n",
       "    <tr>\n",
       "      <th>4</th>\n",
       "      <td>Q1_87</td>\n",
       "      <td>1547.818996</td>\n",
       "      <td>Q1 1987</td>\n",
       "      <td>1987-01-01</td>\n",
       "      <td>Q1</td>\n",
       "      <td>Jan</td>\n",
       "      <td>1987</td>\n",
       "      <td>Q1</td>\n",
       "      <td>1</td>\n",
       "      <td>0</td>\n",
       "      <td>0</td>\n",
       "      <td>0</td>\n",
       "    </tr>\n",
       "  </tbody>\n",
       "</table>\n",
       "</div>"
      ],
      "text/plain": [
       "    quar         sale quarter_year       Date quarters month  year quarter  \\\n",
       "0  Q1_86  1734.827000      Q1 1986 1986-01-01       Q1   Jan  1986      Q1   \n",
       "1  Q2_86  2244.960999      Q2 1986 1986-04-01       Q2   Apr  1986      Q2   \n",
       "2  Q3_86  2533.804993      Q3 1986 1986-07-01       Q3   Jul  1986      Q3   \n",
       "3  Q4_86  2154.962997      Q4 1986 1986-10-01       Q4   Oct  1986      Q4   \n",
       "4  Q1_87  1547.818996      Q1 1987 1987-01-01       Q1   Jan  1987      Q1   \n",
       "\n",
       "   Q1  Q2  Q3  Q4  \n",
       "0   1   0   0   0  \n",
       "1   0   1   0   0  \n",
       "2   0   0   1   0  \n",
       "3   0   0   0   1  \n",
       "4   1   0   0   0  "
      ]
     },
     "execution_count": 79,
     "metadata": {},
     "output_type": "execute_result"
    }
   ],
   "source": [
    "cc.head()"
   ]
  },
  {
   "cell_type": "code",
   "execution_count": 80,
   "id": "ea0a0caa",
   "metadata": {},
   "outputs": [
    {
     "data": {
      "text/html": [
       "<div>\n",
       "<style scoped>\n",
       "    .dataframe tbody tr th:only-of-type {\n",
       "        vertical-align: middle;\n",
       "    }\n",
       "\n",
       "    .dataframe tbody tr th {\n",
       "        vertical-align: top;\n",
       "    }\n",
       "\n",
       "    .dataframe thead th {\n",
       "        text-align: right;\n",
       "    }\n",
       "</style>\n",
       "<table border=\"1\" class=\"dataframe\">\n",
       "  <thead>\n",
       "    <tr style=\"text-align: right;\">\n",
       "      <th></th>\n",
       "      <th>quar</th>\n",
       "      <th>sale</th>\n",
       "      <th>quarter_year</th>\n",
       "      <th>Date</th>\n",
       "      <th>quarters</th>\n",
       "      <th>month</th>\n",
       "      <th>year</th>\n",
       "      <th>quarter</th>\n",
       "      <th>Q1</th>\n",
       "      <th>Q2</th>\n",
       "      <th>Q3</th>\n",
       "      <th>Q4</th>\n",
       "      <th>t</th>\n",
       "      <th>t_squared</th>\n",
       "      <th>sale_log</th>\n",
       "    </tr>\n",
       "  </thead>\n",
       "  <tbody>\n",
       "    <tr>\n",
       "      <th>0</th>\n",
       "      <td>Q1_86</td>\n",
       "      <td>1734.827000</td>\n",
       "      <td>Q1 1986</td>\n",
       "      <td>1986-01-01</td>\n",
       "      <td>Q1</td>\n",
       "      <td>Jan</td>\n",
       "      <td>1986</td>\n",
       "      <td>Q1</td>\n",
       "      <td>1</td>\n",
       "      <td>0</td>\n",
       "      <td>0</td>\n",
       "      <td>0</td>\n",
       "      <td>1</td>\n",
       "      <td>1</td>\n",
       "      <td>7.458663</td>\n",
       "    </tr>\n",
       "    <tr>\n",
       "      <th>1</th>\n",
       "      <td>Q2_86</td>\n",
       "      <td>2244.960999</td>\n",
       "      <td>Q2 1986</td>\n",
       "      <td>1986-04-01</td>\n",
       "      <td>Q2</td>\n",
       "      <td>Apr</td>\n",
       "      <td>1986</td>\n",
       "      <td>Q2</td>\n",
       "      <td>0</td>\n",
       "      <td>1</td>\n",
       "      <td>0</td>\n",
       "      <td>0</td>\n",
       "      <td>2</td>\n",
       "      <td>4</td>\n",
       "      <td>7.716443</td>\n",
       "    </tr>\n",
       "    <tr>\n",
       "      <th>2</th>\n",
       "      <td>Q3_86</td>\n",
       "      <td>2533.804993</td>\n",
       "      <td>Q3 1986</td>\n",
       "      <td>1986-07-01</td>\n",
       "      <td>Q3</td>\n",
       "      <td>Jul</td>\n",
       "      <td>1986</td>\n",
       "      <td>Q3</td>\n",
       "      <td>0</td>\n",
       "      <td>0</td>\n",
       "      <td>1</td>\n",
       "      <td>0</td>\n",
       "      <td>3</td>\n",
       "      <td>9</td>\n",
       "      <td>7.837477</td>\n",
       "    </tr>\n",
       "    <tr>\n",
       "      <th>3</th>\n",
       "      <td>Q4_86</td>\n",
       "      <td>2154.962997</td>\n",
       "      <td>Q4 1986</td>\n",
       "      <td>1986-10-01</td>\n",
       "      <td>Q4</td>\n",
       "      <td>Oct</td>\n",
       "      <td>1986</td>\n",
       "      <td>Q4</td>\n",
       "      <td>0</td>\n",
       "      <td>0</td>\n",
       "      <td>0</td>\n",
       "      <td>1</td>\n",
       "      <td>4</td>\n",
       "      <td>16</td>\n",
       "      <td>7.675529</td>\n",
       "    </tr>\n",
       "    <tr>\n",
       "      <th>4</th>\n",
       "      <td>Q1_87</td>\n",
       "      <td>1547.818996</td>\n",
       "      <td>Q1 1987</td>\n",
       "      <td>1987-01-01</td>\n",
       "      <td>Q1</td>\n",
       "      <td>Jan</td>\n",
       "      <td>1987</td>\n",
       "      <td>Q1</td>\n",
       "      <td>1</td>\n",
       "      <td>0</td>\n",
       "      <td>0</td>\n",
       "      <td>0</td>\n",
       "      <td>5</td>\n",
       "      <td>25</td>\n",
       "      <td>7.344602</td>\n",
       "    </tr>\n",
       "    <tr>\n",
       "      <th>5</th>\n",
       "      <td>Q2_87</td>\n",
       "      <td>2104.411995</td>\n",
       "      <td>Q2 1987</td>\n",
       "      <td>1987-04-01</td>\n",
       "      <td>Q2</td>\n",
       "      <td>Apr</td>\n",
       "      <td>1987</td>\n",
       "      <td>Q2</td>\n",
       "      <td>0</td>\n",
       "      <td>1</td>\n",
       "      <td>0</td>\n",
       "      <td>0</td>\n",
       "      <td>6</td>\n",
       "      <td>36</td>\n",
       "      <td>7.651791</td>\n",
       "    </tr>\n",
       "    <tr>\n",
       "      <th>6</th>\n",
       "      <td>Q3_87</td>\n",
       "      <td>2014.362999</td>\n",
       "      <td>Q3 1987</td>\n",
       "      <td>1987-07-01</td>\n",
       "      <td>Q3</td>\n",
       "      <td>Jul</td>\n",
       "      <td>1987</td>\n",
       "      <td>Q3</td>\n",
       "      <td>0</td>\n",
       "      <td>0</td>\n",
       "      <td>1</td>\n",
       "      <td>0</td>\n",
       "      <td>7</td>\n",
       "      <td>49</td>\n",
       "      <td>7.608058</td>\n",
       "    </tr>\n",
       "    <tr>\n",
       "      <th>7</th>\n",
       "      <td>Q4_87</td>\n",
       "      <td>1991.746998</td>\n",
       "      <td>Q4 1987</td>\n",
       "      <td>1987-10-01</td>\n",
       "      <td>Q4</td>\n",
       "      <td>Oct</td>\n",
       "      <td>1987</td>\n",
       "      <td>Q4</td>\n",
       "      <td>0</td>\n",
       "      <td>0</td>\n",
       "      <td>0</td>\n",
       "      <td>1</td>\n",
       "      <td>8</td>\n",
       "      <td>64</td>\n",
       "      <td>7.596767</td>\n",
       "    </tr>\n",
       "    <tr>\n",
       "      <th>8</th>\n",
       "      <td>Q1_88</td>\n",
       "      <td>1869.049999</td>\n",
       "      <td>Q1 1988</td>\n",
       "      <td>1988-01-01</td>\n",
       "      <td>Q1</td>\n",
       "      <td>Jan</td>\n",
       "      <td>1988</td>\n",
       "      <td>Q1</td>\n",
       "      <td>1</td>\n",
       "      <td>0</td>\n",
       "      <td>0</td>\n",
       "      <td>0</td>\n",
       "      <td>9</td>\n",
       "      <td>81</td>\n",
       "      <td>7.533186</td>\n",
       "    </tr>\n",
       "    <tr>\n",
       "      <th>9</th>\n",
       "      <td>Q2_88</td>\n",
       "      <td>2313.631996</td>\n",
       "      <td>Q2 1988</td>\n",
       "      <td>1988-04-01</td>\n",
       "      <td>Q2</td>\n",
       "      <td>Apr</td>\n",
       "      <td>1988</td>\n",
       "      <td>Q2</td>\n",
       "      <td>0</td>\n",
       "      <td>1</td>\n",
       "      <td>0</td>\n",
       "      <td>0</td>\n",
       "      <td>10</td>\n",
       "      <td>100</td>\n",
       "      <td>7.746574</td>\n",
       "    </tr>\n",
       "    <tr>\n",
       "      <th>10</th>\n",
       "      <td>Q3_88</td>\n",
       "      <td>2128.320000</td>\n",
       "      <td>Q3 1988</td>\n",
       "      <td>1988-07-01</td>\n",
       "      <td>Q3</td>\n",
       "      <td>Jul</td>\n",
       "      <td>1988</td>\n",
       "      <td>Q3</td>\n",
       "      <td>0</td>\n",
       "      <td>0</td>\n",
       "      <td>1</td>\n",
       "      <td>0</td>\n",
       "      <td>11</td>\n",
       "      <td>121</td>\n",
       "      <td>7.663088</td>\n",
       "    </tr>\n",
       "    <tr>\n",
       "      <th>11</th>\n",
       "      <td>Q4_88</td>\n",
       "      <td>2026.828999</td>\n",
       "      <td>Q4 1988</td>\n",
       "      <td>1988-10-01</td>\n",
       "      <td>Q4</td>\n",
       "      <td>Oct</td>\n",
       "      <td>1988</td>\n",
       "      <td>Q4</td>\n",
       "      <td>0</td>\n",
       "      <td>0</td>\n",
       "      <td>0</td>\n",
       "      <td>1</td>\n",
       "      <td>12</td>\n",
       "      <td>144</td>\n",
       "      <td>7.614228</td>\n",
       "    </tr>\n",
       "    <tr>\n",
       "      <th>12</th>\n",
       "      <td>Q1_89</td>\n",
       "      <td>1910.603996</td>\n",
       "      <td>Q1 1989</td>\n",
       "      <td>1989-01-01</td>\n",
       "      <td>Q1</td>\n",
       "      <td>Jan</td>\n",
       "      <td>1989</td>\n",
       "      <td>Q1</td>\n",
       "      <td>1</td>\n",
       "      <td>0</td>\n",
       "      <td>0</td>\n",
       "      <td>0</td>\n",
       "      <td>13</td>\n",
       "      <td>169</td>\n",
       "      <td>7.555175</td>\n",
       "    </tr>\n",
       "    <tr>\n",
       "      <th>13</th>\n",
       "      <td>Q2_89</td>\n",
       "      <td>2331.164993</td>\n",
       "      <td>Q2 1989</td>\n",
       "      <td>1989-04-01</td>\n",
       "      <td>Q2</td>\n",
       "      <td>Apr</td>\n",
       "      <td>1989</td>\n",
       "      <td>Q2</td>\n",
       "      <td>0</td>\n",
       "      <td>1</td>\n",
       "      <td>0</td>\n",
       "      <td>0</td>\n",
       "      <td>14</td>\n",
       "      <td>196</td>\n",
       "      <td>7.754123</td>\n",
       "    </tr>\n",
       "    <tr>\n",
       "      <th>14</th>\n",
       "      <td>Q3_89</td>\n",
       "      <td>2206.549995</td>\n",
       "      <td>Q3 1989</td>\n",
       "      <td>1989-07-01</td>\n",
       "      <td>Q3</td>\n",
       "      <td>Jul</td>\n",
       "      <td>1989</td>\n",
       "      <td>Q3</td>\n",
       "      <td>0</td>\n",
       "      <td>0</td>\n",
       "      <td>1</td>\n",
       "      <td>0</td>\n",
       "      <td>15</td>\n",
       "      <td>225</td>\n",
       "      <td>7.699185</td>\n",
       "    </tr>\n",
       "    <tr>\n",
       "      <th>15</th>\n",
       "      <td>Q4_89</td>\n",
       "      <td>2173.967995</td>\n",
       "      <td>Q4 1989</td>\n",
       "      <td>1989-10-01</td>\n",
       "      <td>Q4</td>\n",
       "      <td>Oct</td>\n",
       "      <td>1989</td>\n",
       "      <td>Q4</td>\n",
       "      <td>0</td>\n",
       "      <td>0</td>\n",
       "      <td>0</td>\n",
       "      <td>1</td>\n",
       "      <td>16</td>\n",
       "      <td>256</td>\n",
       "      <td>7.684309</td>\n",
       "    </tr>\n",
       "    <tr>\n",
       "      <th>16</th>\n",
       "      <td>Q1_90</td>\n",
       "      <td>2148.278000</td>\n",
       "      <td>Q1 1990</td>\n",
       "      <td>1990-01-01</td>\n",
       "      <td>Q1</td>\n",
       "      <td>Jan</td>\n",
       "      <td>1990</td>\n",
       "      <td>Q1</td>\n",
       "      <td>1</td>\n",
       "      <td>0</td>\n",
       "      <td>0</td>\n",
       "      <td>0</td>\n",
       "      <td>17</td>\n",
       "      <td>289</td>\n",
       "      <td>7.672422</td>\n",
       "    </tr>\n",
       "    <tr>\n",
       "      <th>17</th>\n",
       "      <td>Q2_90</td>\n",
       "      <td>2739.307999</td>\n",
       "      <td>Q2 1990</td>\n",
       "      <td>1990-04-01</td>\n",
       "      <td>Q2</td>\n",
       "      <td>Apr</td>\n",
       "      <td>1990</td>\n",
       "      <td>Q2</td>\n",
       "      <td>0</td>\n",
       "      <td>1</td>\n",
       "      <td>0</td>\n",
       "      <td>0</td>\n",
       "      <td>18</td>\n",
       "      <td>324</td>\n",
       "      <td>7.915461</td>\n",
       "    </tr>\n",
       "    <tr>\n",
       "      <th>18</th>\n",
       "      <td>Q3_90</td>\n",
       "      <td>2792.753998</td>\n",
       "      <td>Q3 1990</td>\n",
       "      <td>1990-07-01</td>\n",
       "      <td>Q3</td>\n",
       "      <td>Jul</td>\n",
       "      <td>1990</td>\n",
       "      <td>Q3</td>\n",
       "      <td>0</td>\n",
       "      <td>0</td>\n",
       "      <td>1</td>\n",
       "      <td>0</td>\n",
       "      <td>19</td>\n",
       "      <td>361</td>\n",
       "      <td>7.934783</td>\n",
       "    </tr>\n",
       "    <tr>\n",
       "      <th>19</th>\n",
       "      <td>Q4_90</td>\n",
       "      <td>2556.009995</td>\n",
       "      <td>Q4 1990</td>\n",
       "      <td>1990-10-01</td>\n",
       "      <td>Q4</td>\n",
       "      <td>Oct</td>\n",
       "      <td>1990</td>\n",
       "      <td>Q4</td>\n",
       "      <td>0</td>\n",
       "      <td>0</td>\n",
       "      <td>0</td>\n",
       "      <td>1</td>\n",
       "      <td>20</td>\n",
       "      <td>400</td>\n",
       "      <td>7.846203</td>\n",
       "    </tr>\n",
       "    <tr>\n",
       "      <th>20</th>\n",
       "      <td>Q1_91</td>\n",
       "      <td>2480.973999</td>\n",
       "      <td>Q1 1991</td>\n",
       "      <td>1991-01-01</td>\n",
       "      <td>Q1</td>\n",
       "      <td>Jan</td>\n",
       "      <td>1991</td>\n",
       "      <td>Q1</td>\n",
       "      <td>1</td>\n",
       "      <td>0</td>\n",
       "      <td>0</td>\n",
       "      <td>0</td>\n",
       "      <td>21</td>\n",
       "      <td>441</td>\n",
       "      <td>7.816407</td>\n",
       "    </tr>\n",
       "    <tr>\n",
       "      <th>21</th>\n",
       "      <td>Q2_91</td>\n",
       "      <td>3039.522995</td>\n",
       "      <td>Q2 1991</td>\n",
       "      <td>1991-04-01</td>\n",
       "      <td>Q2</td>\n",
       "      <td>Apr</td>\n",
       "      <td>1991</td>\n",
       "      <td>Q2</td>\n",
       "      <td>0</td>\n",
       "      <td>1</td>\n",
       "      <td>0</td>\n",
       "      <td>0</td>\n",
       "      <td>22</td>\n",
       "      <td>484</td>\n",
       "      <td>8.019456</td>\n",
       "    </tr>\n",
       "    <tr>\n",
       "      <th>22</th>\n",
       "      <td>Q3_91</td>\n",
       "      <td>3172.115997</td>\n",
       "      <td>Q3 1991</td>\n",
       "      <td>1991-07-01</td>\n",
       "      <td>Q3</td>\n",
       "      <td>Jul</td>\n",
       "      <td>1991</td>\n",
       "      <td>Q3</td>\n",
       "      <td>0</td>\n",
       "      <td>0</td>\n",
       "      <td>1</td>\n",
       "      <td>0</td>\n",
       "      <td>23</td>\n",
       "      <td>529</td>\n",
       "      <td>8.062154</td>\n",
       "    </tr>\n",
       "    <tr>\n",
       "      <th>23</th>\n",
       "      <td>Q4_91</td>\n",
       "      <td>2879.000999</td>\n",
       "      <td>Q4 1991</td>\n",
       "      <td>1991-10-01</td>\n",
       "      <td>Q4</td>\n",
       "      <td>Oct</td>\n",
       "      <td>1991</td>\n",
       "      <td>Q4</td>\n",
       "      <td>0</td>\n",
       "      <td>0</td>\n",
       "      <td>0</td>\n",
       "      <td>1</td>\n",
       "      <td>24</td>\n",
       "      <td>576</td>\n",
       "      <td>7.965199</td>\n",
       "    </tr>\n",
       "    <tr>\n",
       "      <th>24</th>\n",
       "      <td>Q1_92</td>\n",
       "      <td>2772.000000</td>\n",
       "      <td>Q1 1992</td>\n",
       "      <td>1992-01-01</td>\n",
       "      <td>Q1</td>\n",
       "      <td>Jan</td>\n",
       "      <td>1992</td>\n",
       "      <td>Q1</td>\n",
       "      <td>1</td>\n",
       "      <td>0</td>\n",
       "      <td>0</td>\n",
       "      <td>0</td>\n",
       "      <td>25</td>\n",
       "      <td>625</td>\n",
       "      <td>7.927324</td>\n",
       "    </tr>\n",
       "    <tr>\n",
       "      <th>25</th>\n",
       "      <td>Q2_92</td>\n",
       "      <td>3550.000000</td>\n",
       "      <td>Q2 1992</td>\n",
       "      <td>1992-04-01</td>\n",
       "      <td>Q2</td>\n",
       "      <td>Apr</td>\n",
       "      <td>1992</td>\n",
       "      <td>Q2</td>\n",
       "      <td>0</td>\n",
       "      <td>1</td>\n",
       "      <td>0</td>\n",
       "      <td>0</td>\n",
       "      <td>26</td>\n",
       "      <td>676</td>\n",
       "      <td>8.174703</td>\n",
       "    </tr>\n",
       "    <tr>\n",
       "      <th>26</th>\n",
       "      <td>Q3_92</td>\n",
       "      <td>3508.000000</td>\n",
       "      <td>Q3 1992</td>\n",
       "      <td>1992-07-01</td>\n",
       "      <td>Q3</td>\n",
       "      <td>Jul</td>\n",
       "      <td>1992</td>\n",
       "      <td>Q3</td>\n",
       "      <td>0</td>\n",
       "      <td>0</td>\n",
       "      <td>1</td>\n",
       "      <td>0</td>\n",
       "      <td>27</td>\n",
       "      <td>729</td>\n",
       "      <td>8.162801</td>\n",
       "    </tr>\n",
       "    <tr>\n",
       "      <th>27</th>\n",
       "      <td>Q4_92</td>\n",
       "      <td>3243.859993</td>\n",
       "      <td>Q4 1992</td>\n",
       "      <td>1992-10-01</td>\n",
       "      <td>Q4</td>\n",
       "      <td>Oct</td>\n",
       "      <td>1992</td>\n",
       "      <td>Q4</td>\n",
       "      <td>0</td>\n",
       "      <td>0</td>\n",
       "      <td>0</td>\n",
       "      <td>1</td>\n",
       "      <td>28</td>\n",
       "      <td>784</td>\n",
       "      <td>8.084519</td>\n",
       "    </tr>\n",
       "    <tr>\n",
       "      <th>28</th>\n",
       "      <td>Q1_93</td>\n",
       "      <td>3056.000000</td>\n",
       "      <td>Q1 1993</td>\n",
       "      <td>1993-01-01</td>\n",
       "      <td>Q1</td>\n",
       "      <td>Jan</td>\n",
       "      <td>1993</td>\n",
       "      <td>Q1</td>\n",
       "      <td>1</td>\n",
       "      <td>0</td>\n",
       "      <td>0</td>\n",
       "      <td>0</td>\n",
       "      <td>29</td>\n",
       "      <td>841</td>\n",
       "      <td>8.024862</td>\n",
       "    </tr>\n",
       "    <tr>\n",
       "      <th>29</th>\n",
       "      <td>Q2_93</td>\n",
       "      <td>3899.000000</td>\n",
       "      <td>Q2 1993</td>\n",
       "      <td>1993-04-01</td>\n",
       "      <td>Q2</td>\n",
       "      <td>Apr</td>\n",
       "      <td>1993</td>\n",
       "      <td>Q2</td>\n",
       "      <td>0</td>\n",
       "      <td>1</td>\n",
       "      <td>0</td>\n",
       "      <td>0</td>\n",
       "      <td>30</td>\n",
       "      <td>900</td>\n",
       "      <td>8.268475</td>\n",
       "    </tr>\n",
       "    <tr>\n",
       "      <th>30</th>\n",
       "      <td>Q3_93</td>\n",
       "      <td>3629.000000</td>\n",
       "      <td>Q3 1993</td>\n",
       "      <td>1993-07-01</td>\n",
       "      <td>Q3</td>\n",
       "      <td>Jul</td>\n",
       "      <td>1993</td>\n",
       "      <td>Q3</td>\n",
       "      <td>0</td>\n",
       "      <td>0</td>\n",
       "      <td>1</td>\n",
       "      <td>0</td>\n",
       "      <td>31</td>\n",
       "      <td>961</td>\n",
       "      <td>8.196712</td>\n",
       "    </tr>\n",
       "    <tr>\n",
       "      <th>31</th>\n",
       "      <td>Q4_93</td>\n",
       "      <td>3373.000000</td>\n",
       "      <td>Q4 1993</td>\n",
       "      <td>1993-10-01</td>\n",
       "      <td>Q4</td>\n",
       "      <td>Oct</td>\n",
       "      <td>1993</td>\n",
       "      <td>Q4</td>\n",
       "      <td>0</td>\n",
       "      <td>0</td>\n",
       "      <td>0</td>\n",
       "      <td>1</td>\n",
       "      <td>32</td>\n",
       "      <td>1024</td>\n",
       "      <td>8.123558</td>\n",
       "    </tr>\n",
       "    <tr>\n",
       "      <th>32</th>\n",
       "      <td>Q1_94</td>\n",
       "      <td>3352.000000</td>\n",
       "      <td>Q1 1994</td>\n",
       "      <td>1994-01-01</td>\n",
       "      <td>Q1</td>\n",
       "      <td>Jan</td>\n",
       "      <td>1994</td>\n",
       "      <td>Q1</td>\n",
       "      <td>1</td>\n",
       "      <td>0</td>\n",
       "      <td>0</td>\n",
       "      <td>0</td>\n",
       "      <td>33</td>\n",
       "      <td>1089</td>\n",
       "      <td>8.117312</td>\n",
       "    </tr>\n",
       "    <tr>\n",
       "      <th>33</th>\n",
       "      <td>Q2_94</td>\n",
       "      <td>4342.000000</td>\n",
       "      <td>Q2 1994</td>\n",
       "      <td>1994-04-01</td>\n",
       "      <td>Q2</td>\n",
       "      <td>Apr</td>\n",
       "      <td>1994</td>\n",
       "      <td>Q2</td>\n",
       "      <td>0</td>\n",
       "      <td>1</td>\n",
       "      <td>0</td>\n",
       "      <td>0</td>\n",
       "      <td>34</td>\n",
       "      <td>1156</td>\n",
       "      <td>8.376090</td>\n",
       "    </tr>\n",
       "    <tr>\n",
       "      <th>34</th>\n",
       "      <td>Q3_94</td>\n",
       "      <td>4461.000000</td>\n",
       "      <td>Q3 1994</td>\n",
       "      <td>1994-07-01</td>\n",
       "      <td>Q3</td>\n",
       "      <td>Jul</td>\n",
       "      <td>1994</td>\n",
       "      <td>Q3</td>\n",
       "      <td>0</td>\n",
       "      <td>0</td>\n",
       "      <td>1</td>\n",
       "      <td>0</td>\n",
       "      <td>35</td>\n",
       "      <td>1225</td>\n",
       "      <td>8.403128</td>\n",
       "    </tr>\n",
       "    <tr>\n",
       "      <th>35</th>\n",
       "      <td>Q4_94</td>\n",
       "      <td>4017.000000</td>\n",
       "      <td>Q4 1994</td>\n",
       "      <td>1994-10-01</td>\n",
       "      <td>Q4</td>\n",
       "      <td>Oct</td>\n",
       "      <td>1994</td>\n",
       "      <td>Q4</td>\n",
       "      <td>0</td>\n",
       "      <td>0</td>\n",
       "      <td>0</td>\n",
       "      <td>1</td>\n",
       "      <td>36</td>\n",
       "      <td>1296</td>\n",
       "      <td>8.298291</td>\n",
       "    </tr>\n",
       "    <tr>\n",
       "      <th>36</th>\n",
       "      <td>Q1_95</td>\n",
       "      <td>3854.000000</td>\n",
       "      <td>Q1 1995</td>\n",
       "      <td>1995-01-01</td>\n",
       "      <td>Q1</td>\n",
       "      <td>Jan</td>\n",
       "      <td>1995</td>\n",
       "      <td>Q1</td>\n",
       "      <td>1</td>\n",
       "      <td>0</td>\n",
       "      <td>0</td>\n",
       "      <td>0</td>\n",
       "      <td>37</td>\n",
       "      <td>1369</td>\n",
       "      <td>8.256867</td>\n",
       "    </tr>\n",
       "    <tr>\n",
       "      <th>37</th>\n",
       "      <td>Q2_95</td>\n",
       "      <td>4936.000000</td>\n",
       "      <td>Q2 1995</td>\n",
       "      <td>1995-04-01</td>\n",
       "      <td>Q2</td>\n",
       "      <td>Apr</td>\n",
       "      <td>1995</td>\n",
       "      <td>Q2</td>\n",
       "      <td>0</td>\n",
       "      <td>1</td>\n",
       "      <td>0</td>\n",
       "      <td>0</td>\n",
       "      <td>38</td>\n",
       "      <td>1444</td>\n",
       "      <td>8.504311</td>\n",
       "    </tr>\n",
       "    <tr>\n",
       "      <th>38</th>\n",
       "      <td>Q3_95</td>\n",
       "      <td>4895.000000</td>\n",
       "      <td>Q3 1995</td>\n",
       "      <td>1995-07-01</td>\n",
       "      <td>Q3</td>\n",
       "      <td>Jul</td>\n",
       "      <td>1995</td>\n",
       "      <td>Q3</td>\n",
       "      <td>0</td>\n",
       "      <td>0</td>\n",
       "      <td>1</td>\n",
       "      <td>0</td>\n",
       "      <td>39</td>\n",
       "      <td>1521</td>\n",
       "      <td>8.495970</td>\n",
       "    </tr>\n",
       "    <tr>\n",
       "      <th>39</th>\n",
       "      <td>Q4_95</td>\n",
       "      <td>4333.000000</td>\n",
       "      <td>Q4 1995</td>\n",
       "      <td>1995-10-01</td>\n",
       "      <td>Q4</td>\n",
       "      <td>Oct</td>\n",
       "      <td>1995</td>\n",
       "      <td>Q4</td>\n",
       "      <td>0</td>\n",
       "      <td>0</td>\n",
       "      <td>0</td>\n",
       "      <td>1</td>\n",
       "      <td>40</td>\n",
       "      <td>1600</td>\n",
       "      <td>8.374015</td>\n",
       "    </tr>\n",
       "    <tr>\n",
       "      <th>40</th>\n",
       "      <td>Q1_96</td>\n",
       "      <td>4194.000000</td>\n",
       "      <td>Q1 1996</td>\n",
       "      <td>1996-01-01</td>\n",
       "      <td>Q1</td>\n",
       "      <td>Jan</td>\n",
       "      <td>1996</td>\n",
       "      <td>Q1</td>\n",
       "      <td>1</td>\n",
       "      <td>0</td>\n",
       "      <td>0</td>\n",
       "      <td>0</td>\n",
       "      <td>41</td>\n",
       "      <td>1681</td>\n",
       "      <td>8.341410</td>\n",
       "    </tr>\n",
       "    <tr>\n",
       "      <th>41</th>\n",
       "      <td>Q2_96</td>\n",
       "      <td>5253.000000</td>\n",
       "      <td>Q2 1996</td>\n",
       "      <td>1996-04-01</td>\n",
       "      <td>Q2</td>\n",
       "      <td>Apr</td>\n",
       "      <td>1996</td>\n",
       "      <td>Q2</td>\n",
       "      <td>0</td>\n",
       "      <td>1</td>\n",
       "      <td>0</td>\n",
       "      <td>0</td>\n",
       "      <td>42</td>\n",
       "      <td>1764</td>\n",
       "      <td>8.566555</td>\n",
       "    </tr>\n",
       "  </tbody>\n",
       "</table>\n",
       "</div>"
      ],
      "text/plain": [
       "     quar         sale quarter_year       Date quarters month  year quarter  \\\n",
       "0   Q1_86  1734.827000      Q1 1986 1986-01-01       Q1   Jan  1986      Q1   \n",
       "1   Q2_86  2244.960999      Q2 1986 1986-04-01       Q2   Apr  1986      Q2   \n",
       "2   Q3_86  2533.804993      Q3 1986 1986-07-01       Q3   Jul  1986      Q3   \n",
       "3   Q4_86  2154.962997      Q4 1986 1986-10-01       Q4   Oct  1986      Q4   \n",
       "4   Q1_87  1547.818996      Q1 1987 1987-01-01       Q1   Jan  1987      Q1   \n",
       "5   Q2_87  2104.411995      Q2 1987 1987-04-01       Q2   Apr  1987      Q2   \n",
       "6   Q3_87  2014.362999      Q3 1987 1987-07-01       Q3   Jul  1987      Q3   \n",
       "7   Q4_87  1991.746998      Q4 1987 1987-10-01       Q4   Oct  1987      Q4   \n",
       "8   Q1_88  1869.049999      Q1 1988 1988-01-01       Q1   Jan  1988      Q1   \n",
       "9   Q2_88  2313.631996      Q2 1988 1988-04-01       Q2   Apr  1988      Q2   \n",
       "10  Q3_88  2128.320000      Q3 1988 1988-07-01       Q3   Jul  1988      Q3   \n",
       "11  Q4_88  2026.828999      Q4 1988 1988-10-01       Q4   Oct  1988      Q4   \n",
       "12  Q1_89  1910.603996      Q1 1989 1989-01-01       Q1   Jan  1989      Q1   \n",
       "13  Q2_89  2331.164993      Q2 1989 1989-04-01       Q2   Apr  1989      Q2   \n",
       "14  Q3_89  2206.549995      Q3 1989 1989-07-01       Q3   Jul  1989      Q3   \n",
       "15  Q4_89  2173.967995      Q4 1989 1989-10-01       Q4   Oct  1989      Q4   \n",
       "16  Q1_90  2148.278000      Q1 1990 1990-01-01       Q1   Jan  1990      Q1   \n",
       "17  Q2_90  2739.307999      Q2 1990 1990-04-01       Q2   Apr  1990      Q2   \n",
       "18  Q3_90  2792.753998      Q3 1990 1990-07-01       Q3   Jul  1990      Q3   \n",
       "19  Q4_90  2556.009995      Q4 1990 1990-10-01       Q4   Oct  1990      Q4   \n",
       "20  Q1_91  2480.973999      Q1 1991 1991-01-01       Q1   Jan  1991      Q1   \n",
       "21  Q2_91  3039.522995      Q2 1991 1991-04-01       Q2   Apr  1991      Q2   \n",
       "22  Q3_91  3172.115997      Q3 1991 1991-07-01       Q3   Jul  1991      Q3   \n",
       "23  Q4_91  2879.000999      Q4 1991 1991-10-01       Q4   Oct  1991      Q4   \n",
       "24  Q1_92  2772.000000      Q1 1992 1992-01-01       Q1   Jan  1992      Q1   \n",
       "25  Q2_92  3550.000000      Q2 1992 1992-04-01       Q2   Apr  1992      Q2   \n",
       "26  Q3_92  3508.000000      Q3 1992 1992-07-01       Q3   Jul  1992      Q3   \n",
       "27  Q4_92  3243.859993      Q4 1992 1992-10-01       Q4   Oct  1992      Q4   \n",
       "28  Q1_93  3056.000000      Q1 1993 1993-01-01       Q1   Jan  1993      Q1   \n",
       "29  Q2_93  3899.000000      Q2 1993 1993-04-01       Q2   Apr  1993      Q2   \n",
       "30  Q3_93  3629.000000      Q3 1993 1993-07-01       Q3   Jul  1993      Q3   \n",
       "31  Q4_93  3373.000000      Q4 1993 1993-10-01       Q4   Oct  1993      Q4   \n",
       "32  Q1_94  3352.000000      Q1 1994 1994-01-01       Q1   Jan  1994      Q1   \n",
       "33  Q2_94  4342.000000      Q2 1994 1994-04-01       Q2   Apr  1994      Q2   \n",
       "34  Q3_94  4461.000000      Q3 1994 1994-07-01       Q3   Jul  1994      Q3   \n",
       "35  Q4_94  4017.000000      Q4 1994 1994-10-01       Q4   Oct  1994      Q4   \n",
       "36  Q1_95  3854.000000      Q1 1995 1995-01-01       Q1   Jan  1995      Q1   \n",
       "37  Q2_95  4936.000000      Q2 1995 1995-04-01       Q2   Apr  1995      Q2   \n",
       "38  Q3_95  4895.000000      Q3 1995 1995-07-01       Q3   Jul  1995      Q3   \n",
       "39  Q4_95  4333.000000      Q4 1995 1995-10-01       Q4   Oct  1995      Q4   \n",
       "40  Q1_96  4194.000000      Q1 1996 1996-01-01       Q1   Jan  1996      Q1   \n",
       "41  Q2_96  5253.000000      Q2 1996 1996-04-01       Q2   Apr  1996      Q2   \n",
       "\n",
       "    Q1  Q2  Q3  Q4   t  t_squared  sale_log  \n",
       "0    1   0   0   0   1          1  7.458663  \n",
       "1    0   1   0   0   2          4  7.716443  \n",
       "2    0   0   1   0   3          9  7.837477  \n",
       "3    0   0   0   1   4         16  7.675529  \n",
       "4    1   0   0   0   5         25  7.344602  \n",
       "5    0   1   0   0   6         36  7.651791  \n",
       "6    0   0   1   0   7         49  7.608058  \n",
       "7    0   0   0   1   8         64  7.596767  \n",
       "8    1   0   0   0   9         81  7.533186  \n",
       "9    0   1   0   0  10        100  7.746574  \n",
       "10   0   0   1   0  11        121  7.663088  \n",
       "11   0   0   0   1  12        144  7.614228  \n",
       "12   1   0   0   0  13        169  7.555175  \n",
       "13   0   1   0   0  14        196  7.754123  \n",
       "14   0   0   1   0  15        225  7.699185  \n",
       "15   0   0   0   1  16        256  7.684309  \n",
       "16   1   0   0   0  17        289  7.672422  \n",
       "17   0   1   0   0  18        324  7.915461  \n",
       "18   0   0   1   0  19        361  7.934783  \n",
       "19   0   0   0   1  20        400  7.846203  \n",
       "20   1   0   0   0  21        441  7.816407  \n",
       "21   0   1   0   0  22        484  8.019456  \n",
       "22   0   0   1   0  23        529  8.062154  \n",
       "23   0   0   0   1  24        576  7.965199  \n",
       "24   1   0   0   0  25        625  7.927324  \n",
       "25   0   1   0   0  26        676  8.174703  \n",
       "26   0   0   1   0  27        729  8.162801  \n",
       "27   0   0   0   1  28        784  8.084519  \n",
       "28   1   0   0   0  29        841  8.024862  \n",
       "29   0   1   0   0  30        900  8.268475  \n",
       "30   0   0   1   0  31        961  8.196712  \n",
       "31   0   0   0   1  32       1024  8.123558  \n",
       "32   1   0   0   0  33       1089  8.117312  \n",
       "33   0   1   0   0  34       1156  8.376090  \n",
       "34   0   0   1   0  35       1225  8.403128  \n",
       "35   0   0   0   1  36       1296  8.298291  \n",
       "36   1   0   0   0  37       1369  8.256867  \n",
       "37   0   1   0   0  38       1444  8.504311  \n",
       "38   0   0   1   0  39       1521  8.495970  \n",
       "39   0   0   0   1  40       1600  8.374015  \n",
       "40   1   0   0   0  41       1681  8.341410  \n",
       "41   0   1   0   0  42       1764  8.566555  "
      ]
     },
     "execution_count": 80,
     "metadata": {},
     "output_type": "execute_result"
    }
   ],
   "source": [
    "import numpy as np\n",
    "cc['t'] = np.arange(1,43)\n",
    "cc['t_squared'] = cc['t']**2\n",
    "cc['sale_log'] = np.log(cc['sale'])\n",
    "cc"
   ]
  },
  {
   "cell_type": "code",
   "execution_count": 81,
   "id": "cb250409",
   "metadata": {},
   "outputs": [],
   "source": [
    "train  =cc.head(32)\n",
    "test = cc.tail(10)"
   ]
  },
  {
   "cell_type": "markdown",
   "id": "0bb8e2db",
   "metadata": {},
   "source": [
    "## Models"
   ]
  },
  {
   "cell_type": "code",
   "execution_count": 82,
   "id": "5cee7cb1",
   "metadata": {},
   "outputs": [],
   "source": [
    "import statsmodels.formula.api as smf\n",
    "from sklearn.metrics import mean_squared_error"
   ]
  },
  {
   "cell_type": "code",
   "execution_count": 83,
   "id": "ec6b6704",
   "metadata": {},
   "outputs": [
    {
     "data": {
      "text/plain": [
       "752.9233932767115"
      ]
     },
     "execution_count": 83,
     "metadata": {},
     "output_type": "execute_result"
    }
   ],
   "source": [
    "# Linear Model\n",
    "linear_model = smf.ols(\"sale~t\", data = train).fit()\n",
    "linear_pred = pd.Series(linear_model.predict(test['t']))\n",
    "linear_rmse = np.sqrt(mean_squared_error(np.array(test['sale']), np.array(linear_pred)))\n",
    "linear_rmse"
   ]
  },
  {
   "cell_type": "code",
   "execution_count": 84,
   "id": "c28d7601",
   "metadata": {},
   "outputs": [
    {
     "data": {
      "text/plain": [
       "752.9233932767115"
      ]
     },
     "execution_count": 84,
     "metadata": {},
     "output_type": "execute_result"
    }
   ],
   "source": [
    "# Quadratic Model\n",
    "quad_model = smf.ols(\"sale~t + t_squared\", data = train).fit()\n",
    "quad_pred = pd.Series(linear_model.predict(test['t']))\n",
    "quad_rmse = np.sqrt(mean_squared_error(np.array(test['sale']), np.array(quad_pred)))\n",
    "quad_rmse"
   ]
  },
  {
   "cell_type": "code",
   "execution_count": 85,
   "id": "efe36682",
   "metadata": {},
   "outputs": [
    {
     "data": {
      "text/plain": [
       "4387.940544839098"
      ]
     },
     "execution_count": 85,
     "metadata": {},
     "output_type": "execute_result"
    }
   ],
   "source": [
    "# Exponential model\n",
    "exp_model = smf.ols(\"sale_log~t\", data = train).fit()\n",
    "exp_pred = pd.Series(exp_model.predict(test['t']))\n",
    "exp_rmse = np.sqrt(mean_squared_error(np.array(test['sale']), np.array(exp_pred)))\n",
    "exp_rmse"
   ]
  },
  {
   "cell_type": "code",
   "execution_count": 86,
   "id": "89ef194c",
   "metadata": {},
   "outputs": [
    {
     "data": {
      "text/plain": [
       "1850.4665461858358"
      ]
     },
     "execution_count": 86,
     "metadata": {},
     "output_type": "execute_result"
    }
   ],
   "source": [
    "#Additive seasonality \n",
    "\n",
    "add_sea = smf.ols('sale~Q1+Q2+Q3+Q4',data=train).fit()\n",
    "pred_add_sea = pd.Series(add_sea.predict(test[['Q1','Q2','Q3','Q4']]))\n",
    "rmse_add_sea = np.sqrt(np.mean((np.array(test['sale'])-np.array(pred_add_sea))**2))\n",
    "rmse_add_sea"
   ]
  },
  {
   "cell_type": "code",
   "execution_count": 87,
   "id": "cfe23d61",
   "metadata": {},
   "outputs": [
    {
     "data": {
      "text/plain": [
       "277.35107711286446"
      ]
     },
     "execution_count": 87,
     "metadata": {},
     "output_type": "execute_result"
    }
   ],
   "source": [
    "#Additive Seasonality Quadratic \n",
    "\n",
    "add_sea_Quad = smf.ols('sale~t+t_squared+Q1+Q2+Q3+Q4',data=train).fit()\n",
    "pred_add_sea_quad = pd.Series(add_sea_Quad.predict(test[['Q1','Q2','Q3','Q4','t','t_squared']]))\n",
    "rmse_add_sea_quad = np.sqrt(np.mean((np.array(test['sale'])-np.array(pred_add_sea_quad))**2))\n",
    "rmse_add_sea_quad"
   ]
  },
  {
   "cell_type": "code",
   "execution_count": 88,
   "id": "4102e1fa",
   "metadata": {},
   "outputs": [
    {
     "data": {
      "text/plain": [
       "1908.2503948361168"
      ]
     },
     "execution_count": 88,
     "metadata": {},
     "output_type": "execute_result"
    }
   ],
   "source": [
    "##Multiplicative Seasonality\n",
    "\n",
    "Mul_sea = smf.ols('sale_log~Q1+Q2+Q3+Q4',data = train).fit()\n",
    "pred_Mult_sea = pd.Series(Mul_sea.predict(test))\n",
    "rmse_Mult_sea = np.sqrt(np.mean((np.array(test['sale'])-np.array(np.exp(pred_Mult_sea)))**2))\n",
    "rmse_Mult_sea"
   ]
  },
  {
   "cell_type": "code",
   "execution_count": 89,
   "id": "32b4a440",
   "metadata": {},
   "outputs": [
    {
     "data": {
      "text/plain": [
       "448.8678182691964"
      ]
     },
     "execution_count": 89,
     "metadata": {},
     "output_type": "execute_result"
    }
   ],
   "source": [
    "#Multiplicative Additive Seasonality \n",
    "\n",
    "Mul_Add_sea = smf.ols('sale_log~t+Q1+Q2+Q3+Q4',data = train).fit()\n",
    "pred_Mult_add_sea = pd.Series(Mul_Add_sea.predict(test))\n",
    "rmse_Mult_add_sea = np.sqrt(np.mean((np.array(test['sale'])-np.array(np.exp(pred_Mult_add_sea)))**2))\n",
    "rmse_Mult_add_sea"
   ]
  },
  {
   "cell_type": "code",
   "execution_count": 91,
   "id": "02ee0bcb",
   "metadata": {},
   "outputs": [
    {
     "data": {
      "text/html": [
       "<div>\n",
       "<style scoped>\n",
       "    .dataframe tbody tr th:only-of-type {\n",
       "        vertical-align: middle;\n",
       "    }\n",
       "\n",
       "    .dataframe tbody tr th {\n",
       "        vertical-align: top;\n",
       "    }\n",
       "\n",
       "    .dataframe thead th {\n",
       "        text-align: right;\n",
       "    }\n",
       "</style>\n",
       "<table border=\"1\" class=\"dataframe\">\n",
       "  <thead>\n",
       "    <tr style=\"text-align: right;\">\n",
       "      <th></th>\n",
       "      <th>MODEL</th>\n",
       "      <th>RMSE_Values</th>\n",
       "    </tr>\n",
       "  </thead>\n",
       "  <tbody>\n",
       "    <tr>\n",
       "      <th>4</th>\n",
       "      <td>rmse_add_sea_quad</td>\n",
       "      <td>277.351077</td>\n",
       "    </tr>\n",
       "    <tr>\n",
       "      <th>6</th>\n",
       "      <td>rmse_multi_add_sea</td>\n",
       "      <td>448.867818</td>\n",
       "    </tr>\n",
       "    <tr>\n",
       "      <th>0</th>\n",
       "      <td>rmse_linear</td>\n",
       "      <td>752.923393</td>\n",
       "    </tr>\n",
       "    <tr>\n",
       "      <th>2</th>\n",
       "      <td>rmse_quad</td>\n",
       "      <td>752.923393</td>\n",
       "    </tr>\n",
       "    <tr>\n",
       "      <th>3</th>\n",
       "      <td>rmse_add_sea</td>\n",
       "      <td>1850.466546</td>\n",
       "    </tr>\n",
       "    <tr>\n",
       "      <th>5</th>\n",
       "      <td>rmse_Mult_sea</td>\n",
       "      <td>1908.250395</td>\n",
       "    </tr>\n",
       "    <tr>\n",
       "      <th>1</th>\n",
       "      <td>rmse_exp</td>\n",
       "      <td>4387.940545</td>\n",
       "    </tr>\n",
       "  </tbody>\n",
       "</table>\n",
       "</div>"
      ],
      "text/plain": [
       "                MODEL  RMSE_Values\n",
       "4   rmse_add_sea_quad   277.351077\n",
       "6  rmse_multi_add_sea   448.867818\n",
       "0         rmse_linear   752.923393\n",
       "2           rmse_quad   752.923393\n",
       "3        rmse_add_sea  1850.466546\n",
       "5       rmse_Mult_sea  1908.250395\n",
       "1            rmse_exp  4387.940545"
      ]
     },
     "execution_count": 91,
     "metadata": {},
     "output_type": "execute_result"
    }
   ],
   "source": [
    "#Comparing the results \n",
    "\n",
    "data = {\"MODEL\":pd.Series([\"rmse_linear\", \"rmse_exp\",\"rmse_quad\",\"rmse_add_sea\",\"rmse_add_sea_quad\",\"rmse_Mult_sea\",\"rmse_multi_add_sea\"]), \"RMSE_Values\":pd.Series([linear_rmse,exp_rmse,quad_rmse,rmse_add_sea,rmse_add_sea_quad,rmse_Mult_sea,rmse_Mult_add_sea])}\n",
    "table_rmse = pd.DataFrame(data)\n",
    "table_rmse.sort_values(['RMSE_Values'])"
   ]
  },
  {
   "cell_type": "markdown",
   "id": "7cd0e5a7",
   "metadata": {},
   "source": [
    "## rmse_multi_add_sea will be prefered than any other in this analysis"
   ]
  },
  {
   "cell_type": "code",
   "execution_count": 92,
   "id": "0794b480",
   "metadata": {},
   "outputs": [],
   "source": [
    "data = pd.read_excel(\"D:/Forecasting/CocaCola_Sales_Rawdata.xlsx\",header=0,index_col=0, parse_dates=True)"
   ]
  },
  {
   "cell_type": "code",
   "execution_count": 93,
   "id": "4888bd03",
   "metadata": {},
   "outputs": [
    {
     "data": {
      "text/html": [
       "<div>\n",
       "<style scoped>\n",
       "    .dataframe tbody tr th:only-of-type {\n",
       "        vertical-align: middle;\n",
       "    }\n",
       "\n",
       "    .dataframe tbody tr th {\n",
       "        vertical-align: top;\n",
       "    }\n",
       "\n",
       "    .dataframe thead th {\n",
       "        text-align: right;\n",
       "    }\n",
       "</style>\n",
       "<table border=\"1\" class=\"dataframe\">\n",
       "  <thead>\n",
       "    <tr style=\"text-align: right;\">\n",
       "      <th></th>\n",
       "      <th>Sales</th>\n",
       "    </tr>\n",
       "    <tr>\n",
       "      <th>Quarter</th>\n",
       "      <th></th>\n",
       "    </tr>\n",
       "  </thead>\n",
       "  <tbody>\n",
       "    <tr>\n",
       "      <th>Q1_86</th>\n",
       "      <td>1734.827000</td>\n",
       "    </tr>\n",
       "    <tr>\n",
       "      <th>Q2_86</th>\n",
       "      <td>2244.960999</td>\n",
       "    </tr>\n",
       "    <tr>\n",
       "      <th>Q3_86</th>\n",
       "      <td>2533.804993</td>\n",
       "    </tr>\n",
       "    <tr>\n",
       "      <th>Q4_86</th>\n",
       "      <td>2154.962997</td>\n",
       "    </tr>\n",
       "    <tr>\n",
       "      <th>Q1_87</th>\n",
       "      <td>1547.818996</td>\n",
       "    </tr>\n",
       "  </tbody>\n",
       "</table>\n",
       "</div>"
      ],
      "text/plain": [
       "               Sales\n",
       "Quarter             \n",
       "Q1_86    1734.827000\n",
       "Q2_86    2244.960999\n",
       "Q3_86    2533.804993\n",
       "Q4_86    2154.962997\n",
       "Q1_87    1547.818996"
      ]
     },
     "execution_count": 93,
     "metadata": {},
     "output_type": "execute_result"
    }
   ],
   "source": [
    "data.head()"
   ]
  },
  {
   "cell_type": "code",
   "execution_count": 94,
   "id": "df5c6e36",
   "metadata": {},
   "outputs": [
    {
     "name": "stdout",
     "output_type": "stream",
     "text": [
      "Dataset_cc 35, Validation_cc 7\n"
     ]
    }
   ],
   "source": [
    "# Separate out a validation dataset\n",
    "split_point = len(data)-7\n",
    "dataset_cc, validation_cc = data[0:split_point], data[split_point:]\n",
    "print('Dataset_cc %d, Validation_cc %d' % (len(dataset_cc), len(validation_cc)))"
   ]
  },
  {
   "cell_type": "code",
   "execution_count": 95,
   "id": "a2a84186",
   "metadata": {},
   "outputs": [],
   "source": [
    "dataset_cc.to_csv('dataset_cc.csv', header = False)\n",
    "validation_cc.to_csv('Validation_cc.csv', header=False)"
   ]
  },
  {
   "cell_type": "markdown",
   "id": "2aca2181",
   "metadata": {},
   "source": [
    "## Persistence/ Base model"
   ]
  },
  {
   "cell_type": "code",
   "execution_count": 96,
   "id": "053b4833",
   "metadata": {},
   "outputs": [
    {
     "data": {
      "text/plain": [
       "0\n",
       "Q1_86    1734.827000\n",
       "Q2_86    2244.960999\n",
       "Q3_86    2533.804993\n",
       "Q4_86    2154.962997\n",
       "Q1_87    1547.818996\n",
       "Q2_87    2104.411995\n",
       "Q3_87    2014.362999\n",
       "Q4_87    1991.746998\n",
       "Q1_88    1869.049999\n",
       "Q2_88    2313.631996\n",
       "Q3_88    2128.320000\n",
       "Q4_88    2026.828999\n",
       "Q1_89    1910.603996\n",
       "Q2_89    2331.164993\n",
       "Q3_89    2206.549995\n",
       "Q4_89    2173.967995\n",
       "Q1_90    2148.278000\n",
       "Q2_90    2739.307999\n",
       "Q3_90    2792.753998\n",
       "Q4_90    2556.009995\n",
       "Q1_91    2480.973999\n",
       "Q2_91    3039.522995\n",
       "Q3_91    3172.115997\n",
       "Q4_91    2879.000999\n",
       "Q1_92    2772.000000\n",
       "Q2_92    3550.000000\n",
       "Q3_92    3508.000000\n",
       "Q4_92    3243.859993\n",
       "Q1_93    3056.000000\n",
       "Q2_93    3899.000000\n",
       "Q3_93    3629.000000\n",
       "Q4_93    3373.000000\n",
       "Q1_94    3352.000000\n",
       "Q2_94    4342.000000\n",
       "Q3_94    4461.000000\n",
       "Name: 1, dtype: float64"
      ]
     },
     "execution_count": 96,
     "metadata": {},
     "output_type": "execute_result"
    }
   ],
   "source": [
    "# load data\n",
    "from math import sqrt\n",
    "train = pd.read_csv('dataset_cc.csv', header=None, index_col=0, parse_dates=True, squeeze=True)\n",
    "train"
   ]
  },
  {
   "cell_type": "code",
   "execution_count": 97,
   "id": "ba6233e8",
   "metadata": {},
   "outputs": [],
   "source": [
    "# prepare data\n",
    "X = train.values\n",
    "X = X.astype('float32')\n",
    "train_size = int(len(X) * 0.50)\n",
    "train, test = X[0:train_size], X[train_size:]"
   ]
  },
  {
   "cell_type": "markdown",
   "id": "98799b43",
   "metadata": {},
   "source": [
    "## Validation"
   ]
  },
  {
   "cell_type": "code",
   "execution_count": 98,
   "id": "f5c3f7e0",
   "metadata": {},
   "outputs": [
    {
     "name": "stdout",
     "output_type": "stream",
     "text": [
      ">Predicted=2148.278, Expected+2739.308\n",
      ">Predicted=2739.308, Expected+2792.754\n",
      ">Predicted=2792.754, Expected+2556.010\n",
      ">Predicted=2556.010, Expected+2480.974\n",
      ">Predicted=2480.974, Expected+3039.523\n",
      ">Predicted=3039.523, Expected+3172.116\n",
      ">Predicted=3172.116, Expected+2879.001\n",
      ">Predicted=2879.001, Expected+2772.000\n",
      ">Predicted=2772.000, Expected+3550.000\n",
      ">Predicted=3550.000, Expected+3508.000\n",
      ">Predicted=3508.000, Expected+3243.860\n",
      ">Predicted=3243.860, Expected+3056.000\n",
      ">Predicted=3056.000, Expected+3899.000\n",
      ">Predicted=3899.000, Expected+3629.000\n",
      ">Predicted=3629.000, Expected+3373.000\n",
      ">Predicted=3373.000, Expected+3352.000\n",
      ">Predicted=3352.000, Expected+4342.000\n",
      ">Predicted=4342.000, Expected+4461.000\n",
      "RMSE: 434.401\n"
     ]
    }
   ],
   "source": [
    "# walk-forward validation\n",
    "history = [x for x in train]\n",
    "predictions = list()\n",
    "for i in range(len(test)):\n",
    "    yhat = history[-1]\n",
    "    predictions.append(yhat)\n",
    "# Observation\n",
    "    obs = test[i]\n",
    "    history.append(obs)\n",
    "    print('>Predicted=%.3f, Expected+%.3f' % (yhat, obs))\n",
    "# Report Performance\n",
    "rmse = sqrt(mean_squared_error(test, predictions))\n",
    "print('RMSE: %.3f' % rmse)"
   ]
  },
  {
   "cell_type": "code",
   "execution_count": 99,
   "id": "756bb59e",
   "metadata": {},
   "outputs": [
    {
     "data": {
      "text/html": [
       "<div>\n",
       "<style scoped>\n",
       "    .dataframe tbody tr th:only-of-type {\n",
       "        vertical-align: middle;\n",
       "    }\n",
       "\n",
       "    .dataframe tbody tr th {\n",
       "        vertical-align: top;\n",
       "    }\n",
       "\n",
       "    .dataframe thead th {\n",
       "        text-align: right;\n",
       "    }\n",
       "</style>\n",
       "<table border=\"1\" class=\"dataframe\">\n",
       "  <thead>\n",
       "    <tr style=\"text-align: right;\">\n",
       "      <th></th>\n",
       "      <th>MODEL</th>\n",
       "      <th>RMSE_Values</th>\n",
       "    </tr>\n",
       "  </thead>\n",
       "  <tbody>\n",
       "    <tr>\n",
       "      <th>3</th>\n",
       "      <td>RMSE_ARIMA</td>\n",
       "      <td>434.400665</td>\n",
       "    </tr>\n",
       "    <tr>\n",
       "      <th>0</th>\n",
       "      <td>rmse_linear</td>\n",
       "      <td>752.923393</td>\n",
       "    </tr>\n",
       "    <tr>\n",
       "      <th>2</th>\n",
       "      <td>rmse_quad</td>\n",
       "      <td>752.923393</td>\n",
       "    </tr>\n",
       "    <tr>\n",
       "      <th>1</th>\n",
       "      <td>rmse_exp</td>\n",
       "      <td>4387.940545</td>\n",
       "    </tr>\n",
       "  </tbody>\n",
       "</table>\n",
       "</div>"
      ],
      "text/plain": [
       "         MODEL  RMSE_Values\n",
       "3   RMSE_ARIMA   434.400665\n",
       "0  rmse_linear   752.923393\n",
       "2    rmse_quad   752.923393\n",
       "1     rmse_exp  4387.940545"
      ]
     },
     "execution_count": 99,
     "metadata": {},
     "output_type": "execute_result"
    }
   ],
   "source": [
    "data = {\"MODEL\":pd.Series([\"rmse_linear\", \"rmse_exp\",\"rmse_quad\",\"RMSE_ARIMA\"]), \"RMSE_Values\":pd.Series([linear_rmse, exp_rmse,quad_rmse,rmse])}\n",
    "table_rmse = pd.DataFrame(data)\n",
    "table_rmse.sort_values(['RMSE_Values'])"
   ]
  },
  {
   "cell_type": "markdown",
   "id": "5608a560",
   "metadata": {},
   "source": [
    "## The least RMSE values has the RMSE_ARIMA model and we can final this model"
   ]
  },
  {
   "cell_type": "code",
   "execution_count": null,
   "id": "57825028",
   "metadata": {},
   "outputs": [],
   "source": []
  },
  {
   "cell_type": "code",
   "execution_count": null,
   "id": "31784aa5",
   "metadata": {},
   "outputs": [],
   "source": []
  }
 ],
 "metadata": {
  "kernelspec": {
   "display_name": "Python 3 (ipykernel)",
   "language": "python",
   "name": "python3"
  },
  "language_info": {
   "codemirror_mode": {
    "name": "ipython",
    "version": 3
   },
   "file_extension": ".py",
   "mimetype": "text/x-python",
   "name": "python",
   "nbconvert_exporter": "python",
   "pygments_lexer": "ipython3",
   "version": "3.9.12"
  }
 },
 "nbformat": 4,
 "nbformat_minor": 5
}
