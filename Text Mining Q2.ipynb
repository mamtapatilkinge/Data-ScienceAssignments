{
 "cells": [
  {
   "cell_type": "markdown",
   "id": "e7b58103",
   "metadata": {},
   "source": [
    "# Text Mining Assignment "
   ]
  },
  {
   "cell_type": "markdown",
   "id": "e160cdad",
   "metadata": {},
   "source": [
    "## Q 2)\n",
    "\n",
    "### 1) Extract reviews of any product from ecommerce website like amazon\n",
    "\n",
    "### 2) Perform emotion mining"
   ]
  },
  {
   "cell_type": "markdown",
   "id": "c1089e04",
   "metadata": {},
   "source": [
    "## Automating Web Scrapping Amazon ecommerce"
   ]
  },
  {
   "cell_type": "code",
   "execution_count": null,
   "id": "11dd268b",
   "metadata": {},
   "outputs": [],
   "source": [
    "## Product: Iphone and Mi Phone"
   ]
  },
  {
   "cell_type": "code",
   "execution_count": 1,
   "id": "30728fef",
   "metadata": {},
   "outputs": [
    {
     "name": "stdout",
     "output_type": "stream",
     "text": [
      "Defaulting to user installation because normal site-packages is not writeable\n",
      "Requirement already satisfied: autoscraper in c:\\users\\vaibhav kinge\\appdata\\roaming\\python\\python39\\site-packages (1.1.14)\n",
      "Requirement already satisfied: bs4 in c:\\users\\vaibhav kinge\\appdata\\roaming\\python\\python39\\site-packages (from autoscraper) (0.0.1)\n",
      "Requirement already satisfied: requests in c:\\programdata\\anaconda3\\lib\\site-packages (from autoscraper) (2.27.1)\n",
      "Requirement already satisfied: lxml in c:\\programdata\\anaconda3\\lib\\site-packages (from autoscraper) (4.8.0)\n",
      "Requirement already satisfied: beautifulsoup4 in c:\\programdata\\anaconda3\\lib\\site-packages (from bs4->autoscraper) (4.11.1)\n",
      "Requirement already satisfied: urllib3<1.27,>=1.21.1 in c:\\programdata\\anaconda3\\lib\\site-packages (from requests->autoscraper) (1.26.9)\n",
      "Requirement already satisfied: idna<4,>=2.5 in c:\\programdata\\anaconda3\\lib\\site-packages (from requests->autoscraper) (3.3)\n",
      "Requirement already satisfied: charset-normalizer~=2.0.0 in c:\\programdata\\anaconda3\\lib\\site-packages (from requests->autoscraper) (2.0.4)\n",
      "Requirement already satisfied: certifi>=2017.4.17 in c:\\programdata\\anaconda3\\lib\\site-packages (from requests->autoscraper) (2021.10.8)\n",
      "Requirement already satisfied: soupsieve>1.2 in c:\\programdata\\anaconda3\\lib\\site-packages (from beautifulsoup4->bs4->autoscraper) (2.3.1)\n"
     ]
    }
   ],
   "source": [
    "!pip install autoscraper"
   ]
  },
  {
   "cell_type": "code",
   "execution_count": 2,
   "id": "72f84b26",
   "metadata": {},
   "outputs": [],
   "source": [
    "from autoscraper import AutoScraper"
   ]
  },
  {
   "cell_type": "code",
   "execution_count": 3,
   "id": "42507c4c",
   "metadata": {},
   "outputs": [],
   "source": [
    "amazon_url = \"https://www.amazon.in/s?k=Iphones\"\n",
    "\n",
    "wanted_list = [\"₹87,400\",\"Apple iPhone 14 Plus 128GB Blue\"]"
   ]
  },
  {
   "cell_type": "code",
   "execution_count": 4,
   "id": "deea8f13",
   "metadata": {},
   "outputs": [
    {
     "name": "stdout",
     "output_type": "stream",
     "text": [
      "['₹48,999', '₹65,900', '₹11,499', '₹24,999', '₹87,400', '₹89,900', '₹77,400', '₹79,900', '₹17,299', '₹27,999', '₹18,999', '₹19,999', '₹15,499', '₹87,470', '₹74,900', 'Apple iPhone 12 (64GB) - (Product) RED', 'vevo Y22 (Starlit Blue, 6GB RAM, 128GB Storage) (2)', 'Apple iPhone 5S 16GB Gold', 'Apple iPhone 5S 16GB Space Grey', 'Apple iPhone 14 Plus 128GB Blue', 'Apple iPhone 14 128GB Blue', 'CEX iPhone 5s Space Grey 16GB with 8 Mega Pixel Camera', 'Apple iPhone 6 64GB Space Grey', 'OnePlus Nord CE 2 Lite 5G (Black Dusk, 6GB RAM, 128GB Storage)', 'CEX iPhone 5s Gold 16GB with 8 Mega Pixel Camera', 'Apple iPhone 6 16GB Space Grey', 'CEX I:Phone 6G Gold 64GB with 8 Mega Pixel Camera', 'Apple iPhone 14 256GB Blue', 'Apple iPhone 14 256GB Midnight', 'Apple iPhone 5S 16GB Silver', 'Apple iPhone 14 128GB (Product) RED', 'Apple iPhone 13 Mini (256GB) - Blue']\n"
     ]
    }
   ],
   "source": [
    "scraper=AutoScraper()\n",
    "result=scraper.build(amazon_url,wanted_list)\n",
    "print(result)"
   ]
  },
  {
   "cell_type": "code",
   "execution_count": 5,
   "id": "24a459ac",
   "metadata": {},
   "outputs": [
    {
     "data": {
      "text/plain": [
       "{'rule_doc0': ['₹48,999',\n",
       "  '₹65,900',\n",
       "  '₹11,499',\n",
       "  '₹24,999',\n",
       "  '₹11,499',\n",
       "  '₹24,999',\n",
       "  '₹87,400',\n",
       "  '₹89,900',\n",
       "  '₹77,400',\n",
       "  '₹79,900',\n",
       "  '₹11,499',\n",
       "  '₹24,999',\n",
       "  '₹17,299',\n",
       "  '₹27,999',\n",
       "  '₹18,999',\n",
       "  '₹19,999',\n",
       "  '₹11,499',\n",
       "  '₹24,999',\n",
       "  '₹15,499',\n",
       "  '₹27,999',\n",
       "  '₹17,299',\n",
       "  '₹27,999',\n",
       "  '₹87,400',\n",
       "  '₹89,900',\n",
       "  '₹87,470',\n",
       "  '₹89,900',\n",
       "  '₹11,499',\n",
       "  '₹24,999',\n",
       "  '₹77,400',\n",
       "  '₹79,900',\n",
       "  '₹87,400',\n",
       "  '₹89,900'],\n",
       " 'rule_u9t1': ['₹48,999',\n",
       "  '₹65,900',\n",
       "  '₹11,499',\n",
       "  '₹24,999',\n",
       "  '₹11,499',\n",
       "  '₹24,999',\n",
       "  '₹87,400',\n",
       "  '₹89,900',\n",
       "  '₹77,400',\n",
       "  '₹79,900',\n",
       "  '₹11,499',\n",
       "  '₹24,999',\n",
       "  '₹17,299',\n",
       "  '₹27,999',\n",
       "  '₹18,999',\n",
       "  '₹19,999',\n",
       "  '₹11,499',\n",
       "  '₹24,999',\n",
       "  '₹15,499',\n",
       "  '₹27,999',\n",
       "  '₹17,299',\n",
       "  '₹27,999',\n",
       "  '₹87,400',\n",
       "  '₹89,900',\n",
       "  '₹87,470',\n",
       "  '₹89,900',\n",
       "  '₹11,499',\n",
       "  '₹24,999',\n",
       "  '₹77,400',\n",
       "  '₹79,900',\n",
       "  '₹87,400',\n",
       "  '₹89,900'],\n",
       " 'rule_ym6w': ['₹48,999',\n",
       "  '₹65,900',\n",
       "  '₹11,499',\n",
       "  '₹24,999',\n",
       "  '₹11,499',\n",
       "  '₹24,999',\n",
       "  '₹87,400',\n",
       "  '₹89,900',\n",
       "  '₹77,400',\n",
       "  '₹79,900',\n",
       "  '₹11,499',\n",
       "  '₹24,999',\n",
       "  '₹17,299',\n",
       "  '₹27,999',\n",
       "  '₹18,999',\n",
       "  '₹19,999',\n",
       "  '₹11,499',\n",
       "  '₹24,999',\n",
       "  '₹15,499',\n",
       "  '₹27,999',\n",
       "  '₹17,299',\n",
       "  '₹27,999',\n",
       "  '₹87,400',\n",
       "  '₹89,900',\n",
       "  '₹87,470',\n",
       "  '₹89,900',\n",
       "  '₹11,499',\n",
       "  '₹24,999',\n",
       "  '₹77,400',\n",
       "  '₹79,900',\n",
       "  '₹87,400',\n",
       "  '₹89,900'],\n",
       " 'rule_1f8m': ['₹48,999',\n",
       "  '₹65,900',\n",
       "  '₹11,499',\n",
       "  '₹24,999',\n",
       "  '₹11,499',\n",
       "  '₹24,999',\n",
       "  '₹87,400',\n",
       "  '₹89,900',\n",
       "  '₹77,400',\n",
       "  '₹79,900',\n",
       "  '₹11,499',\n",
       "  '₹24,999',\n",
       "  '₹17,299',\n",
       "  '₹27,999',\n",
       "  '₹18,999',\n",
       "  '₹19,999',\n",
       "  '₹11,499',\n",
       "  '₹24,999',\n",
       "  '₹15,499',\n",
       "  '₹27,999',\n",
       "  '₹17,299',\n",
       "  '₹27,999',\n",
       "  '₹87,400',\n",
       "  '₹89,900',\n",
       "  '₹87,470',\n",
       "  '₹89,900',\n",
       "  '₹11,499',\n",
       "  '₹24,999',\n",
       "  '₹77,400',\n",
       "  '₹79,900',\n",
       "  '₹87,400',\n",
       "  '₹89,900'],\n",
       " 'rule_41i1': ['₹74,900', '₹79,900', '₹87,400', '₹89,900'],\n",
       " 'rule_mxcj': ['₹74,900', '₹79,900', '₹87,400', '₹89,900'],\n",
       " 'rule_libf': ['Apple iPhone 12 (64GB) - (Product) RED',\n",
       "  'Apple iPhone 5S 16GB Gold',\n",
       "  'Apple iPhone 5S 16GB Space Grey',\n",
       "  'Apple iPhone 14 Plus 128GB Blue',\n",
       "  'Apple iPhone 14 128GB Blue',\n",
       "  'CEX iPhone 5s Space Grey 16GB with 8 Mega Pixel Camera',\n",
       "  'Apple iPhone 6 64GB Space Grey',\n",
       "  'OnePlus Nord CE 2 Lite 5G (Black Dusk, 6GB RAM, 128GB Storage)',\n",
       "  'CEX iPhone 5s Gold 16GB with 8 Mega Pixel Camera',\n",
       "  'Apple iPhone 6 16GB Space Grey',\n",
       "  'CEX I:Phone 6G Gold 64GB with 8 Mega Pixel Camera',\n",
       "  'Apple iPhone 14 256GB Blue',\n",
       "  'Apple iPhone 14 256GB Midnight',\n",
       "  'Apple iPhone 5S 16GB Silver',\n",
       "  'Apple iPhone 14 128GB (Product) RED',\n",
       "  'Apple iPhone 14 Plus 128GB (Product) RED'],\n",
       " 'rule_gai9': ['Apple iPhone 12 (64GB) - (Product) RED',\n",
       "  'Apple iPhone 5S 16GB Gold',\n",
       "  'Apple iPhone 5S 16GB Space Grey',\n",
       "  'Apple iPhone 14 Plus 128GB Blue',\n",
       "  'Apple iPhone 14 128GB Blue',\n",
       "  'CEX iPhone 5s Space Grey 16GB with 8 Mega Pixel Camera',\n",
       "  'Apple iPhone 6 64GB Space Grey',\n",
       "  'OnePlus Nord CE 2 Lite 5G (Black Dusk, 6GB RAM, 128GB Storage)',\n",
       "  'CEX iPhone 5s Gold 16GB with 8 Mega Pixel Camera',\n",
       "  'Apple iPhone 6 16GB Space Grey',\n",
       "  'CEX I:Phone 6G Gold 64GB with 8 Mega Pixel Camera',\n",
       "  'Apple iPhone 14 256GB Blue',\n",
       "  'Apple iPhone 14 256GB Midnight',\n",
       "  'Apple iPhone 5S 16GB Silver',\n",
       "  'Apple iPhone 14 128GB (Product) RED',\n",
       "  'Apple iPhone 14 Plus 128GB (Product) RED'],\n",
       " 'rule_uddb': ['Apple iPhone 13 Mini (256GB) - Blue',\n",
       "  'Apple iPhone 14 Plus 128GB Blue']}"
      ]
     },
     "execution_count": 5,
     "metadata": {},
     "output_type": "execute_result"
    }
   ],
   "source": [
    "scraper.get_result_similar(amazon_url,grouped=True)"
   ]
  },
  {
   "cell_type": "code",
   "execution_count": 8,
   "id": "9bf2ba62",
   "metadata": {},
   "outputs": [],
   "source": [
    "scraper.set_rule_aliases({'rule_doc0':'Price','rule_libf':'Title'})\n",
    "scraper.keep_rules(['rule_doc0','rule_libf'])\n",
    "scraper.save('amazon=search')"
   ]
  },
  {
   "cell_type": "code",
   "execution_count": 9,
   "id": "c11d5ea7",
   "metadata": {},
   "outputs": [],
   "source": [
    "results=scraper.get_result_similar('https://www.amazon.in/s?k=mi+phones+under+15000',group_by_alias=True)"
   ]
  },
  {
   "cell_type": "code",
   "execution_count": 11,
   "id": "8a172b0f",
   "metadata": {},
   "outputs": [
    {
     "data": {
      "text/plain": [
       "['Mi Redmi 8 Phone (Sapphire Blue, 4GB RAM, 64GB Storage)',\n",
       " 'F13 Smartphone PR24',\n",
       " 'MI REDMI 9i Sport (Carbon Black, 64 GB) (4 GB RAM)',\n",
       " '(Renewed) Redmi 6A (Blue, 2GB RAM, 32GB Storage)',\n",
       " 'Redmi 9i Sport (Metallic Blue, 64 GB) (4 GB RAM)',\n",
       " '(Renewed) Redmi Note 5 MZB5917IN (Gold, 64GB)',\n",
       " '(Renewed) Redmi 6A (Gold, 2GB RAM, 32GB Storage)',\n",
       " '(Renewed) Redmi 6 Pro (Gold, 3GB RAM, 32GB Storage)',\n",
       " 'MI Poco M2 Pro (Green and Greener, 4GB RAM, 64GB Storage)',\n",
       " 'MI Poco M2 (Pitch Black, 6GB RAM, 64GB Storage)',\n",
       " 'Mi Redmi 8 Ruby Red, 4GB RAM, 64GB Storage Smartphone',\n",
       " '(Renewed) Redmi 5A MCI3B (Rose Gold, 2GB RAM, 16GB Storage)',\n",
       " 'MI Redmi Note 5 Pro (Gold, 4GB RAM, 64GB Storage)',\n",
       " 'Mi Phone Redmi 8 (Emerald Green, 4GB RAM, 64GB Storage)',\n",
       " 'Redmi 5 (Black, 3GB RAM, 32GB Storage)',\n",
       " '(Renewed) Mi Redmi 6 (Gold, 32 GB)']"
      ]
     },
     "execution_count": 11,
     "metadata": {},
     "output_type": "execute_result"
    }
   ],
   "source": [
    "results['Title']"
   ]
  },
  {
   "cell_type": "code",
   "execution_count": 12,
   "id": "c30addb7",
   "metadata": {},
   "outputs": [
    {
     "data": {
      "text/plain": [
       "['₹10,999',\n",
       " '₹11,990',\n",
       " '₹11,000',\n",
       " '₹8,358',\n",
       " '₹9,999',\n",
       " '₹4,949',\n",
       " '₹7,490',\n",
       " '₹8,565',\n",
       " '₹10,999',\n",
       " '₹6,999',\n",
       " '₹12,999',\n",
       " '₹5,399',\n",
       " '₹7,490',\n",
       " '₹6,499',\n",
       " '₹9,999',\n",
       " '₹13,250',\n",
       " '₹16,999',\n",
       " '₹10,999',\n",
       " '₹12,999',\n",
       " '₹11,990',\n",
       " '₹4,444',\n",
       " '₹8,999',\n",
       " '₹10,499',\n",
       " '₹13,999',\n",
       " '₹10,999',\n",
       " '₹11,990',\n",
       " '₹7,499',\n",
       " '₹12,999',\n",
       " '₹5,599',\n",
       " '₹9,999']"
      ]
     },
     "execution_count": 12,
     "metadata": {},
     "output_type": "execute_result"
    }
   ],
   "source": [
    "results['Price']"
   ]
  },
  {
   "cell_type": "markdown",
   "id": "ef20ec42",
   "metadata": {},
   "source": [
    "### I had tried here,extract information from amazon product Iphone and Mi Phone."
   ]
  },
  {
   "cell_type": "markdown",
   "id": "f534516e",
   "metadata": {},
   "source": [
    "=============================================================================================================================="
   ]
  },
  {
   "cell_type": "code",
   "execution_count": null,
   "id": "4d30b243",
   "metadata": {},
   "outputs": [],
   "source": []
  },
  {
   "cell_type": "code",
   "execution_count": null,
   "id": "5f6ee792",
   "metadata": {},
   "outputs": [],
   "source": []
  },
  {
   "cell_type": "code",
   "execution_count": null,
   "id": "58cf67d5",
   "metadata": {},
   "outputs": [],
   "source": []
  },
  {
   "cell_type": "code",
   "execution_count": null,
   "id": "59591354",
   "metadata": {},
   "outputs": [],
   "source": []
  },
  {
   "cell_type": "code",
   "execution_count": null,
   "id": "a554b0ca",
   "metadata": {},
   "outputs": [],
   "source": []
  },
  {
   "cell_type": "code",
   "execution_count": null,
   "id": "a052c194",
   "metadata": {},
   "outputs": [],
   "source": []
  }
 ],
 "metadata": {
  "kernelspec": {
   "display_name": "Python 3 (ipykernel)",
   "language": "python",
   "name": "python3"
  },
  "language_info": {
   "codemirror_mode": {
    "name": "ipython",
    "version": 3
   },
   "file_extension": ".py",
   "mimetype": "text/x-python",
   "name": "python",
   "nbconvert_exporter": "python",
   "pygments_lexer": "ipython3",
   "version": "3.9.12"
  }
 },
 "nbformat": 4,
 "nbformat_minor": 5
}
