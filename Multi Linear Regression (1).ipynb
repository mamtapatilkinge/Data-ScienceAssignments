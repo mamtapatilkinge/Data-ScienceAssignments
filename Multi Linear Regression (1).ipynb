{
 "cells": [
  {
   "cell_type": "markdown",
   "id": "3f39a362",
   "metadata": {},
   "source": [
    "# Multi-Linear Regrassion Q1 & Q2"
   ]
  },
  {
   "cell_type": "markdown",
   "id": "0ef1fe01",
   "metadata": {},
   "source": [
    "### 1.Prepare a prediction model for profit of 50_startups data.\n",
    "### Do transformations for getting better predictions of profit and\n",
    "### make a table containing R^2 value for each prepared model.\n",
    "\n",
    "### R&D Spend -- Research and devolop spend in the past few years\n",
    "### Administration -- spend on administration in the past few years\n",
    "### Marketing Spend -- spend on Marketing in the past few years\n",
    "### State -- states from which data is collected\n",
    "### Profit  -- profit of each state in the past few years"
   ]
  },
  {
   "cell_type": "code",
   "execution_count": null,
   "id": "7b3b90cc",
   "metadata": {},
   "outputs": [],
   "source": [
    "import pandas as pd\n",
    "import numpy as np\n",
    "import matplotlib.pyplot as plt\n",
    "import seaborn as sns\n",
    "import statsmodels.formula.api as smf\n",
    "import statsmodels.api as sm\n",
    "from statsmodels.graphics.regressionplots import influence_plot\n",
    "from sklearn.model_selection import train_test_split\n",
    "from sklearn.linear_model import LinearRegression\n",
    "from sklearn.metrics import r2_score\n"
   ]
  },
  {
   "cell_type": "code",
   "execution_count": null,
   "id": "419faa85",
   "metadata": {
    "scrolled": false
   },
   "outputs": [],
   "source": [
    "help(pd.read_csv)"
   ]
  },
  {
   "cell_type": "code",
   "execution_count": null,
   "id": "3186f3b7",
   "metadata": {},
   "outputs": [],
   "source": [
    "df=pd.read_csv('D:/MultiLinearRegression/50_Startups.csv');"
   ]
  },
  {
   "cell_type": "code",
   "execution_count": null,
   "id": "494ef8c4",
   "metadata": {},
   "outputs": [],
   "source": [
    "df"
   ]
  },
  {
   "cell_type": "code",
   "execution_count": null,
   "id": "d84cfaac",
   "metadata": {},
   "outputs": [],
   "source": [
    "df.info"
   ]
  },
  {
   "cell_type": "code",
   "execution_count": null,
   "id": "adf5528a",
   "metadata": {},
   "outputs": [],
   "source": [
    "df1=df.rename({'R&D Spend':'RDS','Administration':'ADMS','Marketing Spend':'MKTS'},axis=1)"
   ]
  },
  {
   "cell_type": "code",
   "execution_count": null,
   "id": "ab18ed1c",
   "metadata": {},
   "outputs": [],
   "source": [
    "df1"
   ]
  },
  {
   "cell_type": "code",
   "execution_count": null,
   "id": "584bcec7",
   "metadata": {},
   "outputs": [],
   "source": [
    "df1[df1.duplicated()]"
   ]
  },
  {
   "cell_type": "code",
   "execution_count": null,
   "id": "1d152c69",
   "metadata": {},
   "outputs": [],
   "source": [
    "df1.describe()"
   ]
  },
  {
   "cell_type": "code",
   "execution_count": null,
   "id": "da9e19b8",
   "metadata": {},
   "outputs": [],
   "source": [
    "df1.corr()"
   ]
  },
  {
   "cell_type": "code",
   "execution_count": null,
   "id": "e6af0e82",
   "metadata": {},
   "outputs": [],
   "source": [
    "sns.set_style(style='darkgrid')\n",
    "sns.pairplot(df1)"
   ]
  },
  {
   "cell_type": "code",
   "execution_count": null,
   "id": "e12dd163",
   "metadata": {},
   "outputs": [],
   "source": [
    "model=smf.ols(\"Profit~RDS+ADMS+MKTS\",data=df1).fit()"
   ]
  },
  {
   "cell_type": "code",
   "execution_count": null,
   "id": "6ae996dc",
   "metadata": {},
   "outputs": [],
   "source": [
    "model.params"
   ]
  },
  {
   "cell_type": "code",
   "execution_count": null,
   "id": "db871ff3",
   "metadata": {},
   "outputs": [],
   "source": [
    "model.tvalues , np.round(model.pvalues,5)"
   ]
  },
  {
   "cell_type": "code",
   "execution_count": null,
   "id": "67193cbc",
   "metadata": {},
   "outputs": [],
   "source": [
    "model.rsquared , model.rsquared_adj"
   ]
  },
  {
   "cell_type": "code",
   "execution_count": null,
   "id": "627242eb",
   "metadata": {},
   "outputs": [],
   "source": [
    "slr_a=smf.ols(\"Profit~ADMS\",data=df1).fit()\n",
    "slr_a.tvalues , slr_a.pvalues"
   ]
  },
  {
   "cell_type": "code",
   "execution_count": null,
   "id": "67684245",
   "metadata": {},
   "outputs": [],
   "source": [
    "slr_m=smf.ols(\"Profit~MKTS\",data=df1).fit()\n",
    "slr_m.tvalues , slr_m.pvalues"
   ]
  },
  {
   "cell_type": "code",
   "execution_count": null,
   "id": "656e7677",
   "metadata": {},
   "outputs": [],
   "source": [
    "mlr_am=smf.ols(\"Profit~ADMS+MKTS\",data=df1).fit()\n",
    "mlr_am.tvalues , mlr_am.pvalues"
   ]
  },
  {
   "cell_type": "code",
   "execution_count": null,
   "id": "26795779",
   "metadata": {},
   "outputs": [],
   "source": [
    "rsq_r=smf.ols(\"RDS~ADMS+MKTS\",data=df1).fit().rsquared\n",
    "vif_r=1/(1-rsq_r)\n",
    "\n",
    "rsq_a=smf.ols(\"ADMS~RDS+MKTS\",data=df1).fit().rsquared\n",
    "vif_a=1/(1-rsq_a)\n",
    "\n",
    "rsq_m=smf.ols(\"MKTS~RDS+ADMS\",data=df1).fit().rsquared\n",
    "vif_m=1/(1-rsq_m)\n",
    "\n",
    "d1={'Variables':['RDS','ADMS','MKTS'],'vif':[vif_r,vif_a,vif_m]}\n",
    "Vif_df=pd.DataFrame(d1)\n",
    "Vif_df"
   ]
  },
  {
   "cell_type": "code",
   "execution_count": null,
   "id": "26121332",
   "metadata": {},
   "outputs": [],
   "source": [
    "sm.qqplot(model.resid,line='q')\n",
    "plt.title(\"Normal Q-Q plot of residuals\")\n",
    "plt.show()"
   ]
  },
  {
   "cell_type": "code",
   "execution_count": null,
   "id": "9aaac78b",
   "metadata": {},
   "outputs": [],
   "source": [
    "list(np.where(model.resid<-30000))"
   ]
  },
  {
   "cell_type": "code",
   "execution_count": null,
   "id": "9c01d0a1",
   "metadata": {},
   "outputs": [],
   "source": [
    "def standard_values(vals) : return (vals-vals.mean())/vals.std()"
   ]
  },
  {
   "cell_type": "code",
   "execution_count": null,
   "id": "44fb808c",
   "metadata": {},
   "outputs": [],
   "source": [
    "plt.scatter(standard_values(model.fittedvalues),standard_values(model.resid))\n",
    "plt.title('Residual Plot')\n",
    "plt.xlabel('standardized fitted values')\n",
    "plt.ylabel('standardized residual values')\n",
    "plt.show()"
   ]
  },
  {
   "cell_type": "code",
   "execution_count": null,
   "id": "03d3faba",
   "metadata": {},
   "outputs": [],
   "source": [
    "fig=plt.figure(figsize=(15,8))\n",
    "sm.graphics.plot_regress_exog(model,'RDS',fig=fig)\n",
    "plt.show()"
   ]
  },
  {
   "cell_type": "code",
   "execution_count": null,
   "id": "2b144c5f",
   "metadata": {},
   "outputs": [],
   "source": [
    "fig=plt.figure(figsize=(15,8))\n",
    "sm.graphics.plot_regress_exog(model,'ADMS',fig=fig)\n",
    "plt.show()"
   ]
  },
  {
   "cell_type": "code",
   "execution_count": null,
   "id": "29268326",
   "metadata": {},
   "outputs": [],
   "source": [
    "fig=plt.figure(figsize=(15,8))\n",
    "sm.graphics.plot_regress_exog(model,'MKTS',fig=fig)\n",
    "plt.show()"
   ]
  },
  {
   "cell_type": "code",
   "execution_count": null,
   "id": "628e9fa7",
   "metadata": {},
   "outputs": [],
   "source": [
    "(d,_)=model.get_influence().cooks_distance"
   ]
  },
  {
   "cell_type": "code",
   "execution_count": null,
   "id": "20e51abd",
   "metadata": {},
   "outputs": [],
   "source": [
    "d"
   ]
  },
  {
   "cell_type": "code",
   "execution_count": null,
   "id": "81ecddb6",
   "metadata": {},
   "outputs": [],
   "source": [
    "fig=plt.figure(figsize=(20,7))\n",
    "plt.stem(np.arange(len(df1)),np.round(d,5))\n",
    "plt.xlabel('Row Index')\n",
    "plt.ylabel('Cooks Distance')\n",
    "plt.show()"
   ]
  },
  {
   "cell_type": "code",
   "execution_count": null,
   "id": "79f9b72e",
   "metadata": {},
   "outputs": [],
   "source": [
    "np.argmax(d) , np.max(d)"
   ]
  },
  {
   "cell_type": "code",
   "execution_count": null,
   "id": "2a532f7b",
   "metadata": {},
   "outputs": [],
   "source": [
    "influence_plot(model)\n",
    "plt.show()"
   ]
  },
  {
   "cell_type": "code",
   "execution_count": null,
   "id": "71a68384",
   "metadata": {},
   "outputs": [],
   "source": [
    "k=df1.shape[1]\n",
    "n=df1.shape[0]\n",
    "leverage_cutoff = (3*(k+1))/n\n",
    "leverage_cutoff"
   ]
  },
  {
   "cell_type": "code",
   "execution_count": null,
   "id": "3e338ce9",
   "metadata": {},
   "outputs": [],
   "source": [
    "df1[df1.index.isin([49])]"
   ]
  },
  {
   "cell_type": "code",
   "execution_count": null,
   "id": "b89aad9b",
   "metadata": {},
   "outputs": [],
   "source": [
    "data2=df1.drop(df1.index[[49]],axis=0).reset_index(drop=True)\n",
    "data2"
   ]
  },
  {
   "cell_type": "code",
   "execution_count": null,
   "id": "e14884cf",
   "metadata": {},
   "outputs": [],
   "source": [
    "model2=smf.ols(\"Profit~RDS+ADMS+MKTS\",data=data2).fit()"
   ]
  },
  {
   "cell_type": "code",
   "execution_count": null,
   "id": "6534aa75",
   "metadata": {},
   "outputs": [],
   "source": [
    "while model2.rsquared < 0.99:\n",
    "    for d in [np.max(d)>1]:\n",
    "        model2=smf.ols(\"Profit~RDS+ADMS+MKTS\",data=data2).fit()\n",
    "        (d,_)=model2.get_influence().cooks_distance\n",
    "        d\n",
    "        np.argmax(d) , np.max(d)\n",
    "        data2=data2.drop(data2.index[[np.argmax(d)]],axis=0).reset_index(drop=True)\n",
    "        data2\n",
    "    else:\n",
    "        final_model=smf.ols(\"Profit~RDS+ADMS+MKTS\",data=data2).fit()\n",
    "        final_model.rsquared , final_model.aic\n",
    "        print(\"Thus model accuracy is improved to\",final_model.rsquared)"
   ]
  },
  {
   "cell_type": "code",
   "execution_count": null,
   "id": "3a7cdfc6",
   "metadata": {},
   "outputs": [],
   "source": [
    "final_model.rsquared"
   ]
  },
  {
   "cell_type": "code",
   "execution_count": null,
   "id": "91f18dfe",
   "metadata": {},
   "outputs": [],
   "source": [
    "data2"
   ]
  },
  {
   "cell_type": "code",
   "execution_count": null,
   "id": "aa793c25",
   "metadata": {},
   "outputs": [],
   "source": [
    "new_data=pd.DataFrame({'RDS':70000,\"ADMS\":90000,\"MKTS\":140000},index=[0])"
   ]
  },
  {
   "cell_type": "code",
   "execution_count": null,
   "id": "9348b307",
   "metadata": {},
   "outputs": [],
   "source": [
    "new_data"
   ]
  },
  {
   "cell_type": "code",
   "execution_count": null,
   "id": "e08df17d",
   "metadata": {},
   "outputs": [],
   "source": [
    "final_model.predict(new_data)"
   ]
  },
  {
   "cell_type": "code",
   "execution_count": null,
   "id": "88d66686",
   "metadata": {},
   "outputs": [],
   "source": [
    "pred_y=final_model.predict(data2)"
   ]
  },
  {
   "cell_type": "code",
   "execution_count": null,
   "id": "814d58a9",
   "metadata": {},
   "outputs": [],
   "source": [
    "pred_y"
   ]
  },
  {
   "cell_type": "code",
   "execution_count": null,
   "id": "b240be60",
   "metadata": {},
   "outputs": [],
   "source": [
    "d2={'Prep_Models':['Model','Final_Model'],'Rsquared':[model.rsquared,final_model.rsquared]}\n",
    "table=pd.DataFrame(d2)\n",
    "table"
   ]
  },
  {
   "cell_type": "code",
   "execution_count": null,
   "id": "c7fbefce",
   "metadata": {},
   "outputs": [],
   "source": [
    "# View the shape of the dataframe\n",
    "shape=df.shape\n",
    "print(\"Dataset contains {} rows and {} columns\".format(shape[0],shape[1]))"
   ]
  },
  {
   "cell_type": "code",
   "execution_count": null,
   "id": "06d4101b",
   "metadata": {},
   "outputs": [],
   "source": [
    "df.columns  # view all the columns in the dataframe"
   ]
  },
  {
   "cell_type": "code",
   "execution_count": null,
   "id": "5d13fbca",
   "metadata": {},
   "outputs": [],
   "source": [
    "# Statistical details of the dataset\n",
    "df.describe()"
   ]
  },
  {
   "cell_type": "code",
   "execution_count": null,
   "id": "80f2fe4e",
   "metadata": {},
   "outputs": [],
   "source": [
    "# Define X and Y\n",
    "x=df.iloc[:,:4]\n",
    "y=df.iloc[:,4]  # This is like extracting dependent and independent variables."
   ]
  },
  {
   "cell_type": "code",
   "execution_count": null,
   "id": "bf67b0e9",
   "metadata": {},
   "outputs": [],
   "source": [
    "# Perform One hot Encoding\n",
    "from sklearn.preprocessing import OneHotEncoder\n",
    "ohe=OneHotEncoder(sparse=False)\n",
    "x1=ohe.fit_transform(data2[['State']])"
   ]
  },
  {
   "cell_type": "code",
   "execution_count": null,
   "id": "ceac3930",
   "metadata": {},
   "outputs": [],
   "source": [
    "x1"
   ]
  },
  {
   "cell_type": "code",
   "execution_count": null,
   "id": "bafa8acf",
   "metadata": {},
   "outputs": [],
   "source": [
    "ohe.categories_"
   ]
  },
  {
   "cell_type": "code",
   "execution_count": null,
   "id": "47b794bf",
   "metadata": {},
   "outputs": [],
   "source": [
    "# Change columns using Column Transformer\n",
    "from sklearn.compose import make_column_transformer"
   ]
  },
  {
   "cell_type": "code",
   "execution_count": null,
   "id": "a6b33b73",
   "metadata": {},
   "outputs": [],
   "source": [
    "col_trans=make_column_transformer((OneHotEncoder(handle_unknown='ignore'),['State']),remainder='passthrough')"
   ]
  },
  {
   "cell_type": "code",
   "execution_count": null,
   "id": "c70c4a81",
   "metadata": {},
   "outputs": [],
   "source": [
    "x=col_trans.fit_transform(x)"
   ]
  },
  {
   "cell_type": "code",
   "execution_count": null,
   "id": "66369a2c",
   "metadata": {},
   "outputs": [],
   "source": [
    "# Split the Data set into Train Set and Test Set\n",
    "x_train,x_test,y_train,y_test=train_test_split(x,y,test_size=0.2,random_state=0)"
   ]
  },
  {
   "cell_type": "code",
   "execution_count": null,
   "id": "c2fc7a13",
   "metadata": {},
   "outputs": [],
   "source": [
    "#shape of the splitted data\n",
    "print(\"X_train:\",x_train.shape)\n",
    "print(\"X_test:\",x_test.shape)\n",
    "print(\"Y_train:\",y_train.shape)\n",
    "print(\"Y_test:\",y_test.shape)"
   ]
  },
  {
   "cell_type": "code",
   "execution_count": null,
   "id": "7db9b324",
   "metadata": {},
   "outputs": [],
   "source": [
    "#Train the model\n",
    "linreg=LinearRegression()\n",
    "linreg.fit(x_train,y_train)"
   ]
  },
  {
   "cell_type": "code",
   "execution_count": null,
   "id": "12814eaa",
   "metadata": {},
   "outputs": [],
   "source": [
    "#predict the Test Results\n",
    "y_pred=linreg.predict(x_test)\n",
    "y_pred"
   ]
  },
  {
   "cell_type": "code",
   "execution_count": null,
   "id": "d38398ff",
   "metadata": {},
   "outputs": [],
   "source": [
    "#Evaluate the model\n",
    "Accuracy=r2_score(y_test,y_pred)*100\n",
    "print(\"Accuracy of the model is %.2f\" %Accuracy)"
   ]
  },
  {
   "cell_type": "markdown",
   "id": "d13f658c",
   "metadata": {},
   "source": [
    "# Plot a graph Between Actual values & Predicted values"
   ]
  },
  {
   "cell_type": "code",
   "execution_count": null,
   "id": "b45a3441",
   "metadata": {},
   "outputs": [],
   "source": [
    "#Plot the results\n",
    "plt.scatter(y_test,y_pred);\n",
    "plt.xlabel('Actual');\n",
    "plt.ylabel('Predicted');"
   ]
  },
  {
   "cell_type": "code",
   "execution_count": null,
   "id": "62f0a6b9",
   "metadata": {},
   "outputs": [],
   "source": [
    "sns.regplot(x=y_test,y=y_pred,ci=None,color ='red');"
   ]
  },
  {
   "cell_type": "code",
   "execution_count": null,
   "id": "db67f45f",
   "metadata": {},
   "outputs": [],
   "source": [
    "#Predicted Values\n",
    "pred_df=pd.DataFrame({'Actual Value':y_test,'Predicted Value':y_pred,'Difference':y_test-y_pred})"
   ]
  },
  {
   "cell_type": "code",
   "execution_count": null,
   "id": "c8b1e7b7",
   "metadata": {},
   "outputs": [],
   "source": [
    "pred_df"
   ]
  },
  {
   "cell_type": "markdown",
   "id": "9770dcdb",
   "metadata": {},
   "source": [
    "========================================================First Question========================================================="
   ]
  },
  {
   "cell_type": "markdown",
   "id": "c09fb8e1",
   "metadata": {},
   "source": [
    "### 2.Consider only the below columns and prepare a prediction model for predicting Price.\n",
    "\n",
    "### Corolla<-Corolla[c(\"Price\",\"Age_08_04\",\"KM\",\"HP\",\"cc\",\"Doors\",\"Gears\",\"Quarterly_Tax\",\"Weight\")]\n",
    "\n",
    " \n",
    "\n",
    "#### Model -- model of the car\n",
    "#### Price  -- Offer Price in EUROs\t\n",
    "#### Age_08_04 -- Age in months as in August 2004\t\n",
    "#### Mfg_Month -- Manufacturing month (1-12)\t\n",
    "Mfg_Year\t-- Manufacturing Year\n",
    "KM -- Accumulated Kilometers on odometer\n",
    "Fuel_Type\t -- Fuel Type (Petrol, Diesel, CNG)\n",
    "HP -- Horse Power\n",
    "Met_Color\t -- Metallic Color?  (Yes=1, No=0)\n",
    "Color -- Color (Blue, Red, Grey, Silver, Black, etc.)\n",
    "Automatic\t-- Automatic ( (Yes=1, No=0)\n",
    "cc -- Cylinder Volume in cubic centimeters\n",
    "Doors -- Number of doors\n",
    "Cylinders\t-- Number of cylinders\n",
    "Gears -- Number of gear positions\n",
    "Quarterly_Tax -- Quarterly road tax in EUROs\n",
    "Weight -- Weight in Kilograms\n",
    "Mfr_Guarantee -- Within Manufacturer's Guarantee period  (Yes=1, No=0)\n",
    "BOVAG_Guarantee -- BOVAG (Dutch dealer network) Guarantee  (Yes=1, No=0)\n",
    "Guarantee_Period -- \tGuarantee period in months\n",
    "ABS -- Anti-Lock Brake System (Yes=1, No=0)\n",
    "Airbag_1 -- Driver_Airbag  (Yes=1, No=0)\n",
    "Airbag_2 -- Passenger Airbag  (Yes=1, No=0)\n",
    "Airco -- Airconditioning  (Yes=1, No=0)\n",
    "Automatic_airco -- Automatic Airconditioning  (Yes=1, No=0)\n",
    "Boardcomputer -- Boardcomputer  (Yes=1, No=0)\n",
    "CD_Player -- CD Player  (Yes=1, No=0)\n",
    "Central_Lock -- Central Lock  (Yes=1, No=0)\n",
    "Powered_Windows -- Powered Windows  (Yes=1, No=0)\n",
    "Power_Steering -- Power Steering  (Yes=1, No=0)\n",
    "Radio -- Radio  (Yes=1, No=0)\n",
    "Mistlamps\t-- Mistlamps  (Yes=1, No=0)\n",
    "Sport_Model -- Sport Model  (Yes=1, No=0)\n",
    "Backseat_Divider -- Backseat Divider  (Yes=1, No=0)\n",
    "Metallic_Rim --Metallic Rim  (Yes=1, No=0)\n",
    "Radio_cassette -- Radio Cassette  (Yes=1, No=0)\n",
    "Tow_Bar -- Tow Bar  (Yes=1, No=0)\n",
    "\n",
    "\n"
   ]
  },
  {
   "cell_type": "code",
   "execution_count": null,
   "id": "464885b2",
   "metadata": {},
   "outputs": [],
   "source": [
    "import pandas as pd\n",
    "import numpy as np\n",
    "import matplotlib.pyplot as plt\n",
    "import seaborn as sns\n",
    "import statsmodels.formula.api as smf\n",
    "import statsmodels.api as sm\n",
    "from statsmodels.graphics.regressionplots import influence_plot"
   ]
  },
  {
   "cell_type": "code",
   "execution_count": null,
   "id": "88d7a509",
   "metadata": {},
   "outputs": [],
   "source": [
    "help(pd.read_csv)"
   ]
  },
  {
   "cell_type": "code",
   "execution_count": null,
   "id": "4465444d",
   "metadata": {},
   "outputs": [],
   "source": [
    "toco=pd.read_csv('D:/MultiLinearRegression/ToyotaCorolla.csv',encoding='latin1');"
   ]
  },
  {
   "cell_type": "code",
   "execution_count": null,
   "id": "aedf4090",
   "metadata": {},
   "outputs": [],
   "source": [
    "toco"
   ]
  },
  {
   "cell_type": "code",
   "execution_count": null,
   "id": "b740950d",
   "metadata": {},
   "outputs": [],
   "source": [
    "toco.info()"
   ]
  },
  {
   "cell_type": "code",
   "execution_count": null,
   "id": "5c0f1b42",
   "metadata": {},
   "outputs": [],
   "source": [
    "toco.describe()"
   ]
  },
  {
   "cell_type": "code",
   "execution_count": null,
   "id": "cba5856e",
   "metadata": {},
   "outputs": [],
   "source": [
    "toco2=pd.concat([toco.iloc[:,2:4],toco.iloc[:,6:7],toco.iloc[:,8:9],toco.iloc[:,12:14],toco.iloc[:,15:18]],axis=1)"
   ]
  },
  {
   "cell_type": "code",
   "execution_count": null,
   "id": "969d02da",
   "metadata": {},
   "outputs": [],
   "source": [
    "toco2"
   ]
  },
  {
   "cell_type": "code",
   "execution_count": null,
   "id": "d39d0927",
   "metadata": {},
   "outputs": [],
   "source": [
    "toco3=toco2.rename({'Age_08_04':'Age','cc':'CC','Quarterly_Tax':'QT'},axis=1)"
   ]
  },
  {
   "cell_type": "code",
   "execution_count": null,
   "id": "4ac3562c",
   "metadata": {},
   "outputs": [],
   "source": [
    "toco3"
   ]
  },
  {
   "cell_type": "code",
   "execution_count": null,
   "id": "8b5388db",
   "metadata": {},
   "outputs": [],
   "source": [
    "toco3[toco3.duplicated()]"
   ]
  },
  {
   "cell_type": "code",
   "execution_count": null,
   "id": "ed73c145",
   "metadata": {},
   "outputs": [],
   "source": [
    "toco4=toco3.drop_duplicates().reset_index(drop=True)"
   ]
  },
  {
   "cell_type": "code",
   "execution_count": null,
   "id": "137e4d02",
   "metadata": {},
   "outputs": [],
   "source": [
    "toco4"
   ]
  },
  {
   "cell_type": "code",
   "execution_count": null,
   "id": "a05ee93d",
   "metadata": {},
   "outputs": [],
   "source": [
    "toco4.describe()"
   ]
  },
  {
   "cell_type": "code",
   "execution_count": null,
   "id": "c918c318",
   "metadata": {},
   "outputs": [],
   "source": [
    "toco4.corr()"
   ]
  },
  {
   "cell_type": "code",
   "execution_count": null,
   "id": "ac016b0f",
   "metadata": {},
   "outputs": [],
   "source": [
    "sns.set_style(style='darkgrid')\n",
    "sns.pairplot(toco4)"
   ]
  },
  {
   "cell_type": "code",
   "execution_count": null,
   "id": "01bcf9ca",
   "metadata": {},
   "outputs": [],
   "source": [
    "model=smf.ols('Price~Age+KM+HP+CC+Doors+Gears+QT+Weight',data=toco4).fit()"
   ]
  },
  {
   "cell_type": "code",
   "execution_count": null,
   "id": "5ea3016e",
   "metadata": {},
   "outputs": [],
   "source": [
    "model.params"
   ]
  },
  {
   "cell_type": "code",
   "execution_count": null,
   "id": "d05d681d",
   "metadata": {},
   "outputs": [],
   "source": [
    "model.tvalues, np.round(model.pvalues,5)"
   ]
  },
  {
   "cell_type": "code",
   "execution_count": null,
   "id": "98fb7895",
   "metadata": {},
   "outputs": [],
   "source": [
    "model.rsquared , model.rsquared_adj"
   ]
  },
  {
   "cell_type": "code",
   "execution_count": null,
   "id": "e25bdd32",
   "metadata": {},
   "outputs": [],
   "source": [
    "slr_c=smf.ols('Price~CC',data=toco4).fit()\n",
    "slr_c.tvalues , slr_c.pvalues"
   ]
  },
  {
   "cell_type": "code",
   "execution_count": null,
   "id": "92bec68d",
   "metadata": {},
   "outputs": [],
   "source": [
    "slr_d=smf.ols('Price~Doors',data=toco4).fit()\n",
    "slr_d.tvalues , slr_d.pvalues"
   ]
  },
  {
   "cell_type": "code",
   "execution_count": null,
   "id": "398875e3",
   "metadata": {},
   "outputs": [],
   "source": [
    "mlr_cd=smf.ols('Price~CC+Doors',data=toco4).fit()\n",
    "mlr_cd.tvalues , mlr_cd.pvalues"
   ]
  },
  {
   "cell_type": "code",
   "execution_count": null,
   "id": "f6969443",
   "metadata": {},
   "outputs": [],
   "source": [
    "rsq_age=smf.ols('Age~KM+HP+CC+Doors+Gears+QT+Weight',data=toco4).fit().rsquared\n",
    "vif_age=1/(1-rsq_age)\n",
    "\n",
    "rsq_KM=smf.ols('KM~Age+HP+CC+Doors+Gears+QT+Weight',data=toco4).fit().rsquared\n",
    "vif_KM=1/(1-rsq_KM)\n",
    "\n",
    "rsq_HP=smf.ols('HP~Age+KM+CC+Doors+Gears+QT+Weight',data=toco4).fit().rsquared\n",
    "vif_HP=1/(1-rsq_HP)\n",
    "\n",
    "rsq_CC=smf.ols('CC~Age+KM+HP+Doors+Gears+QT+Weight',data=toco4).fit().rsquared\n",
    "vif_CC=1/(1-rsq_CC)\n",
    "\n",
    "rsq_DR=smf.ols('Doors~Age+KM+HP+CC+Gears+QT+Weight',data=toco4).fit().rsquared\n",
    "vif_DR=1/(1-rsq_DR)\n",
    "\n",
    "rsq_GR=smf.ols('Gears~Age+KM+HP+CC+Doors+QT+Weight',data=toco4).fit().rsquared\n",
    "vif_GR=1/(1-rsq_GR)\n",
    "\n",
    "rsq_QT=smf.ols('QT~Age+KM+HP+CC+Doors+Gears+Weight',data=toco4).fit().rsquared\n",
    "vif_QT=1/(1-rsq_QT)\n",
    "\n",
    "rsq_WT=smf.ols('Weight~Age+KM+HP+CC+Doors+Gears+QT',data=toco4).fit().rsquared\n",
    "vif_WT=1/(1-rsq_WT)\n",
    "\n",
    "d1={'Variables':['Age','KM','HP','CC','Doors','Gears','QT','Weight'],\n",
    "    'Vif':[vif_age,vif_KM,vif_HP,vif_CC,vif_DR,vif_GR,vif_QT,vif_WT]}\n",
    "Vif_df=pd.DataFrame(d1)\n",
    "Vif_df\n"
   ]
  },
  {
   "cell_type": "code",
   "execution_count": null,
   "id": "5bbf0ba1",
   "metadata": {},
   "outputs": [],
   "source": [
    "sm.qqplot(model.resid,line='q')\n",
    "plt.title(\"Normal Q-Q plot of residuals\")\n",
    "plt.show"
   ]
  },
  {
   "cell_type": "code",
   "execution_count": null,
   "id": "d869612f",
   "metadata": {},
   "outputs": [],
   "source": [
    "list(np.where(model.resid>6000))"
   ]
  },
  {
   "cell_type": "code",
   "execution_count": null,
   "id": "9b8821c8",
   "metadata": {},
   "outputs": [],
   "source": [
    "list(np.where(model.resid<-6000))"
   ]
  },
  {
   "cell_type": "code",
   "execution_count": null,
   "id": "7702259a",
   "metadata": {},
   "outputs": [],
   "source": [
    "def standard_values(vals) : return (vals-vals.mean())/vals.std()"
   ]
  },
  {
   "cell_type": "code",
   "execution_count": null,
   "id": "c1e674aa",
   "metadata": {},
   "outputs": [],
   "source": [
    "plt.scatter(standard_values(model.fittedvalues),standard_values(model.resid))\n",
    "plt.title('Residual Plot')\n",
    "plt.xlabel('standardized fitted values')\n",
    "plt.ylabel('standardized residuals values')\n",
    "plt.show()"
   ]
  },
  {
   "cell_type": "code",
   "execution_count": null,
   "id": "846883a1",
   "metadata": {},
   "outputs": [],
   "source": [
    "fig=plt.figure(figsize=(15,8))\n",
    "sm.graphics.plot_regress_exog(model,'Age',fig=fig)\n",
    "plt.show()"
   ]
  },
  {
   "cell_type": "code",
   "execution_count": null,
   "id": "c02cbbd1",
   "metadata": {
    "scrolled": true
   },
   "outputs": [],
   "source": [
    "fig=plt.figure(figsize=(15,8))\n",
    "sm.graphics.plot_regress_exog(model,'KM',fig=fig)\n",
    "plt.show()"
   ]
  },
  {
   "cell_type": "code",
   "execution_count": null,
   "id": "e851c654",
   "metadata": {},
   "outputs": [],
   "source": [
    "fig=plt.figure(figsize=(15,8))\n",
    "sm.graphics.plot_regress_exog(model,'HP',fig=fig)\n",
    "plt.show()"
   ]
  },
  {
   "cell_type": "code",
   "execution_count": null,
   "id": "553bb1d1",
   "metadata": {},
   "outputs": [],
   "source": [
    "fig=plt.figure(figsize=(15,8))\n",
    "sm.graphics.plot_regress_exog(model,'CC',fig=fig)\n",
    "plt.show()"
   ]
  },
  {
   "cell_type": "code",
   "execution_count": null,
   "id": "40fd3d0a",
   "metadata": {},
   "outputs": [],
   "source": [
    "fig=plt.figure(figsize=(15,8))\n",
    "sm.graphics.plot_regress_exog(model,'Doors',fig=fig)\n",
    "plt.show()\n"
   ]
  },
  {
   "cell_type": "code",
   "execution_count": null,
   "id": "8a793b67",
   "metadata": {},
   "outputs": [],
   "source": [
    "fig=plt.figure(figsize=(15,8))\n",
    "sm.graphics.plot_regress_exog(model,'Gears',fig=fig)\n",
    "plt.show()"
   ]
  },
  {
   "cell_type": "code",
   "execution_count": null,
   "id": "3a0d6192",
   "metadata": {},
   "outputs": [],
   "source": [
    "fig=plt.figure(figsize=(15,8))\n",
    "sm.graphics.plot_regress_exog(model,'QT',fig=fig)\n",
    "plt.show()"
   ]
  },
  {
   "cell_type": "code",
   "execution_count": null,
   "id": "d527fa5f",
   "metadata": {},
   "outputs": [],
   "source": [
    "fig=plt.figure(figsize=(15,8))\n",
    "sm.graphics.plot_regress_exog(model,'Weight',fig=fig)\n",
    "plt.show()"
   ]
  },
  {
   "cell_type": "code",
   "execution_count": null,
   "id": "e8896572",
   "metadata": {},
   "outputs": [],
   "source": [
    "(c,_)=model.get_influence().cooks_distance"
   ]
  },
  {
   "cell_type": "code",
   "execution_count": null,
   "id": "c5efae3d",
   "metadata": {},
   "outputs": [],
   "source": [
    "c"
   ]
  },
  {
   "cell_type": "code",
   "execution_count": null,
   "id": "0a2f3ca2",
   "metadata": {},
   "outputs": [],
   "source": [
    "fig=plt.figure(figsize=(20,7))\n",
    "plt.stem(np.arange(len(toco4)),np.round(c,3))\n",
    "plt.xlabel('Row Index')\n",
    "plt.ylabel('Cooks distance')\n",
    "plt.show()"
   ]
  },
  {
   "cell_type": "code",
   "execution_count": null,
   "id": "91911cdc",
   "metadata": {},
   "outputs": [],
   "source": [
    "np.argmax(c), np.max(c)"
   ]
  },
  {
   "cell_type": "code",
   "execution_count": null,
   "id": "50ceab1f",
   "metadata": {},
   "outputs": [],
   "source": [
    "fig,ax=plt.subplots(figsize=(20,20))\n",
    "fig=influence_plot(model,ax = ax)"
   ]
  },
  {
   "cell_type": "code",
   "execution_count": null,
   "id": "0d737b0d",
   "metadata": {},
   "outputs": [],
   "source": [
    "k=toco4.shape[1]\n",
    "n=toco4.shape[0]\n",
    "leverage_cutoff = (3*(k+1))/n\n",
    "leverage_cutoff"
   ]
  },
  {
   "cell_type": "code",
   "execution_count": null,
   "id": "2457a119",
   "metadata": {},
   "outputs": [],
   "source": [
    "toco4[toco4.index.isin([80])]"
   ]
  },
  {
   "cell_type": "code",
   "execution_count": null,
   "id": "c6c1d943",
   "metadata": {},
   "outputs": [],
   "source": [
    "toco_new=toco4.copy()"
   ]
  },
  {
   "cell_type": "code",
   "execution_count": null,
   "id": "a598ec6e",
   "metadata": {},
   "outputs": [],
   "source": [
    "toco_new"
   ]
  },
  {
   "cell_type": "code",
   "execution_count": null,
   "id": "5b63b6fd",
   "metadata": {},
   "outputs": [],
   "source": [
    "toco5=toco_new.drop(toco_new.index[[80]],axis=0).reset_index(drop=True)"
   ]
  },
  {
   "cell_type": "code",
   "execution_count": null,
   "id": "b6455293",
   "metadata": {},
   "outputs": [],
   "source": [
    "toco5"
   ]
  },
  {
   "cell_type": "code",
   "execution_count": null,
   "id": "7d948b4e",
   "metadata": {},
   "outputs": [],
   "source": [
    "while np.max(c)>0.5 :\n",
    "    model=smf.ols('Price~Age+KM+HP+CC+Doors+Gears+QT+Weight',data=toco5).fit()\n",
    "    (c,_)=model.get_influence().cooks_distance\n",
    "    c\n",
    "    np.argmax(c) , np.max(c)\n",
    "    toco5=toco5.drop(toco5.index[[np.argmax(c)]],axis=0).reset_index(drop=True)\n",
    "    toco5\n",
    "else:\n",
    "    final_model=smf.ols('Price~Age+KM+HP+CC+Doors+Gears+QT+Weight',data=toco5).fit()\n",
    "    final_model.rsquared , final_model.aic\n",
    "    print(\"Thus model accuracy is improved to\",final_model.rsquared)\n"
   ]
  },
  {
   "cell_type": "code",
   "execution_count": null,
   "id": "91f185c8",
   "metadata": {},
   "outputs": [],
   "source": [
    "if np.max(c)>0.5:\n",
    "    model=smf.ols('Price~Age+KM+HP+CC+Doors+Gears+QT+Weight',data=toco5).fit()\n",
    "    (c,_)=model.get_influence().cooks_distance\n",
    "    c\n",
    "    np.argmax(c) , np.max(c)\n",
    "    toco5=toco5.drop(toco5.index[[np.argmax(c)]],axis=0).reset_index(drop=True)\n",
    "    toco5 \n",
    "elif np.max(c)<0.5:\n",
    "    final_model=smf.ols('Price~Age+KM+HP+CC+Doors+Gears+QT+Weight',data=toco5).fit()\n",
    "    final_model.rsquared , final_model.aic\n",
    "    print(\"Thus model accuracy is improved to\",final_model.rsquared)\n"
   ]
  },
  {
   "cell_type": "code",
   "execution_count": null,
   "id": "d9dc7ade",
   "metadata": {},
   "outputs": [],
   "source": [
    "final_model.rsquared"
   ]
  },
  {
   "cell_type": "code",
   "execution_count": null,
   "id": "cc59230d",
   "metadata": {},
   "outputs": [],
   "source": [
    "toco5"
   ]
  },
  {
   "cell_type": "code",
   "execution_count": null,
   "id": "b0317594",
   "metadata": {},
   "outputs": [],
   "source": [
    "new_data=pd.DataFrame({'Age':12,\"KM\":40000,\"HP\":80,\"CC\":1300,\"Doors\":4,\"Gears\":5,\"QT\":69,\"Weight\":1012},index=[0])"
   ]
  },
  {
   "cell_type": "code",
   "execution_count": null,
   "id": "024efebe",
   "metadata": {},
   "outputs": [],
   "source": [
    "new_data"
   ]
  },
  {
   "cell_type": "code",
   "execution_count": null,
   "id": "1dc61d5b",
   "metadata": {},
   "outputs": [],
   "source": [
    "final_model.predict(new_data)"
   ]
  },
  {
   "cell_type": "code",
   "execution_count": null,
   "id": "84cbba98",
   "metadata": {},
   "outputs": [],
   "source": [
    "pred_y=final_model.predict(toco5)"
   ]
  },
  {
   "cell_type": "code",
   "execution_count": null,
   "id": "56d232bc",
   "metadata": {},
   "outputs": [],
   "source": [
    "pred_y"
   ]
  },
  {
   "cell_type": "markdown",
   "id": "091a7ca7",
   "metadata": {},
   "source": [
    "# Ridge Regression"
   ]
  },
  {
   "cell_type": "code",
   "execution_count": null,
   "id": "3fd4646b",
   "metadata": {},
   "outputs": [],
   "source": []
  },
  {
   "cell_type": "code",
   "execution_count": null,
   "id": "ed5fe617",
   "metadata": {},
   "outputs": [],
   "source": []
  },
  {
   "cell_type": "code",
   "execution_count": null,
   "id": "211c9f39",
   "metadata": {},
   "outputs": [],
   "source": []
  },
  {
   "cell_type": "code",
   "execution_count": null,
   "id": "0e94d8da",
   "metadata": {},
   "outputs": [],
   "source": []
  },
  {
   "cell_type": "code",
   "execution_count": null,
   "id": "36047e82",
   "metadata": {},
   "outputs": [],
   "source": []
  },
  {
   "cell_type": "code",
   "execution_count": null,
   "id": "4e34e480",
   "metadata": {},
   "outputs": [],
   "source": []
  },
  {
   "cell_type": "code",
   "execution_count": null,
   "id": "2790d56b",
   "metadata": {},
   "outputs": [],
   "source": []
  },
  {
   "cell_type": "code",
   "execution_count": null,
   "id": "c6fbd7fb",
   "metadata": {},
   "outputs": [],
   "source": []
  },
  {
   "cell_type": "code",
   "execution_count": null,
   "id": "5d558cdf",
   "metadata": {},
   "outputs": [],
   "source": []
  },
  {
   "cell_type": "code",
   "execution_count": null,
   "id": "caea606a",
   "metadata": {},
   "outputs": [],
   "source": []
  },
  {
   "cell_type": "code",
   "execution_count": null,
   "id": "f3623303",
   "metadata": {},
   "outputs": [],
   "source": []
  },
  {
   "cell_type": "code",
   "execution_count": null,
   "id": "e6497ce7",
   "metadata": {},
   "outputs": [],
   "source": []
  },
  {
   "cell_type": "code",
   "execution_count": null,
   "id": "75448de0",
   "metadata": {},
   "outputs": [],
   "source": []
  },
  {
   "cell_type": "code",
   "execution_count": null,
   "id": "c06052bc",
   "metadata": {},
   "outputs": [],
   "source": []
  },
  {
   "cell_type": "code",
   "execution_count": null,
   "id": "b9ed38de",
   "metadata": {},
   "outputs": [],
   "source": []
  },
  {
   "cell_type": "code",
   "execution_count": null,
   "id": "0d7f8002",
   "metadata": {},
   "outputs": [],
   "source": []
  },
  {
   "cell_type": "code",
   "execution_count": null,
   "id": "efd2f2cd",
   "metadata": {},
   "outputs": [],
   "source": []
  },
  {
   "cell_type": "code",
   "execution_count": null,
   "id": "4f3a3f40",
   "metadata": {},
   "outputs": [],
   "source": []
  },
  {
   "cell_type": "code",
   "execution_count": null,
   "id": "eb39e3c2",
   "metadata": {},
   "outputs": [],
   "source": []
  },
  {
   "cell_type": "code",
   "execution_count": null,
   "id": "15bb9eea",
   "metadata": {},
   "outputs": [],
   "source": []
  },
  {
   "cell_type": "code",
   "execution_count": null,
   "id": "f9fc4883",
   "metadata": {},
   "outputs": [],
   "source": []
  },
  {
   "cell_type": "code",
   "execution_count": null,
   "id": "9c79a560",
   "metadata": {},
   "outputs": [],
   "source": []
  },
  {
   "cell_type": "code",
   "execution_count": null,
   "id": "fe71cf2f",
   "metadata": {},
   "outputs": [],
   "source": []
  },
  {
   "cell_type": "markdown",
   "id": "c906c1dc",
   "metadata": {},
   "source": [
    "==========================================================Second Question======================================================"
   ]
  },
  {
   "cell_type": "code",
   "execution_count": null,
   "id": "b3cacc83",
   "metadata": {},
   "outputs": [],
   "source": []
  }
 ],
 "metadata": {
  "kernelspec": {
   "display_name": "Python 3 (ipykernel)",
   "language": "python",
   "name": "python3"
  },
  "language_info": {
   "codemirror_mode": {
    "name": "ipython",
    "version": 3
   },
   "file_extension": ".py",
   "mimetype": "text/x-python",
   "name": "python",
   "nbconvert_exporter": "python",
   "pygments_lexer": "ipython3",
   "version": "3.9.12"
  }
 },
 "nbformat": 4,
 "nbformat_minor": 5
}
